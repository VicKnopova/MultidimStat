{
 "cells": [
  {
   "cell_type": "markdown",
   "id": "e34c0ca1",
   "metadata": {},
   "source": [
    "## Байєсівський підхід класифікації (Naive Bayes). \n",
    "\n",
    "Посилання на оригінал тут   [тут](https://www.analyticsvidhya.com/blog/2021/11/implementation-of-gaussian-naive-bayes-in-python-sklearn/), див. також \n",
    "[тут](https://machinelearningmastery.com/naive-bayes-classifier-scratch-python/)"
   ]
  },
  {
   "cell_type": "code",
   "execution_count": 1,
   "id": "521641a4",
   "metadata": {},
   "outputs": [],
   "source": [
    "import numpy as np \n",
    "import pandas as pd\n",
    "import matplotlib.pyplot as plt \n",
    "from sklearn.model_selection import train_test_split\n",
    "from sklearn.naive_bayes import GaussianNB\n",
    "import  math\n",
    "from sklearn.neighbors import KNeighborsClassifier\n",
    "from sklearn.preprocessing import LabelEncoder\n",
    "from sklearn.preprocessing import StandardScaler"
   ]
  },
  {
   "cell_type": "markdown",
   "id": "90a4d2b2",
   "metadata": {},
   "source": [
    "Завантажимо дані по дослідженням пацієнтів, які мають підозру на ракове захворення. "
   ]
  },
  {
   "cell_type": "code",
   "execution_count": 2,
   "id": "b28fa801",
   "metadata": {},
   "outputs": [
    {
     "data": {
      "text/html": [
       "<div>\n",
       "<style scoped>\n",
       "    .dataframe tbody tr th:only-of-type {\n",
       "        vertical-align: middle;\n",
       "    }\n",
       "\n",
       "    .dataframe tbody tr th {\n",
       "        vertical-align: top;\n",
       "    }\n",
       "\n",
       "    .dataframe thead th {\n",
       "        text-align: right;\n",
       "    }\n",
       "</style>\n",
       "<table border=\"1\" class=\"dataframe\">\n",
       "  <thead>\n",
       "    <tr style=\"text-align: right;\">\n",
       "      <th></th>\n",
       "      <th>id</th>\n",
       "      <th>diagnosis</th>\n",
       "      <th>radius_mean</th>\n",
       "      <th>texture_mean</th>\n",
       "      <th>perimeter_mean</th>\n",
       "      <th>area_mean</th>\n",
       "      <th>smoothness_mean</th>\n",
       "      <th>compactness_mean</th>\n",
       "      <th>concavity_mean</th>\n",
       "      <th>concave points_mean</th>\n",
       "      <th>...</th>\n",
       "      <th>texture_worst</th>\n",
       "      <th>perimeter_worst</th>\n",
       "      <th>area_worst</th>\n",
       "      <th>smoothness_worst</th>\n",
       "      <th>compactness_worst</th>\n",
       "      <th>concavity_worst</th>\n",
       "      <th>concave points_worst</th>\n",
       "      <th>symmetry_worst</th>\n",
       "      <th>fractal_dimension_worst</th>\n",
       "      <th>Unnamed: 32</th>\n",
       "    </tr>\n",
       "  </thead>\n",
       "  <tbody>\n",
       "    <tr>\n",
       "      <th>0</th>\n",
       "      <td>842302</td>\n",
       "      <td>M</td>\n",
       "      <td>17.99</td>\n",
       "      <td>10.38</td>\n",
       "      <td>122.80</td>\n",
       "      <td>1001.0</td>\n",
       "      <td>0.11840</td>\n",
       "      <td>0.27760</td>\n",
       "      <td>0.3001</td>\n",
       "      <td>0.14710</td>\n",
       "      <td>...</td>\n",
       "      <td>17.33</td>\n",
       "      <td>184.60</td>\n",
       "      <td>2019.0</td>\n",
       "      <td>0.1622</td>\n",
       "      <td>0.6656</td>\n",
       "      <td>0.7119</td>\n",
       "      <td>0.2654</td>\n",
       "      <td>0.4601</td>\n",
       "      <td>0.11890</td>\n",
       "      <td>NaN</td>\n",
       "    </tr>\n",
       "    <tr>\n",
       "      <th>1</th>\n",
       "      <td>842517</td>\n",
       "      <td>M</td>\n",
       "      <td>20.57</td>\n",
       "      <td>17.77</td>\n",
       "      <td>132.90</td>\n",
       "      <td>1326.0</td>\n",
       "      <td>0.08474</td>\n",
       "      <td>0.07864</td>\n",
       "      <td>0.0869</td>\n",
       "      <td>0.07017</td>\n",
       "      <td>...</td>\n",
       "      <td>23.41</td>\n",
       "      <td>158.80</td>\n",
       "      <td>1956.0</td>\n",
       "      <td>0.1238</td>\n",
       "      <td>0.1866</td>\n",
       "      <td>0.2416</td>\n",
       "      <td>0.1860</td>\n",
       "      <td>0.2750</td>\n",
       "      <td>0.08902</td>\n",
       "      <td>NaN</td>\n",
       "    </tr>\n",
       "    <tr>\n",
       "      <th>2</th>\n",
       "      <td>84300903</td>\n",
       "      <td>M</td>\n",
       "      <td>19.69</td>\n",
       "      <td>21.25</td>\n",
       "      <td>130.00</td>\n",
       "      <td>1203.0</td>\n",
       "      <td>0.10960</td>\n",
       "      <td>0.15990</td>\n",
       "      <td>0.1974</td>\n",
       "      <td>0.12790</td>\n",
       "      <td>...</td>\n",
       "      <td>25.53</td>\n",
       "      <td>152.50</td>\n",
       "      <td>1709.0</td>\n",
       "      <td>0.1444</td>\n",
       "      <td>0.4245</td>\n",
       "      <td>0.4504</td>\n",
       "      <td>0.2430</td>\n",
       "      <td>0.3613</td>\n",
       "      <td>0.08758</td>\n",
       "      <td>NaN</td>\n",
       "    </tr>\n",
       "    <tr>\n",
       "      <th>3</th>\n",
       "      <td>84348301</td>\n",
       "      <td>M</td>\n",
       "      <td>11.42</td>\n",
       "      <td>20.38</td>\n",
       "      <td>77.58</td>\n",
       "      <td>386.1</td>\n",
       "      <td>0.14250</td>\n",
       "      <td>0.28390</td>\n",
       "      <td>0.2414</td>\n",
       "      <td>0.10520</td>\n",
       "      <td>...</td>\n",
       "      <td>26.50</td>\n",
       "      <td>98.87</td>\n",
       "      <td>567.7</td>\n",
       "      <td>0.2098</td>\n",
       "      <td>0.8663</td>\n",
       "      <td>0.6869</td>\n",
       "      <td>0.2575</td>\n",
       "      <td>0.6638</td>\n",
       "      <td>0.17300</td>\n",
       "      <td>NaN</td>\n",
       "    </tr>\n",
       "    <tr>\n",
       "      <th>4</th>\n",
       "      <td>84358402</td>\n",
       "      <td>M</td>\n",
       "      <td>20.29</td>\n",
       "      <td>14.34</td>\n",
       "      <td>135.10</td>\n",
       "      <td>1297.0</td>\n",
       "      <td>0.10030</td>\n",
       "      <td>0.13280</td>\n",
       "      <td>0.1980</td>\n",
       "      <td>0.10430</td>\n",
       "      <td>...</td>\n",
       "      <td>16.67</td>\n",
       "      <td>152.20</td>\n",
       "      <td>1575.0</td>\n",
       "      <td>0.1374</td>\n",
       "      <td>0.2050</td>\n",
       "      <td>0.4000</td>\n",
       "      <td>0.1625</td>\n",
       "      <td>0.2364</td>\n",
       "      <td>0.07678</td>\n",
       "      <td>NaN</td>\n",
       "    </tr>\n",
       "  </tbody>\n",
       "</table>\n",
       "<p>5 rows × 33 columns</p>\n",
       "</div>"
      ],
      "text/plain": [
       "         id diagnosis  radius_mean  texture_mean  perimeter_mean  area_mean  \\\n",
       "0    842302         M        17.99         10.38          122.80     1001.0   \n",
       "1    842517         M        20.57         17.77          132.90     1326.0   \n",
       "2  84300903         M        19.69         21.25          130.00     1203.0   \n",
       "3  84348301         M        11.42         20.38           77.58      386.1   \n",
       "4  84358402         M        20.29         14.34          135.10     1297.0   \n",
       "\n",
       "   smoothness_mean  compactness_mean  concavity_mean  concave points_mean  \\\n",
       "0          0.11840           0.27760          0.3001              0.14710   \n",
       "1          0.08474           0.07864          0.0869              0.07017   \n",
       "2          0.10960           0.15990          0.1974              0.12790   \n",
       "3          0.14250           0.28390          0.2414              0.10520   \n",
       "4          0.10030           0.13280          0.1980              0.10430   \n",
       "\n",
       "   ...  texture_worst  perimeter_worst  area_worst  smoothness_worst  \\\n",
       "0  ...          17.33           184.60      2019.0            0.1622   \n",
       "1  ...          23.41           158.80      1956.0            0.1238   \n",
       "2  ...          25.53           152.50      1709.0            0.1444   \n",
       "3  ...          26.50            98.87       567.7            0.2098   \n",
       "4  ...          16.67           152.20      1575.0            0.1374   \n",
       "\n",
       "   compactness_worst  concavity_worst  concave points_worst  symmetry_worst  \\\n",
       "0             0.6656           0.7119                0.2654          0.4601   \n",
       "1             0.1866           0.2416                0.1860          0.2750   \n",
       "2             0.4245           0.4504                0.2430          0.3613   \n",
       "3             0.8663           0.6869                0.2575          0.6638   \n",
       "4             0.2050           0.4000                0.1625          0.2364   \n",
       "\n",
       "   fractal_dimension_worst  Unnamed: 32  \n",
       "0                  0.11890          NaN  \n",
       "1                  0.08902          NaN  \n",
       "2                  0.08758          NaN  \n",
       "3                  0.17300          NaN  \n",
       "4                  0.07678          NaN  \n",
       "\n",
       "[5 rows x 33 columns]"
      ]
     },
     "execution_count": 2,
     "metadata": {},
     "output_type": "execute_result"
    }
   ],
   "source": [
    "dataset = pd.read_csv(\"data.csv\")\n",
    "dataset.head()\n"
   ]
  },
  {
   "cell_type": "code",
   "execution_count": 3,
   "id": "5688be09",
   "metadata": {},
   "outputs": [
    {
     "name": "stdout",
     "output_type": "stream",
     "text": [
      "<class 'pandas.core.frame.DataFrame'>\n",
      "RangeIndex: 569 entries, 0 to 568\n",
      "Data columns (total 33 columns):\n",
      " #   Column                   Non-Null Count  Dtype  \n",
      "---  ------                   --------------  -----  \n",
      " 0   id                       569 non-null    int64  \n",
      " 1   diagnosis                569 non-null    object \n",
      " 2   radius_mean              569 non-null    float64\n",
      " 3   texture_mean             569 non-null    float64\n",
      " 4   perimeter_mean           569 non-null    float64\n",
      " 5   area_mean                569 non-null    float64\n",
      " 6   smoothness_mean          569 non-null    float64\n",
      " 7   compactness_mean         569 non-null    float64\n",
      " 8   concavity_mean           569 non-null    float64\n",
      " 9   concave points_mean      569 non-null    float64\n",
      " 10  symmetry_mean            569 non-null    float64\n",
      " 11  fractal_dimension_mean   569 non-null    float64\n",
      " 12  radius_se                569 non-null    float64\n",
      " 13  texture_se               569 non-null    float64\n",
      " 14  perimeter_se             569 non-null    float64\n",
      " 15  area_se                  569 non-null    float64\n",
      " 16  smoothness_se            569 non-null    float64\n",
      " 17  compactness_se           569 non-null    float64\n",
      " 18  concavity_se             569 non-null    float64\n",
      " 19  concave points_se        569 non-null    float64\n",
      " 20  symmetry_se              569 non-null    float64\n",
      " 21  fractal_dimension_se     569 non-null    float64\n",
      " 22  radius_worst             569 non-null    float64\n",
      " 23  texture_worst            569 non-null    float64\n",
      " 24  perimeter_worst          569 non-null    float64\n",
      " 25  area_worst               569 non-null    float64\n",
      " 26  smoothness_worst         569 non-null    float64\n",
      " 27  compactness_worst        569 non-null    float64\n",
      " 28  concavity_worst          569 non-null    float64\n",
      " 29  concave points_worst     569 non-null    float64\n",
      " 30  symmetry_worst           569 non-null    float64\n",
      " 31  fractal_dimension_worst  569 non-null    float64\n",
      " 32  Unnamed: 32              0 non-null      float64\n",
      "dtypes: float64(31), int64(1), object(1)\n",
      "memory usage: 146.8+ KB\n"
     ]
    }
   ],
   "source": [
    "dataset.info()"
   ]
  },
  {
   "cell_type": "markdown",
   "id": "363e0e40",
   "metadata": {},
   "source": [
    "Видалимо колонки id та Unnamed (перша та остання колонки), тому що вони не підходять для аналізу. "
   ]
  },
  {
   "cell_type": "code",
   "execution_count": 4,
   "id": "db50b282",
   "metadata": {},
   "outputs": [],
   "source": [
    "dataset = dataset.drop([\"id\"], axis = 1)\n",
    "dataset = dataset.drop([\"Unnamed: 32\"], axis = 1)"
   ]
  },
  {
   "cell_type": "markdown",
   "id": "83df63fe",
   "metadata": {},
   "source": [
    "Візуалізуємо дані. Тут Malignant та  Bening - відповідно, злоякісні і доброякісні пухлини. "
   ]
  },
  {
   "cell_type": "code",
   "execution_count": 5,
   "id": "dcb8f314",
   "metadata": {},
   "outputs": [],
   "source": [
    "M = dataset[dataset.diagnosis == \"M\"]\n",
    "B = dataset[dataset.diagnosis == \"B\"]"
   ]
  },
  {
   "cell_type": "code",
   "execution_count": 6,
   "id": "52aec041",
   "metadata": {},
   "outputs": [
    {
     "data": {
      "image/png": "[encoded data removed]",
      "text/plain": [
       "<Figure size 432x288 with 1 Axes>"
      ]
     },
     "metadata": {
      "needs_background": "light"
     },
     "output_type": "display_data"
    }
   ],
   "source": [
    "plt.title(\"Злоякісна  vs  Доброякісна\")\n",
    "plt.xlabel(\"Середній радіус\")\n",
    "plt.ylabel(\"Середнє значення текстури\")\n",
    "plt.scatter(M.radius_mean, M.texture_mean, color = \"red\", label = \"Злоякісна\", alpha = 0.3)\n",
    "plt.scatter(B.radius_mean, B.texture_mean, color = \"lime\", label = \"Доброякісна\", alpha = 0.3)\n",
    "plt.legend()\n",
    "plt.show()"
   ]
  },
  {
   "cell_type": "markdown",
   "id": "afe9bd5b",
   "metadata": {},
   "source": [
    "Як ми бачимо на картинці, дані можна розділити на дві групи. Тепер зробимо класифікацію. Спочатку поділимо на групи."
   ]
  },
  {
   "cell_type": "code",
   "execution_count": 7,
   "id": "4b5053bb",
   "metadata": {},
   "outputs": [
    {
     "data": {
      "text/plain": [
       "0      M\n",
       "1      M\n",
       "2      M\n",
       "3      M\n",
       "4      M\n",
       "      ..\n",
       "564    M\n",
       "565    M\n",
       "566    M\n",
       "567    M\n",
       "568    B\n",
       "Name: diagnosis, Length: 569, dtype: object"
      ]
     },
     "execution_count": 7,
     "metadata": {},
     "output_type": "execute_result"
    }
   ],
   "source": [
    "dataset.diagnosis\n"
   ]
  },
  {
   "cell_type": "markdown",
   "id": "044e1739",
   "metadata": {},
   "source": [
    "Замінимо тепер М і В на 1 і 0, відповідно. "
   ]
  },
  {
   "cell_type": "code",
   "execution_count": 8,
   "id": "eb3f714f",
   "metadata": {},
   "outputs": [
    {
     "data": {
      "text/plain": [
       "0      1\n",
       "1      1\n",
       "2      1\n",
       "3      1\n",
       "4      1\n",
       "      ..\n",
       "564    1\n",
       "565    1\n",
       "566    1\n",
       "567    1\n",
       "568    0\n",
       "Name: diagnosis, Length: 569, dtype: int64"
      ]
     },
     "execution_count": 8,
     "metadata": {},
     "output_type": "execute_result"
    }
   ],
   "source": [
    "dataset.diagnosis = [1 if i == \"M\" else 0 for i in dataset.diagnosis]\n",
    "dataset.diagnosis"
   ]
  },
  {
   "cell_type": "markdown",
   "id": "993e8f34",
   "metadata": {},
   "source": [
    "Тепер розділимо дані на змінні і результат. Змінні у нас тепер змінні $x$- це всі дані dataset, крім diagnosis, а diagnosis- це наш результат, тобто $y$. "
   ]
  },
  {
   "cell_type": "code",
   "execution_count": 9,
   "id": "b715fe85",
   "metadata": {},
   "outputs": [],
   "source": [
    "x = dataset.drop([\"diagnosis\"], axis = 1)\n",
    "y = dataset.diagnosis.values"
   ]
  },
  {
   "cell_type": "markdown",
   "id": "5719696e",
   "metadata": {},
   "source": [
    "Перш ніж проводити аналів, стандартизуємо дані. "
   ]
  },
  {
   "cell_type": "code",
   "execution_count": 10,
   "id": "4fff5841",
   "metadata": {},
   "outputs": [
    {
     "name": "stderr",
     "output_type": "stream",
     "text": [
      "C:\\Users\\vica\\anaconda3\\envs\\EnvironmentVica\\lib\\site-packages\\numpy\\core\\fromnumeric.py:84: FutureWarning: In a future version, DataFrame.min(axis=None) will return a scalar min over the entire DataFrame. To retain the old behavior, use 'frame.min(axis=0)' or just 'frame.min()'\n",
      "  return reduction(axis=axis, out=out, **passkwargs)\n",
      "C:\\Users\\vica\\anaconda3\\envs\\EnvironmentVica\\lib\\site-packages\\numpy\\core\\fromnumeric.py:84: FutureWarning: In a future version, DataFrame.max(axis=None) will return a scalar max over the entire DataFrame. To retain the old behavior, use 'frame.max(axis=0)' or just 'frame.max()'\n",
      "  return reduction(axis=axis, out=out, **passkwargs)\n"
     ]
    },
    {
     "data": {
      "text/html": [
       "<div>\n",
       "<style scoped>\n",
       "    .dataframe tbody tr th:only-of-type {\n",
       "        vertical-align: middle;\n",
       "    }\n",
       "\n",
       "    .dataframe tbody tr th {\n",
       "        vertical-align: top;\n",
       "    }\n",
       "\n",
       "    .dataframe thead th {\n",
       "        text-align: right;\n",
       "    }\n",
       "</style>\n",
       "<table border=\"1\" class=\"dataframe\">\n",
       "  <thead>\n",
       "    <tr style=\"text-align: right;\">\n",
       "      <th></th>\n",
       "      <th>radius_mean</th>\n",
       "      <th>texture_mean</th>\n",
       "      <th>perimeter_mean</th>\n",
       "      <th>area_mean</th>\n",
       "      <th>smoothness_mean</th>\n",
       "      <th>compactness_mean</th>\n",
       "      <th>concavity_mean</th>\n",
       "      <th>concave points_mean</th>\n",
       "      <th>symmetry_mean</th>\n",
       "      <th>fractal_dimension_mean</th>\n",
       "      <th>...</th>\n",
       "      <th>radius_worst</th>\n",
       "      <th>texture_worst</th>\n",
       "      <th>perimeter_worst</th>\n",
       "      <th>area_worst</th>\n",
       "      <th>smoothness_worst</th>\n",
       "      <th>compactness_worst</th>\n",
       "      <th>concavity_worst</th>\n",
       "      <th>concave points_worst</th>\n",
       "      <th>symmetry_worst</th>\n",
       "      <th>fractal_dimension_worst</th>\n",
       "    </tr>\n",
       "  </thead>\n",
       "  <tbody>\n",
       "    <tr>\n",
       "      <th>0</th>\n",
       "      <td>0.521037</td>\n",
       "      <td>0.022658</td>\n",
       "      <td>0.545989</td>\n",
       "      <td>0.363733</td>\n",
       "      <td>0.593753</td>\n",
       "      <td>0.792037</td>\n",
       "      <td>0.703140</td>\n",
       "      <td>0.731113</td>\n",
       "      <td>0.686364</td>\n",
       "      <td>0.605518</td>\n",
       "      <td>...</td>\n",
       "      <td>0.620776</td>\n",
       "      <td>0.141525</td>\n",
       "      <td>0.668310</td>\n",
       "      <td>0.450698</td>\n",
       "      <td>0.601136</td>\n",
       "      <td>0.619292</td>\n",
       "      <td>0.568610</td>\n",
       "      <td>0.912027</td>\n",
       "      <td>0.598462</td>\n",
       "      <td>0.418864</td>\n",
       "    </tr>\n",
       "    <tr>\n",
       "      <th>1</th>\n",
       "      <td>0.643144</td>\n",
       "      <td>0.272574</td>\n",
       "      <td>0.615783</td>\n",
       "      <td>0.501591</td>\n",
       "      <td>0.289880</td>\n",
       "      <td>0.181768</td>\n",
       "      <td>0.203608</td>\n",
       "      <td>0.348757</td>\n",
       "      <td>0.379798</td>\n",
       "      <td>0.141323</td>\n",
       "      <td>...</td>\n",
       "      <td>0.606901</td>\n",
       "      <td>0.303571</td>\n",
       "      <td>0.539818</td>\n",
       "      <td>0.435214</td>\n",
       "      <td>0.347553</td>\n",
       "      <td>0.154563</td>\n",
       "      <td>0.192971</td>\n",
       "      <td>0.639175</td>\n",
       "      <td>0.233590</td>\n",
       "      <td>0.222878</td>\n",
       "    </tr>\n",
       "    <tr>\n",
       "      <th>2</th>\n",
       "      <td>0.601496</td>\n",
       "      <td>0.390260</td>\n",
       "      <td>0.595743</td>\n",
       "      <td>0.449417</td>\n",
       "      <td>0.514309</td>\n",
       "      <td>0.431017</td>\n",
       "      <td>0.462512</td>\n",
       "      <td>0.635686</td>\n",
       "      <td>0.509596</td>\n",
       "      <td>0.211247</td>\n",
       "      <td>...</td>\n",
       "      <td>0.556386</td>\n",
       "      <td>0.360075</td>\n",
       "      <td>0.508442</td>\n",
       "      <td>0.374508</td>\n",
       "      <td>0.483590</td>\n",
       "      <td>0.385375</td>\n",
       "      <td>0.359744</td>\n",
       "      <td>0.835052</td>\n",
       "      <td>0.403706</td>\n",
       "      <td>0.213433</td>\n",
       "    </tr>\n",
       "    <tr>\n",
       "      <th>3</th>\n",
       "      <td>0.210090</td>\n",
       "      <td>0.360839</td>\n",
       "      <td>0.233501</td>\n",
       "      <td>0.102906</td>\n",
       "      <td>0.811321</td>\n",
       "      <td>0.811361</td>\n",
       "      <td>0.565604</td>\n",
       "      <td>0.522863</td>\n",
       "      <td>0.776263</td>\n",
       "      <td>1.000000</td>\n",
       "      <td>...</td>\n",
       "      <td>0.248310</td>\n",
       "      <td>0.385928</td>\n",
       "      <td>0.241347</td>\n",
       "      <td>0.094008</td>\n",
       "      <td>0.915472</td>\n",
       "      <td>0.814012</td>\n",
       "      <td>0.548642</td>\n",
       "      <td>0.884880</td>\n",
       "      <td>1.000000</td>\n",
       "      <td>0.773711</td>\n",
       "    </tr>\n",
       "    <tr>\n",
       "      <th>4</th>\n",
       "      <td>0.629893</td>\n",
       "      <td>0.156578</td>\n",
       "      <td>0.630986</td>\n",
       "      <td>0.489290</td>\n",
       "      <td>0.430351</td>\n",
       "      <td>0.347893</td>\n",
       "      <td>0.463918</td>\n",
       "      <td>0.518390</td>\n",
       "      <td>0.378283</td>\n",
       "      <td>0.186816</td>\n",
       "      <td>...</td>\n",
       "      <td>0.519744</td>\n",
       "      <td>0.123934</td>\n",
       "      <td>0.506948</td>\n",
       "      <td>0.341575</td>\n",
       "      <td>0.437364</td>\n",
       "      <td>0.172415</td>\n",
       "      <td>0.319489</td>\n",
       "      <td>0.558419</td>\n",
       "      <td>0.157500</td>\n",
       "      <td>0.142595</td>\n",
       "    </tr>\n",
       "    <tr>\n",
       "      <th>...</th>\n",
       "      <td>...</td>\n",
       "      <td>...</td>\n",
       "      <td>...</td>\n",
       "      <td>...</td>\n",
       "      <td>...</td>\n",
       "      <td>...</td>\n",
       "      <td>...</td>\n",
       "      <td>...</td>\n",
       "      <td>...</td>\n",
       "      <td>...</td>\n",
       "      <td>...</td>\n",
       "      <td>...</td>\n",
       "      <td>...</td>\n",
       "      <td>...</td>\n",
       "      <td>...</td>\n",
       "      <td>...</td>\n",
       "      <td>...</td>\n",
       "      <td>...</td>\n",
       "      <td>...</td>\n",
       "      <td>...</td>\n",
       "      <td>...</td>\n",
       "    </tr>\n",
       "    <tr>\n",
       "      <th>564</th>\n",
       "      <td>0.690000</td>\n",
       "      <td>0.428813</td>\n",
       "      <td>0.678668</td>\n",
       "      <td>0.566490</td>\n",
       "      <td>0.526948</td>\n",
       "      <td>0.296055</td>\n",
       "      <td>0.571462</td>\n",
       "      <td>0.690358</td>\n",
       "      <td>0.336364</td>\n",
       "      <td>0.132056</td>\n",
       "      <td>...</td>\n",
       "      <td>0.623266</td>\n",
       "      <td>0.383262</td>\n",
       "      <td>0.576174</td>\n",
       "      <td>0.452664</td>\n",
       "      <td>0.461137</td>\n",
       "      <td>0.178527</td>\n",
       "      <td>0.328035</td>\n",
       "      <td>0.761512</td>\n",
       "      <td>0.097575</td>\n",
       "      <td>0.105667</td>\n",
       "    </tr>\n",
       "    <tr>\n",
       "      <th>565</th>\n",
       "      <td>0.622320</td>\n",
       "      <td>0.626987</td>\n",
       "      <td>0.604036</td>\n",
       "      <td>0.474019</td>\n",
       "      <td>0.407782</td>\n",
       "      <td>0.257714</td>\n",
       "      <td>0.337395</td>\n",
       "      <td>0.486630</td>\n",
       "      <td>0.349495</td>\n",
       "      <td>0.113100</td>\n",
       "      <td>...</td>\n",
       "      <td>0.560655</td>\n",
       "      <td>0.699094</td>\n",
       "      <td>0.520892</td>\n",
       "      <td>0.379915</td>\n",
       "      <td>0.300007</td>\n",
       "      <td>0.159997</td>\n",
       "      <td>0.256789</td>\n",
       "      <td>0.559450</td>\n",
       "      <td>0.198502</td>\n",
       "      <td>0.074315</td>\n",
       "    </tr>\n",
       "    <tr>\n",
       "      <th>566</th>\n",
       "      <td>0.455251</td>\n",
       "      <td>0.621238</td>\n",
       "      <td>0.445788</td>\n",
       "      <td>0.303118</td>\n",
       "      <td>0.288165</td>\n",
       "      <td>0.254340</td>\n",
       "      <td>0.216753</td>\n",
       "      <td>0.263519</td>\n",
       "      <td>0.267677</td>\n",
       "      <td>0.137321</td>\n",
       "      <td>...</td>\n",
       "      <td>0.393099</td>\n",
       "      <td>0.589019</td>\n",
       "      <td>0.379949</td>\n",
       "      <td>0.230731</td>\n",
       "      <td>0.282177</td>\n",
       "      <td>0.273705</td>\n",
       "      <td>0.271805</td>\n",
       "      <td>0.487285</td>\n",
       "      <td>0.128721</td>\n",
       "      <td>0.151909</td>\n",
       "    </tr>\n",
       "    <tr>\n",
       "      <th>567</th>\n",
       "      <td>0.644564</td>\n",
       "      <td>0.663510</td>\n",
       "      <td>0.665538</td>\n",
       "      <td>0.475716</td>\n",
       "      <td>0.588336</td>\n",
       "      <td>0.790197</td>\n",
       "      <td>0.823336</td>\n",
       "      <td>0.755467</td>\n",
       "      <td>0.675253</td>\n",
       "      <td>0.425442</td>\n",
       "      <td>...</td>\n",
       "      <td>0.633582</td>\n",
       "      <td>0.730277</td>\n",
       "      <td>0.668310</td>\n",
       "      <td>0.402035</td>\n",
       "      <td>0.619626</td>\n",
       "      <td>0.815758</td>\n",
       "      <td>0.749760</td>\n",
       "      <td>0.910653</td>\n",
       "      <td>0.497142</td>\n",
       "      <td>0.452315</td>\n",
       "    </tr>\n",
       "    <tr>\n",
       "      <th>568</th>\n",
       "      <td>0.036869</td>\n",
       "      <td>0.501522</td>\n",
       "      <td>0.028540</td>\n",
       "      <td>0.015907</td>\n",
       "      <td>0.000000</td>\n",
       "      <td>0.074351</td>\n",
       "      <td>0.000000</td>\n",
       "      <td>0.000000</td>\n",
       "      <td>0.266162</td>\n",
       "      <td>0.187026</td>\n",
       "      <td>...</td>\n",
       "      <td>0.054287</td>\n",
       "      <td>0.489072</td>\n",
       "      <td>0.043578</td>\n",
       "      <td>0.020497</td>\n",
       "      <td>0.124084</td>\n",
       "      <td>0.036043</td>\n",
       "      <td>0.000000</td>\n",
       "      <td>0.000000</td>\n",
       "      <td>0.257441</td>\n",
       "      <td>0.100682</td>\n",
       "    </tr>\n",
       "  </tbody>\n",
       "</table>\n",
       "<p>569 rows × 30 columns</p>\n",
       "</div>"
      ],
      "text/plain": [
       "     radius_mean  texture_mean  perimeter_mean  area_mean  smoothness_mean  \\\n",
       "0       0.521037      0.022658        0.545989   0.363733         0.593753   \n",
       "1       0.643144      0.272574        0.615783   0.501591         0.289880   \n",
       "2       0.601496      0.390260        0.595743   0.449417         0.514309   \n",
       "3       0.210090      0.360839        0.233501   0.102906         0.811321   \n",
       "4       0.629893      0.156578        0.630986   0.489290         0.430351   \n",
       "..           ...           ...             ...        ...              ...   \n",
       "564     0.690000      0.428813        0.678668   0.566490         0.526948   \n",
       "565     0.622320      0.626987        0.604036   0.474019         0.407782   \n",
       "566     0.455251      0.621238        0.445788   0.303118         0.288165   \n",
       "567     0.644564      0.663510        0.665538   0.475716         0.588336   \n",
       "568     0.036869      0.501522        0.028540   0.015907         0.000000   \n",
       "\n",
       "     compactness_mean  concavity_mean  concave points_mean  symmetry_mean  \\\n",
       "0            0.792037        0.703140             0.731113       0.686364   \n",
       "1            0.181768        0.203608             0.348757       0.379798   \n",
       "2            0.431017        0.462512             0.635686       0.509596   \n",
       "3            0.811361        0.565604             0.522863       0.776263   \n",
       "4            0.347893        0.463918             0.518390       0.378283   \n",
       "..                ...             ...                  ...            ...   \n",
       "564          0.296055        0.571462             0.690358       0.336364   \n",
       "565          0.257714        0.337395             0.486630       0.349495   \n",
       "566          0.254340        0.216753             0.263519       0.267677   \n",
       "567          0.790197        0.823336             0.755467       0.675253   \n",
       "568          0.074351        0.000000             0.000000       0.266162   \n",
       "\n",
       "     fractal_dimension_mean  ...  radius_worst  texture_worst  \\\n",
       "0                  0.605518  ...      0.620776       0.141525   \n",
       "1                  0.141323  ...      0.606901       0.303571   \n",
       "2                  0.211247  ...      0.556386       0.360075   \n",
       "3                  1.000000  ...      0.248310       0.385928   \n",
       "4                  0.186816  ...      0.519744       0.123934   \n",
       "..                      ...  ...           ...            ...   \n",
       "564                0.132056  ...      0.623266       0.383262   \n",
       "565                0.113100  ...      0.560655       0.699094   \n",
       "566                0.137321  ...      0.393099       0.589019   \n",
       "567                0.425442  ...      0.633582       0.730277   \n",
       "568                0.187026  ...      0.054287       0.489072   \n",
       "\n",
       "     perimeter_worst  area_worst  smoothness_worst  compactness_worst  \\\n",
       "0           0.668310    0.450698          0.601136           0.619292   \n",
       "1           0.539818    0.435214          0.347553           0.154563   \n",
       "2           0.508442    0.374508          0.483590           0.385375   \n",
       "3           0.241347    0.094008          0.915472           0.814012   \n",
       "4           0.506948    0.341575          0.437364           0.172415   \n",
       "..               ...         ...               ...                ...   \n",
       "564         0.576174    0.452664          0.461137           0.178527   \n",
       "565         0.520892    0.379915          0.300007           0.159997   \n",
       "566         0.379949    0.230731          0.282177           0.273705   \n",
       "567         0.668310    0.402035          0.619626           0.815758   \n",
       "568         0.043578    0.020497          0.124084           0.036043   \n",
       "\n",
       "     concavity_worst  concave points_worst  symmetry_worst  \\\n",
       "0           0.568610              0.912027        0.598462   \n",
       "1           0.192971              0.639175        0.233590   \n",
       "2           0.359744              0.835052        0.403706   \n",
       "3           0.548642              0.884880        1.000000   \n",
       "4           0.319489              0.558419        0.157500   \n",
       "..               ...                   ...             ...   \n",
       "564         0.328035              0.761512        0.097575   \n",
       "565         0.256789              0.559450        0.198502   \n",
       "566         0.271805              0.487285        0.128721   \n",
       "567         0.749760              0.910653        0.497142   \n",
       "568         0.000000              0.000000        0.257441   \n",
       "\n",
       "     fractal_dimension_worst  \n",
       "0                   0.418864  \n",
       "1                   0.222878  \n",
       "2                   0.213433  \n",
       "3                   0.773711  \n",
       "4                   0.142595  \n",
       "..                       ...  \n",
       "564                 0.105667  \n",
       "565                 0.074315  \n",
       "566                 0.151909  \n",
       "567                 0.452315  \n",
       "568                 0.100682  \n",
       "\n",
       "[569 rows x 30 columns]"
      ]
     },
     "execution_count": 10,
     "metadata": {},
     "output_type": "execute_result"
    }
   ],
   "source": [
    "x = (x-np.min(x))/(np.max(x) - np.min(x))\n",
    "x"
   ]
  },
  {
   "cell_type": "markdown",
   "id": "9a237197",
   "metadata": {},
   "source": [
    "Розіб'ємо тепер дані на 2 множини- навчальний набір та тестовий набір. Використаємо пакет sklearn.  "
   ]
  },
  {
   "cell_type": "code",
   "execution_count": 11,
   "id": "2ca1c519",
   "metadata": {},
   "outputs": [],
   "source": [
    "x_train, x_test, y_train, y_test = train_test_split(x, y, test_size = 0.3, random_state = 1)"
   ]
  },
  {
   "cell_type": "markdown",
   "id": "742e1392",
   "metadata": {},
   "source": [
    "Тепер ми завантажимо модуль Gaussian Naive Bayes з  SKlearn GaussianNB. Далі ми визначимо класифікатор, та застосуємо його до множин x_train та  y_train. "
   ]
  },
  {
   "cell_type": "code",
   "execution_count": 12,
   "id": "ce11dfe0",
   "metadata": {},
   "outputs": [
    {
     "data": {
      "text/plain": [
       "GaussianNB()"
      ]
     },
     "execution_count": 12,
     "metadata": {},
     "output_type": "execute_result"
    }
   ],
   "source": [
    "classifier = GaussianNB()\n",
    "classifier.fit(x_train, y_train)"
   ]
  },
  {
   "cell_type": "markdown",
   "id": "1487da4e",
   "metadata": {},
   "source": [
    "Перевіримо, наскільки вірно зроблена коасифікація. "
   ]
  },
  {
   "cell_type": "code",
   "execution_count": 13,
   "id": "5fbe297d",
   "metadata": {},
   "outputs": [],
   "source": [
    "y_pred  =  classifier.predict(x_test)"
   ]
  },
  {
   "cell_type": "code",
   "execution_count": 14,
   "id": "f24b7fba",
   "metadata": {},
   "outputs": [
    {
     "name": "stdout",
     "output_type": "stream",
     "text": [
      "[[1 0]\n",
      " [1 1]\n",
      " [0 0]\n",
      " [1 1]\n",
      " [0 1]\n",
      " [1 1]\n",
      " [1 1]\n",
      " [1 1]\n",
      " [0 0]\n",
      " [0 0]\n",
      " [0 0]\n",
      " [1 1]\n",
      " [1 1]\n",
      " [0 0]\n",
      " [0 0]\n",
      " [0 0]\n",
      " [0 0]\n",
      " [0 0]\n",
      " [0 0]\n",
      " [1 1]\n",
      " [0 0]\n",
      " [0 0]\n",
      " [1 1]\n",
      " [0 0]\n",
      " [1 1]\n",
      " [0 0]\n",
      " [0 0]\n",
      " [1 1]\n",
      " [1 1]\n",
      " [1 1]\n",
      " [1 1]\n",
      " [0 0]\n",
      " [1 1]\n",
      " [1 1]\n",
      " [0 0]\n",
      " [0 0]\n",
      " [1 1]\n",
      " [0 0]\n",
      " [0 1]\n",
      " [0 0]\n",
      " [0 0]\n",
      " [0 0]\n",
      " [0 0]\n",
      " [0 0]\n",
      " [0 0]\n",
      " [1 1]\n",
      " [0 0]\n",
      " [0 0]\n",
      " [0 0]\n",
      " [1 1]\n",
      " [1 1]\n",
      " [1 1]\n",
      " [0 0]\n",
      " [0 0]\n",
      " [0 0]\n",
      " [0 0]\n",
      " [0 0]\n",
      " [1 1]\n",
      " [0 0]\n",
      " [0 0]\n",
      " [0 0]\n",
      " [1 1]\n",
      " [0 0]\n",
      " [0 0]\n",
      " [0 0]\n",
      " [0 0]\n",
      " [0 0]\n",
      " [1 1]\n",
      " [0 0]\n",
      " [0 0]\n",
      " [0 0]\n",
      " [0 0]\n",
      " [0 1]\n",
      " [1 1]\n",
      " [0 0]\n",
      " [1 1]\n",
      " [1 1]\n",
      " [0 1]\n",
      " [0 0]\n",
      " [1 1]\n",
      " [0 0]\n",
      " [1 1]\n",
      " [0 0]\n",
      " [1 1]\n",
      " [0 0]\n",
      " [0 0]\n",
      " [1 1]\n",
      " [0 0]\n",
      " [1 1]\n",
      " [0 0]\n",
      " [0 0]\n",
      " [1 1]\n",
      " [0 0]\n",
      " [0 0]\n",
      " [1 1]\n",
      " [1 1]\n",
      " [0 0]\n",
      " [0 0]\n",
      " [0 0]\n",
      " [0 0]\n",
      " [0 0]\n",
      " [0 0]\n",
      " [0 0]\n",
      " [0 0]\n",
      " [0 0]\n",
      " [0 0]\n",
      " [0 0]\n",
      " [0 0]\n",
      " [1 1]\n",
      " [1 1]\n",
      " [1 1]\n",
      " [1 0]\n",
      " [0 0]\n",
      " [0 0]\n",
      " [1 1]\n",
      " [1 1]\n",
      " [0 0]\n",
      " [0 0]\n",
      " [0 0]\n",
      " [0 0]\n",
      " [0 0]\n",
      " [1 1]\n",
      " [1 1]\n",
      " [0 0]\n",
      " [0 0]\n",
      " [1 1]\n",
      " [1 1]\n",
      " [1 0]\n",
      " [1 1]\n",
      " [1 1]\n",
      " [0 0]\n",
      " [1 0]\n",
      " [0 0]\n",
      " [1 1]\n",
      " [0 0]\n",
      " [1 1]\n",
      " [1 1]\n",
      " [0 0]\n",
      " [0 0]\n",
      " [0 0]\n",
      " [0 1]\n",
      " [1 1]\n",
      " [0 0]\n",
      " [1 1]\n",
      " [0 0]\n",
      " [1 1]\n",
      " [0 0]\n",
      " [0 0]\n",
      " [0 0]\n",
      " [1 1]\n",
      " [0 0]\n",
      " [0 0]\n",
      " [0 0]\n",
      " [1 1]\n",
      " [0 0]\n",
      " [0 0]\n",
      " [1 0]\n",
      " [1 0]\n",
      " [0 0]\n",
      " [0 0]\n",
      " [0 0]\n",
      " [0 0]\n",
      " [0 0]\n",
      " [1 1]\n",
      " [0 0]\n",
      " [0 0]\n",
      " [1 1]\n",
      " [1 1]\n",
      " [1 1]\n",
      " [0 0]\n",
      " [0 0]]\n"
     ]
    }
   ],
   "source": [
    "Y = np.matrix([y_pred,y_test]).T\n",
    "print(Y)"
   ]
  },
  {
   "cell_type": "markdown",
   "id": "3f0afd0f",
   "metadata": {},
   "source": [
    "Завантажимо тепер confusion_matrix та accuracy_score. confusion_matrix (матриця невідповідностей) дає інформацію про те, скільки елементів класифіковане неправильно. Точність прогнозу у цьому випадку дорівнює $(102+58)/171 \\sim 0.94$. "
   ]
  },
  {
   "cell_type": "code",
   "execution_count": 15,
   "id": "3787a32c",
   "metadata": {},
   "outputs": [
    {
     "name": "stdout",
     "output_type": "stream",
     "text": [
      "[[102   6]\n",
      " [  5  58]]\n",
      "0.935672514619883\n"
     ]
    }
   ],
   "source": [
    "from sklearn.metrics import confusion_matrix,accuracy_score\n",
    "cm = confusion_matrix(y_test, y_pred)\n",
    "ac = accuracy_score(y_test,y_pred)\n",
    "print(cm)\n",
    "print(ac)"
   ]
  },
  {
   "cell_type": "markdown",
   "id": "d4f35a2c",
   "metadata": {},
   "source": [
    "Всього тут 171 даних."
   ]
  },
  {
   "cell_type": "markdown",
   "id": "96226fb7",
   "metadata": {},
   "source": [
    "Зробимо тепер цю процедуру вручну. \n",
    "Візьмемо 70% даних, обчислимо середні та коваріаційну матриці окремо в групах, в яких пухлини злоякісні і доброякісні"
   ]
  },
  {
   "cell_type": "code",
   "execution_count": 16,
   "id": "0b64586c",
   "metadata": {},
   "outputs": [],
   "source": [
    "data = np.array(dataset, dtype = float)\n",
    "data_train = data[0:398,:]\n",
    "data_test = data[398:,:]"
   ]
  },
  {
   "cell_type": "markdown",
   "id": "4c0a77b5",
   "metadata": {},
   "source": [
    "Виділяємо групи по тому, якого рода пухлина, в тренувальній та тестовий групах. "
   ]
  },
  {
   "cell_type": "code",
   "execution_count": 17,
   "id": "ecc7e5fd",
   "metadata": {},
   "outputs": [
    {
     "data": {
      "text/plain": [
       "171"
      ]
     },
     "execution_count": 17,
     "metadata": {},
     "output_type": "execute_result"
    }
   ],
   "source": [
    "M1 = data_train[data_train[:,0]== 1]\n",
    "M_train = M1[:,1:]\n",
    "B1 = data_train[data_train[:,0] == 0]\n",
    "B_train = B1[:,1:]\n",
    "\n",
    "M2 = data_test[data_test[:,0]== 1]\n",
    "M_test = M2[:,1:]\n",
    "B2 = data_test[data_test[:,0] == 0]\n",
    "B_test = B2[:,1:]\n",
    "len(B_test)+len(M_test)"
   ]
  },
  {
   "cell_type": "markdown",
   "id": "41f7dfe9",
   "metadata": {},
   "source": [
    "Визначимо тепер щільність  багатовимірного нормального розподілу з середнім $m$ та коваріацією $S$. "
   ]
  },
  {
   "cell_type": "code",
   "execution_count": 18,
   "id": "28cf039b",
   "metadata": {},
   "outputs": [],
   "source": [
    "def ln_f(z,m,S):\n",
    "    return - 0.5* np.log(np.linalg.det(S))- np.dot((z-m).T, np.dot(np.linalg.inv(S),z-m))"
   ]
  },
  {
   "cell_type": "markdown",
   "id": "6bbd2cc2",
   "metadata": {},
   "source": [
    "Тепер визначимо в тренувальній групі середнє та коваріацію. "
   ]
  },
  {
   "cell_type": "code",
   "execution_count": 19,
   "id": "c901921e",
   "metadata": {},
   "outputs": [],
   "source": [
    "M_train_mean = np.mean(M_train, axis = 0)\n",
    "M_train_cov = np.cov(M_train, rowvar = False)\n",
    "B_train_mean = np.mean(B_train, axis = 0)\n",
    "B_train_cov = np.cov(B_train, rowvar = False)"
   ]
  },
  {
   "cell_type": "markdown",
   "id": "621c6377",
   "metadata": {},
   "source": [
    "А тепер проведемо класифікацію на тестовій групі. Ми класифікуємо спостереження до 1ї групи, якщо \n",
    "$$\n",
    "f(y|G_1)> f(y|G_2), \n",
    "$$\n",
    "і до другої, якщо виконана протилежна нерівніть. Зараз ми будемо вважати, що кожен випадок з рівною ймовірністю може належати або до групи доброякісних, або до групи злоякісних пухлин.  Спочатку подивимось, скільки злоякісних пухлин ми класифікувати правильно: "
   ]
  },
  {
   "cell_type": "code",
   "execution_count": 20,
   "id": "ecff30f7",
   "metadata": {},
   "outputs": [
    {
     "name": "stdout",
     "output_type": "stream",
     "text": [
      "39 0\n"
     ]
    }
   ],
   "source": [
    "count = []\n",
    "k = 0\n",
    "for i in range(len(M_test)): \n",
    "    z = M_test[i,:]\n",
    "    if ln_f(z,M_train_mean,M_train_cov) > ln_f(z,B_train_mean,B_train_cov): \n",
    "        count.append(1)\n",
    "        k+=1\n",
    "    else: \n",
    "        count.append(0)\n",
    "#print(count)\n",
    "print(k,len(count)-k)"
   ]
  },
  {
   "cell_type": "markdown",
   "id": "1bb2a4b3",
   "metadata": {},
   "source": [
    "Отже, всі злоякісні пухлини класифіковані вірно. Зробимо те саме з доброякісними: "
   ]
  },
  {
   "cell_type": "code",
   "execution_count": 21,
   "id": "22adc4df",
   "metadata": {},
   "outputs": [
    {
     "name": "stdout",
     "output_type": "stream",
     "text": [
      "23 109\n"
     ]
    }
   ],
   "source": [
    "count = []\n",
    "m = 0\n",
    "for i in range(len(B_test)): \n",
    "    z = B_test[i,:]\n",
    "    if ln_f(z,B_train_mean,B_train_cov) > ln_f(z,M_train_mean,M_train_cov): \n",
    "        count.append(1)\n",
    "        m+=1\n",
    "    else: \n",
    "        count.append(0)\n",
    "#print(count)\n",
    "print(len(count)-m,m)"
   ]
  },
  {
   "cell_type": "markdown",
   "id": "2be73eba",
   "metadata": {},
   "source": [
    "Тут ситуація гірша, ми непроавильно класифікували 23 випадки. Порахуємо тепер відсоток вдало класифікованих випадків: "
   ]
  },
  {
   "cell_type": "code",
   "execution_count": 22,
   "id": "b7269d40",
   "metadata": {},
   "outputs": [
    {
     "name": "stdout",
     "output_type": "stream",
     "text": [
      "0.8654970760233918\n"
     ]
    }
   ],
   "source": [
    "def p(a,b):\n",
    "    return (a+b)/(len(B_test)+ len(M_test))\n",
    "   \n",
    "print(p(k,m))"
   ]
  },
  {
   "cell_type": "markdown",
   "id": "46d3813f",
   "metadata": {},
   "source": [
    "Отже, приблизно $87\\% $ класифіковано правильно. Результат відрізняється від того,що ми отримали, використовуючи бібліотеку sklearn, оскільки там розбиття на підгрупи було випадкове, і процедура використовує більш вишуканий алгоритм (див. довументацію [тут](http://i.stanford.edu/pub/cstr/reports/cs/tr/79/773/CS-TR-79-773.pdf\n",
    "), але результат має такий самий порядок. "
   ]
  },
  {
   "cell_type": "markdown",
   "id": "ea556ed4",
   "metadata": {},
   "source": [
    "Врахуємо тепер обсяги доброякісних і злоякісних пухлин в тренувальній вибірці  вибірці. Маємо  39 злоякісних, та 23+109 = 132  доброякісні,  в сумі 171 випадок. Виходячи з цього, покладемо $p1= 62/171$ ймовірність того, що пухлина злоякісна, та $p2= 1-62/171$ ймовірність того, що пухлина доброякісна. "
   ]
  },
  {
   "cell_type": "code",
   "execution_count": 59,
   "id": "361098ec",
   "metadata": {},
   "outputs": [],
   "source": [
    "p1 = 20/171\n",
    "p2 = 1- 20/171"
   ]
  },
  {
   "cell_type": "markdown",
   "id": "5583c268",
   "metadata": {},
   "source": [
    "Використаємо тепер попередній алгоритм, але враховуючи ці ймовірності. \n",
    "Ми класифікуємо спостереження до 1ї групи, якщо \n",
    "$$\n",
    "p_1 f(y|G_1)>  p_2 f(y|G_2), \n",
    "$$\n",
    "і до другої, якщо виконана протилежна нерівніть.\n",
    "\n",
    "Отримаємо: "
   ]
  },
  {
   "cell_type": "code",
   "execution_count": 60,
   "id": "6ca98599",
   "metadata": {},
   "outputs": [
    {
     "name": "stdout",
     "output_type": "stream",
     "text": [
      "39 0\n"
     ]
    }
   ],
   "source": [
    "count = []\n",
    "k = 0\n",
    "for i in range(len(M_test)): \n",
    "    z = M_test[i,:]\n",
    "    if np.log(p1)+ ln_f(z,M_train_mean,M_train_cov) > np.log(p2) + ln_f(z,B_train_mean,B_train_cov): \n",
    "        count.append(1)\n",
    "        k+=1\n",
    "    else: \n",
    "        count.append(0)\n",
    "#print(count)\n",
    "print(k,len(count)-k)"
   ]
  },
  {
   "cell_type": "code",
   "execution_count": 61,
   "id": "6025bf89",
   "metadata": {},
   "outputs": [
    {
     "name": "stdout",
     "output_type": "stream",
     "text": [
      "17 115\n"
     ]
    }
   ],
   "source": [
    "count = []\n",
    "m = 0\n",
    "for i in range(len(B_test)): \n",
    "    z = B_test[i,:]\n",
    "    if np.log(p2)+ ln_f(z,B_train_mean,B_train_cov) > np.log(p1) + ln_f(z,M_train_mean,M_train_cov): \n",
    "        count.append(1)\n",
    "        m+=1\n",
    "    else: \n",
    "        count.append(0)\n",
    "#print(count)\n",
    "print(len(count)-m,m)"
   ]
  },
  {
   "cell_type": "code",
   "execution_count": 62,
   "id": "e05ccf8d",
   "metadata": {},
   "outputs": [
    {
     "name": "stdout",
     "output_type": "stream",
     "text": [
      "0.9005847953216374\n"
     ]
    }
   ],
   "source": [
    "print(p(k,m))"
   ]
  },
  {
   "cell_type": "markdown",
   "id": "065fee89",
   "metadata": {},
   "source": [
    "Отже, ймовірність правильної класифікації у цьому випадку більше, як і очікувалось. "
   ]
  },
  {
   "cell_type": "markdown",
   "id": "f8cc4775",
   "metadata": {},
   "source": [
    "Будуємо ядерні оцінкі щільності на відрізку $(\\min(train), \\max(train)$, а саме, на  $[10,40]$. "
   ]
  },
  {
   "cell_type": "code",
   "execution_count": 64,
   "id": "c2ac42b1",
   "metadata": {},
   "outputs": [],
   "source": [
    "M12_train = M1[:,2]\n",
    "B12_train = B1[:,2]\n",
    "\n",
    "M12_test = M2[:,2]\n",
    "B12_test = B2[:,2]"
   ]
  },
  {
   "cell_type": "code",
   "execution_count": 65,
   "id": "3cded4b6",
   "metadata": {},
   "outputs": [
    {
     "name": "stdout",
     "output_type": "stream",
     "text": [
      "10.38 39.28\n"
     ]
    }
   ],
   "source": [
    "print(np.min(M12_train), np.max(M12_train))"
   ]
  },
  {
   "cell_type": "code",
   "execution_count": 66,
   "id": "001a3749",
   "metadata": {},
   "outputs": [],
   "source": [
    "N = 20\n",
    "h = 0.1\n",
    "x1 = np.linspace(10, 40, N, endpoint=True)"
   ]
  },
  {
   "cell_type": "markdown",
   "id": "532421f0",
   "metadata": {},
   "source": [
    "Будуємо оцінку щільності\n",
    "$$\n",
    "\\hat{f} (y_0)= \\frac{1}{nh} \\sum_{i=1}^n K \\left(\\frac{y_0-y_i}{h}\\right),\n",
    "$$\n",
    "де \n",
    "$$\n",
    "K(x) = \\frac{1}{2\\pi } e^{-|x|^2/2}. \n",
    "$$"
   ]
  },
  {
   "cell_type": "code",
   "execution_count": 67,
   "id": "91371a60",
   "metadata": {},
   "outputs": [],
   "source": [
    "def K(w): \n",
    "    return  (2*math.pi)**(-1/2) * (np.exp(-0.5* w**2))"
   ]
  },
  {
   "cell_type": "code",
   "execution_count": 68,
   "id": "46404098",
   "metadata": {},
   "outputs": [],
   "source": [
    "def f(u,v):\n",
    "    return [sum(((N*h)**(-1/2)) * K((v1-u1)/h) for v1 in v) for u1 in u]"
   ]
  },
  {
   "cell_type": "markdown",
   "id": "c5b0e92a",
   "metadata": {},
   "source": [
    "Зробимо тепер класифікацію, використовуючи цю функцію. "
   ]
  },
  {
   "cell_type": "code",
   "execution_count": 69,
   "id": "29877b1a",
   "metadata": {},
   "outputs": [
    {
     "name": "stdout",
     "output_type": "stream",
     "text": [
      "17 22\n"
     ]
    }
   ],
   "source": [
    "count = []\n",
    "k = 0\n",
    "for i in range(39): \n",
    "    if f(M12_test,x1)[i] > f(B12_test,x1)[i]: \n",
    "        count.append(1)\n",
    "        k+=1\n",
    "    else: \n",
    "        count.append(0)\n",
    "#print(count)\n",
    "print(k,len(count)-k)"
   ]
  },
  {
   "cell_type": "markdown",
   "id": "4158a755",
   "metadata": {},
   "source": [
    "Тобто наша ''ручна підгонка'' щільності розподілу виявилася не дуже вдалою. Зробимо підгонку, використовуючи sklearn."
   ]
  },
  {
   "cell_type": "code",
   "execution_count": 71,
   "id": "6975fd16",
   "metadata": {},
   "outputs": [
    {
     "data": {
      "text/plain": [
       "KernelDensity()"
      ]
     },
     "execution_count": 71,
     "metadata": {},
     "output_type": "execute_result"
    }
   ],
   "source": [
    "from sklearn.neighbors import KernelDensity\n",
    "\n",
    "kde = KernelDensity(bandwidth=1.0, kernel='gaussian')\n",
    "kde.fit(M12_test[:,None])"
   ]
  },
  {
   "cell_type": "markdown",
   "id": "3cdf1b15",
   "metadata": {},
   "source": [
    "Функція score_samples  повертає логарифм ймовірнісної щільності. Побудуємо тепер графік щільності, використовуючи точки $x1$. "
   ]
  },
  {
   "cell_type": "code",
   "execution_count": 72,
   "id": "1faf54c6",
   "metadata": {},
   "outputs": [
    {
     "data": {
      "image/png": "[encoded data removed]",
      "text/plain": [
       "<Figure size 432x288 with 1 Axes>"
      ]
     },
     "metadata": {
      "needs_background": "light"
     },
     "output_type": "display_data"
    }
   ],
   "source": [
    "logprob = kde.score_samples(x1[:, None])\n",
    "plt.fill_between(x1, np.exp(logprob), alpha=0.5)\n",
    "plt.show()"
   ]
  },
  {
   "cell_type": "markdown",
   "id": "5abfd2b6",
   "metadata": {},
   "source": [
    "Не дуже схоже на нормальний, може, більше підходить зсунений хі-квадрат. "
   ]
  },
  {
   "cell_type": "markdown",
   "id": "09f17a41",
   "metadata": {},
   "source": [
    "Якщо ми припускаємо, що у нас однакові коваріаційні матриці ( в принципі, це треба перевіряти), можна порахувати $S_{pl}$ та робити класифікацію, використовуючи цю матрицю. Побачимо, як це працює. "
   ]
  },
  {
   "cell_type": "code",
   "execution_count": 34,
   "id": "c1825d54",
   "metadata": {},
   "outputs": [],
   "source": [
    "M_new = M.filter(['radius_mean', 'texture_mean'])\n",
    "M_new = np.array(M_new, dtype = float)\n",
    "B_new = B.filter(['radius_mean', 'texture_mean'])\n",
    "B_new = np.array(B_new, dtype = float)"
   ]
  },
  {
   "cell_type": "code",
   "execution_count": 35,
   "id": "fe14f1bd",
   "metadata": {},
   "outputs": [
    {
     "name": "stdout",
     "output_type": "stream",
     "text": [
      "[12.14652381 17.9147619 ]\n",
      "[17.46283019 21.60490566]\n"
     ]
    }
   ],
   "source": [
    "M_mean = np.mean(M_new, axis = 0)\n",
    "B_mean = np.mean(B_new, axis = 0 )\n",
    "M_cov = np.cov(M_new, rowvar = False)\n",
    "B_cov = np.cov(B_new, rowvar = False)\n",
    "print(B_mean)\n",
    "print(M_mean)"
   ]
  },
  {
   "cell_type": "code",
   "execution_count": 73,
   "id": "f871f002",
   "metadata": {},
   "outputs": [],
   "source": [
    "Spl = ((len(M_new)-1)* M_cov + (len(B_new)-1)* B_cov )/(len(M_new)+ len(B_new)-2)"
   ]
  },
  {
   "cell_type": "code",
   "execution_count": 37,
   "id": "dfedcc11",
   "metadata": {},
   "outputs": [],
   "source": [
    "def L(z,V,p):\n",
    "    return np.log(p) + np.dot(V.T, np.dot(np.linalg.inv(Spl),z))- 0.5* np.dot(V.T, np.dot(np.linalg.inv(Spl),V))"
   ]
  },
  {
   "cell_type": "code",
   "execution_count": 38,
   "id": "7741c24c",
   "metadata": {},
   "outputs": [],
   "source": [
    "p1 = 0.5\n",
    "p2 = 0.5"
   ]
  },
  {
   "cell_type": "code",
   "execution_count": 74,
   "id": "58d414b7",
   "metadata": {},
   "outputs": [],
   "source": [
    "def f(U,V):\n",
    "    countU = []\n",
    "    k = 0\n",
    "    for i in range(len(U)): \n",
    "        z = U[i,:]\n",
    "        if L(z,B_mean,p1) > L(z,M_mean,p2): \n",
    "            countU.append(1)\n",
    "            k+=1\n",
    "        else: \n",
    "            countU.append(0)\n",
    "    #print(count)\n",
    "    print(k,len(countU)-k)\n",
    "    countV = []\n",
    "    m = 0\n",
    "    for i in range(len(V)): \n",
    "        w = V[i,:]\n",
    "        if L(w,M_mean,p1) > L(w,B_mean,p2): \n",
    "            countV.append(1)\n",
    "            m+=1\n",
    "        else: \n",
    "            countV.append(0)\n",
    "    p = (m+ k)/(len(countV)+len(countU))\n",
    "    print(len(countV)-m,m)\n",
    "    print(p)"
   ]
  },
  {
   "cell_type": "code",
   "execution_count": 40,
   "id": "243c70fd",
   "metadata": {},
   "outputs": [
    {
     "name": "stdout",
     "output_type": "stream",
     "text": [
      "336 21\n",
      "39 173\n",
      "0.8945518453427065\n"
     ]
    }
   ],
   "source": [
    "f(B_new,M_new)"
   ]
  },
  {
   "cell_type": "markdown",
   "id": "de3cd545",
   "metadata": {},
   "source": [
    "## Метод  $k$ найближчих сусідів (KNN). "
   ]
  },
  {
   "cell_type": "markdown",
   "id": "4f6151c2",
   "metadata": {},
   "source": [
    "Застосуємо тепер до того ж датасету   метод $k$  найближчих сусідів. Ми фіксуємо $k$, і обираємо метрику, в  якій рахуємо відстань.  "
   ]
  },
  {
   "cell_type": "code",
   "execution_count": 41,
   "id": "cd30c6b9",
   "metadata": {},
   "outputs": [
    {
     "data": {
      "text/plain": [
       "KNeighborsClassifier()"
      ]
     },
     "execution_count": 41,
     "metadata": {},
     "output_type": "execute_result"
    }
   ],
   "source": [
    "classifier = KNeighborsClassifier(n_neighbors = 5, metric = 'minkowski', p = 2)\n",
    "classifier.fit(x_train, y_train)"
   ]
  },
  {
   "cell_type": "markdown",
   "id": "3d7cae5a",
   "metadata": {},
   "source": [
    "Ми обрали  $k=5$ сусідів та  метрику Мінковського\n",
    "    $$\n",
    "    d_p(x,y)= \\left(\\sum_{i=1}^n (x_i-y_i)^p \\right)^{1/p} \n",
    "    $$\n",
    "    з $p=2$. "
   ]
  },
  {
   "cell_type": "code",
   "execution_count": 42,
   "id": "410ac758",
   "metadata": {},
   "outputs": [
    {
     "name": "stdout",
     "output_type": "stream",
     "text": [
      "[[107   1]\n",
      " [  6  57]]\n",
      "0.9590643274853801\n"
     ]
    }
   ],
   "source": [
    "y_pred = classifier.predict(x_test)\n",
    "cm = confusion_matrix(y_test, y_pred)\n",
    "ac = accuracy_score(y_test,y_pred)\n",
    "print(cm)\n",
    "print(ac)"
   ]
  },
  {
   "cell_type": "markdown",
   "id": "534b64ff",
   "metadata": {},
   "source": [
    "Розглянемо ще один приклад (див. посилання [тут](https://www.analyticsvidhya.com/blog/2021/01/a-quick-introduction-to-k-nearest-neighbor-knn-classification-using-python/)). Зчитаємо наступну таблицю соціологічних даних. "
   ]
  },
  {
   "cell_type": "code",
   "execution_count": 43,
   "id": "6a6c4da2",
   "metadata": {},
   "outputs": [
    {
     "data": {
      "text/html": [
       "<div>\n",
       "<style scoped>\n",
       "    .dataframe tbody tr th:only-of-type {\n",
       "        vertical-align: middle;\n",
       "    }\n",
       "\n",
       "    .dataframe tbody tr th {\n",
       "        vertical-align: top;\n",
       "    }\n",
       "\n",
       "    .dataframe thead th {\n",
       "        text-align: right;\n",
       "    }\n",
       "</style>\n",
       "<table border=\"1\" class=\"dataframe\">\n",
       "  <thead>\n",
       "    <tr style=\"text-align: right;\">\n",
       "      <th></th>\n",
       "      <th>User ID</th>\n",
       "      <th>Gender</th>\n",
       "      <th>Age</th>\n",
       "      <th>EstimatedSalary</th>\n",
       "      <th>Purchased</th>\n",
       "    </tr>\n",
       "  </thead>\n",
       "  <tbody>\n",
       "    <tr>\n",
       "      <th>0</th>\n",
       "      <td>15624510</td>\n",
       "      <td>Male</td>\n",
       "      <td>19</td>\n",
       "      <td>19000</td>\n",
       "      <td>0</td>\n",
       "    </tr>\n",
       "    <tr>\n",
       "      <th>1</th>\n",
       "      <td>15810944</td>\n",
       "      <td>Male</td>\n",
       "      <td>35</td>\n",
       "      <td>20000</td>\n",
       "      <td>0</td>\n",
       "    </tr>\n",
       "    <tr>\n",
       "      <th>2</th>\n",
       "      <td>15668575</td>\n",
       "      <td>Female</td>\n",
       "      <td>26</td>\n",
       "      <td>43000</td>\n",
       "      <td>0</td>\n",
       "    </tr>\n",
       "    <tr>\n",
       "      <th>3</th>\n",
       "      <td>15603246</td>\n",
       "      <td>Female</td>\n",
       "      <td>27</td>\n",
       "      <td>57000</td>\n",
       "      <td>0</td>\n",
       "    </tr>\n",
       "    <tr>\n",
       "      <th>4</th>\n",
       "      <td>15804002</td>\n",
       "      <td>Male</td>\n",
       "      <td>19</td>\n",
       "      <td>76000</td>\n",
       "      <td>0</td>\n",
       "    </tr>\n",
       "    <tr>\n",
       "      <th>...</th>\n",
       "      <td>...</td>\n",
       "      <td>...</td>\n",
       "      <td>...</td>\n",
       "      <td>...</td>\n",
       "      <td>...</td>\n",
       "    </tr>\n",
       "    <tr>\n",
       "      <th>395</th>\n",
       "      <td>15691863</td>\n",
       "      <td>Female</td>\n",
       "      <td>46</td>\n",
       "      <td>41000</td>\n",
       "      <td>1</td>\n",
       "    </tr>\n",
       "    <tr>\n",
       "      <th>396</th>\n",
       "      <td>15706071</td>\n",
       "      <td>Male</td>\n",
       "      <td>51</td>\n",
       "      <td>23000</td>\n",
       "      <td>1</td>\n",
       "    </tr>\n",
       "    <tr>\n",
       "      <th>397</th>\n",
       "      <td>15654296</td>\n",
       "      <td>Female</td>\n",
       "      <td>50</td>\n",
       "      <td>20000</td>\n",
       "      <td>1</td>\n",
       "    </tr>\n",
       "    <tr>\n",
       "      <th>398</th>\n",
       "      <td>15755018</td>\n",
       "      <td>Male</td>\n",
       "      <td>36</td>\n",
       "      <td>33000</td>\n",
       "      <td>0</td>\n",
       "    </tr>\n",
       "    <tr>\n",
       "      <th>399</th>\n",
       "      <td>15594041</td>\n",
       "      <td>Female</td>\n",
       "      <td>49</td>\n",
       "      <td>36000</td>\n",
       "      <td>1</td>\n",
       "    </tr>\n",
       "  </tbody>\n",
       "</table>\n",
       "<p>400 rows × 5 columns</p>\n",
       "</div>"
      ],
      "text/plain": [
       "      User ID  Gender  Age  EstimatedSalary  Purchased\n",
       "0    15624510    Male   19            19000          0\n",
       "1    15810944    Male   35            20000          0\n",
       "2    15668575  Female   26            43000          0\n",
       "3    15603246  Female   27            57000          0\n",
       "4    15804002    Male   19            76000          0\n",
       "..        ...     ...  ...              ...        ...\n",
       "395  15691863  Female   46            41000          1\n",
       "396  15706071    Male   51            23000          1\n",
       "397  15654296  Female   50            20000          1\n",
       "398  15755018    Male   36            33000          0\n",
       "399  15594041  Female   49            36000          1\n",
       "\n",
       "[400 rows x 5 columns]"
      ]
     },
     "execution_count": 43,
     "metadata": {},
     "output_type": "execute_result"
    }
   ],
   "source": [
    "dataset = pd.read_csv('Social_Network_Ads.csv')\n",
    "dataset"
   ]
  },
  {
   "cell_type": "code",
   "execution_count": 44,
   "id": "4ba13389",
   "metadata": {},
   "outputs": [],
   "source": [
    "X = dataset.iloc[:, [1, 2, 3]].values\n",
    "y = dataset.iloc[:, -1].values"
   ]
  },
  {
   "cell_type": "markdown",
   "id": "04ae3b0b",
   "metadata": {},
   "source": [
    "Трансформуємо перший стовбчик $X$ в 1 та 0 за допомогою LabelEncoder (у попередньому прикладі ми зробили це \"вручну\"). "
   ]
  },
  {
   "cell_type": "code",
   "execution_count": 45,
   "id": "94aef125",
   "metadata": {},
   "outputs": [
    {
     "data": {
      "text/plain": [
       "array([[1, 19, 19000],\n",
       "       [1, 35, 20000],\n",
       "       [0, 26, 43000],\n",
       "       ...,\n",
       "       [0, 50, 20000],\n",
       "       [1, 36, 33000],\n",
       "       [0, 49, 36000]], dtype=object)"
      ]
     },
     "execution_count": 45,
     "metadata": {},
     "output_type": "execute_result"
    }
   ],
   "source": [
    "le = LabelEncoder()\n",
    "X[:,0] = le.fit_transform(X[:,0])\n",
    "X"
   ]
  },
  {
   "cell_type": "markdown",
   "id": "71b7cee9",
   "metadata": {},
   "source": [
    "Тепер розіб'ємо вибірку в співвідношенні 20:80. "
   ]
  },
  {
   "cell_type": "code",
   "execution_count": 46,
   "id": "8c6fe0c2",
   "metadata": {},
   "outputs": [],
   "source": [
    "X_train, X_test, y_train, y_test = train_test_split(X, y, test_size = 0.20, random_state = 0)"
   ]
  },
  {
   "cell_type": "markdown",
   "id": "7861ef7d",
   "metadata": {},
   "source": [
    "Шкалюємо дані (для того, щоб привести всю вибірку до одного стандарту). "
   ]
  },
  {
   "cell_type": "code",
   "execution_count": 47,
   "id": "3229f680",
   "metadata": {},
   "outputs": [],
   "source": [
    "sc = StandardScaler()\n",
    "X_train = sc.fit_transform(X_train)\n",
    "X_test = sc.transform(X_test)"
   ]
  },
  {
   "cell_type": "markdown",
   "id": "0601ffb6",
   "metadata": {},
   "source": [
    "Тепер ми можемо застосувати метод $k$ найближчих сусідів. "
   ]
  },
  {
   "cell_type": "code",
   "execution_count": 48,
   "id": "610a5213",
   "metadata": {},
   "outputs": [
    {
     "data": {
      "text/plain": [
       "KNeighborsClassifier()"
      ]
     },
     "execution_count": 48,
     "metadata": {},
     "output_type": "execute_result"
    }
   ],
   "source": [
    "classifier = KNeighborsClassifier(n_neighbors = 5, metric = 'minkowski', p = 2)\n",
    "classifier.fit(X_train, y_train)"
   ]
  },
  {
   "cell_type": "markdown",
   "id": "d62bf33a",
   "metadata": {},
   "source": [
    "Наведемо матрицю невідповідностей та точність класифікації:"
   ]
  },
  {
   "cell_type": "code",
   "execution_count": 49,
   "id": "0c642f13",
   "metadata": {},
   "outputs": [
    {
     "name": "stdout",
     "output_type": "stream",
     "text": [
      "[[55  3]\n",
      " [ 1 21]]\n",
      "0.95\n"
     ]
    }
   ],
   "source": [
    "y_pred = classifier.predict(X_test)\n",
    "cm = confusion_matrix(y_test, y_pred)\n",
    "ac = accuracy_score(y_test,y_pred)\n",
    "print(cm)\n",
    "print(ac)"
   ]
  }
 ],
 "metadata": {
  "kernelspec": {
   "display_name": "Python 3 (ipykernel)",
   "language": "python",
   "name": "python3"
  },
  "language_info": {
   "codemirror_mode": {
    "name": "ipython",
    "version": 3
   },
   "file_extension": ".py",
   "mimetype": "text/x-python",
   "name": "python",
   "nbconvert_exporter": "python",
   "pygments_lexer": "ipython3",
   "version": "3.9.12"
  }
 },
 "nbformat": 4,
 "nbformat_minor": 5
}
