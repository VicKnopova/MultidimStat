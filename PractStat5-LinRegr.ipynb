{
 "cells": [
  {
   "cell_type": "markdown",
   "id": "fd20c4a8",
   "metadata": {},
   "source": [
    "## Практика 5.  Лінійна пегресія"
   ]
  },
  {
   "cell_type": "code",
   "execution_count": 1,
   "id": "fb49ed22",
   "metadata": {},
   "outputs": [],
   "source": [
    "import numpy as np\n",
    "import math\n",
    "from sklearn.linear_model import LinearRegression\n",
    "import statsmodels.api as sm\n",
    "from statsmodels.api import OLS  # ordinary least squares estimates\n",
    "import pandas as pd\n",
    "from sklearn import linear_model\n",
    "from statsmodels.multivariate.manova import MANOVA"
   ]
  },
  {
   "cell_type": "markdown",
   "id": "757740ef",
   "metadata": {},
   "source": [
    "### Приклад 1. Одновимірна модель, лінійна регресія. \n",
    "\n",
    "Дані з 'Квартету Аскомбе', не з Ренчер. "
   ]
  },
  {
   "cell_type": "code",
   "execution_count": 2,
   "id": "4d9fb42f",
   "metadata": {},
   "outputs": [],
   "source": [
    "y = np.array([8.04,6.95,7.58,8.81,8.33,9.96,7.24,4.26,10.84,4.82,5.68])\n",
    "x1 = [10,8,13,9,11,14,6,4,12,7,5]\n",
    "x = np.array([10,8,13,9,11,14,6,4,12,7,5]).reshape((-1,1))\n",
    "w = [math.sqrt(y[i]) for i in range(len(x))]+ np.random.normal(0,1,len(y))"
   ]
  },
  {
   "cell_type": "code",
   "execution_count": 3,
   "id": "c1cd33f0",
   "metadata": {},
   "outputs": [
    {
     "name": "stdout",
     "output_type": "stream",
     "text": [
      "coefficient of determination: 0.666542459508775\n"
     ]
    }
   ],
   "source": [
    "model = LinearRegression().fit(x, y)\n",
    "r_sq = model.score(x, y)\n",
    "print('coefficient of determination:', r_sq)   # R^2"
   ]
  },
  {
   "cell_type": "code",
   "execution_count": 4,
   "id": "50de2a9a",
   "metadata": {},
   "outputs": [
    {
     "name": "stdout",
     "output_type": "stream",
     "text": [
      "intercept: 3.0000909090909103\n",
      "slope: [0.50009091]\n"
     ]
    }
   ],
   "source": [
    "print('intercept:', model.intercept_)\n",
    "print('slope:', model.coef_)\n"
   ]
  },
  {
   "cell_type": "markdown",
   "id": "6cf5e1b6",
   "metadata": {},
   "source": [
    "Ддобавимо ще одну змінну (щоб зробити множинну регресію):"
   ]
  },
  {
   "cell_type": "code",
   "execution_count": 5,
   "id": "4bbf90f1",
   "metadata": {},
   "outputs": [
    {
     "data": {
      "text/plain": [
       "[[10, 1.6221226213215554],\n",
       " [8, 3.4960709155889367],\n",
       " [13, 1.9880683324598758],\n",
       " [9, 4.057426505700013],\n",
       " [11, 1.755013956383109],\n",
       " [14, 3.2433671764815295],\n",
       " [6, 4.533965122697768],\n",
       " [4, 1.5582582937001634],\n",
       " [12, 3.1842377972785494],\n",
       " [7, 3.2074610391652127],\n",
       " [5, 1.8933643704035703]]"
      ]
     },
     "execution_count": 5,
     "metadata": {},
     "output_type": "execute_result"
    }
   ],
   "source": [
    "Z = [[x1[i],w[i]] for i in range(len(x))]\n",
    "Z"
   ]
  },
  {
   "cell_type": "code",
   "execution_count": 6,
   "id": "8d7f8766",
   "metadata": {},
   "outputs": [
    {
     "name": "stdout",
     "output_type": "stream",
     "text": [
      "intercept: 1.4421487308445995\n",
      "slope: [0.50021155 0.56076562]\n"
     ]
    }
   ],
   "source": [
    "model2 = LinearRegression().fit(Z, y)\n",
    "print('intercept:', model2.intercept_)\n",
    "print('slope:', model2.coef_)"
   ]
  },
  {
   "cell_type": "markdown",
   "id": "473fbf9e",
   "metadata": {},
   "source": [
    "Зробимо повний аналіз моделі."
   ]
  },
  {
   "cell_type": "code",
   "execution_count": 7,
   "id": "bc59dc3b",
   "metadata": {},
   "outputs": [
    {
     "name": "stdout",
     "output_type": "stream",
     "text": [
      "                            OLS Regression Results                            \n",
      "==============================================================================\n",
      "Dep. Variable:                      y   R-squared:                       0.751\n",
      "Model:                            OLS   Adj. R-squared:                  0.689\n",
      "Method:                 Least Squares   F-statistic:                     12.06\n",
      "Date:                Mon, 13 Mar 2023   Prob (F-statistic):            0.00385\n",
      "Time:                        21:53:37   Log-Likelihood:                -15.235\n",
      "No. Observations:                  11   AIC:                             36.47\n",
      "Df Residuals:                       8   BIC:                             37.66\n",
      "Df Model:                           2                                         \n",
      "Covariance Type:            nonrobust                                         \n",
      "==============================================================================\n",
      "                 coef    std err          t      P>|t|      [0.025      0.975]\n",
      "------------------------------------------------------------------------------\n",
      "const          1.4421      1.399      1.031      0.333      -1.785       4.669\n",
      "x1             0.5002      0.108      4.628      0.002       0.251       0.749\n",
      "x2             0.5608      0.341      1.647      0.138      -0.225       1.346\n",
      "==============================================================================\n",
      "Omnibus:                        1.171   Durbin-Watson:                   2.878\n",
      "Prob(Omnibus):                  0.557   Jarque-Bera (JB):                0.582\n",
      "Skew:                          -0.541   Prob(JB):                        0.747\n",
      "Kurtosis:                       2.686   Cond. No.                         41.3\n",
      "==============================================================================\n",
      "\n",
      "Notes:\n",
      "[1] Standard Errors assume that the covariance matrix of the errors is correctly specified.\n"
     ]
    },
    {
     "name": "stderr",
     "output_type": "stream",
     "text": [
      "C:\\Users\\vica\\anaconda3\\lib\\site-packages\\scipy\\stats\\stats.py:1541: UserWarning: kurtosistest only valid for n>=20 ... continuing anyway, n=11\n",
      "  warnings.warn(\"kurtosistest only valid for n>=20 ... continuing \"\n"
     ]
    }
   ],
   "source": [
    "Z2 =  [[1,x1[i],w[i]] for i in range(len(x))]\n",
    "Z2 = np.asarray(Z2)\n",
    "model2 = LinearRegression().fit(Z2, y)\n",
    "model3 = sm.OLS(y,Z2)\n",
    "results = model3.fit() \n",
    "print(results.summary())"
   ]
  },
  {
   "cell_type": "markdown",
   "id": "1b955ab4",
   "metadata": {},
   "source": [
    "Окремі обчислення: "
   ]
  },
  {
   "cell_type": "code",
   "execution_count": 8,
   "id": "6d6764e2",
   "metadata": {},
   "outputs": [
    {
     "name": "stdout",
     "output_type": "stream",
     "text": [
      "[1.44214873 0.50021155 0.56076562]\n"
     ]
    }
   ],
   "source": [
    "print(results.params) # коефіцієнти"
   ]
  },
  {
   "cell_type": "code",
   "execution_count": 9,
   "id": "89c33482",
   "metadata": {
    "scrolled": true
   },
   "outputs": [
    {
     "name": "stdout",
     "output_type": "stream",
     "text": [
      "0.7509527004309737\n"
     ]
    }
   ],
   "source": [
    "print(results.rsquared) #R2"
   ]
  },
  {
   "cell_type": "code",
   "execution_count": 10,
   "id": "2f0a141f",
   "metadata": {},
   "outputs": [
    {
     "name": "stdout",
     "output_type": "stream",
     "text": [
      "[1.39931559 0.10807645 0.3405491 ]\n"
     ]
    }
   ],
   "source": [
    "print(results.bse) # std err"
   ]
  },
  {
   "cell_type": "code",
   "execution_count": 11,
   "id": "e1fe406e",
   "metadata": {},
   "outputs": [
    {
     "name": "stdout",
     "output_type": "stream",
     "text": [
      "0.0038470457234724277\n"
     ]
    }
   ],
   "source": [
    "print(results.f_pvalue)  # Prob  F-statistic   "
   ]
  },
  {
   "cell_type": "code",
   "execution_count": 12,
   "id": "ca3a21aa",
   "metadata": {},
   "outputs": [
    {
     "data": {
      "text/plain": [
       "['HC0_se',\n",
       " 'HC1_se',\n",
       " 'HC2_se',\n",
       " 'HC3_se',\n",
       " '_HCCM',\n",
       " '__class__',\n",
       " '__delattr__',\n",
       " '__dict__',\n",
       " '__dir__',\n",
       " '__doc__',\n",
       " '__eq__',\n",
       " '__format__',\n",
       " '__ge__',\n",
       " '__getattribute__',\n",
       " '__gt__',\n",
       " '__hash__',\n",
       " '__init__',\n",
       " '__init_subclass__',\n",
       " '__le__',\n",
       " '__lt__',\n",
       " '__module__',\n",
       " '__ne__',\n",
       " '__new__',\n",
       " '__reduce__',\n",
       " '__reduce_ex__',\n",
       " '__repr__',\n",
       " '__setattr__',\n",
       " '__sizeof__',\n",
       " '__str__',\n",
       " '__subclasshook__',\n",
       " '__weakref__',\n",
       " '_abat_diagonal',\n",
       " '_cache',\n",
       " '_data_attr',\n",
       " '_data_in_cache',\n",
       " '_get_robustcov_results',\n",
       " '_is_nested',\n",
       " '_use_t',\n",
       " '_wexog_singular_values',\n",
       " 'aic',\n",
       " 'bic',\n",
       " 'bse',\n",
       " 'centered_tss',\n",
       " 'compare_f_test',\n",
       " 'compare_lm_test',\n",
       " 'compare_lr_test',\n",
       " 'condition_number',\n",
       " 'conf_int',\n",
       " 'conf_int_el',\n",
       " 'cov_HC0',\n",
       " 'cov_HC1',\n",
       " 'cov_HC2',\n",
       " 'cov_HC3',\n",
       " 'cov_kwds',\n",
       " 'cov_params',\n",
       " 'cov_type',\n",
       " 'df_model',\n",
       " 'df_resid',\n",
       " 'diagn',\n",
       " 'eigenvals',\n",
       " 'el_test',\n",
       " 'ess',\n",
       " 'f_pvalue',\n",
       " 'f_test',\n",
       " 'fittedvalues',\n",
       " 'fvalue',\n",
       " 'get_influence',\n",
       " 'get_prediction',\n",
       " 'get_robustcov_results',\n",
       " 'info_criteria',\n",
       " 'initialize',\n",
       " 'k_constant',\n",
       " 'llf',\n",
       " 'load',\n",
       " 'model',\n",
       " 'mse_model',\n",
       " 'mse_resid',\n",
       " 'mse_total',\n",
       " 'nobs',\n",
       " 'normalized_cov_params',\n",
       " 'outlier_test',\n",
       " 'params',\n",
       " 'predict',\n",
       " 'pvalues',\n",
       " 'remove_data',\n",
       " 'resid',\n",
       " 'resid_pearson',\n",
       " 'rsquared',\n",
       " 'rsquared_adj',\n",
       " 'save',\n",
       " 'scale',\n",
       " 'ssr',\n",
       " 'summary',\n",
       " 'summary2',\n",
       " 't_test',\n",
       " 't_test_pairwise',\n",
       " 'tvalues',\n",
       " 'uncentered_tss',\n",
       " 'use_t',\n",
       " 'wald_test',\n",
       " 'wald_test_terms',\n",
       " 'wresid']"
      ]
     },
     "execution_count": 12,
     "metadata": {},
     "output_type": "execute_result"
    }
   ],
   "source": [
    "dir(results) # інші параметри- треба дивитися атрібути\n",
    "# https://www.statsmodels.org/devel/generated/statsmodels.regression.linear_model.OLSResults.html"
   ]
  },
  {
   "cell_type": "code",
   "execution_count": 13,
   "id": "7df925e6",
   "metadata": {},
   "outputs": [],
   "source": [
    "# https://www.accelebrate.com/blog/interpreting-results-from-linear-regression-is-the-data-appropriate \n",
    "# більше пор останній блок резульатів "
   ]
  },
  {
   "cell_type": "code",
   "execution_count": 14,
   "id": "64d834f0",
   "metadata": {},
   "outputs": [
    {
     "name": "stdout",
     "output_type": "stream",
     "text": [
      "Intercept: \n",
      " 1.4421487308445995\n",
      "Coefficients: \n",
      " [0.         0.50021155 0.56076562]\n"
     ]
    }
   ],
   "source": [
    "# дещо можна було отримати і з model2\n",
    "print('Intercept: \\n', model2.intercept_)  # коефіцієнт при вільному доданку, тобто при 1\n",
    "print('Coefficients: \\n', model2.coef_)    # оцінки коефіцієнтів\n"
   ]
  },
  {
   "cell_type": "markdown",
   "id": "9286045a",
   "metadata": {},
   "source": [
    "Оцінка матриці $B$ вручну:"
   ]
  },
  {
   "cell_type": "code",
   "execution_count": 15,
   "id": "0328ba50",
   "metadata": {},
   "outputs": [
    {
     "data": {
      "text/plain": [
       "array([1.44214873, 0.50021155, 0.56076562])"
      ]
     },
     "execution_count": 15,
     "metadata": {},
     "output_type": "execute_result"
    }
   ],
   "source": [
    "B =  np.linalg.inv(Z2.T @ Z2) @ (Z2.T @ y)\n",
    "B"
   ]
  },
  {
   "cell_type": "markdown",
   "id": "9583eecd",
   "metadata": {},
   "source": [
    "### Приклад 2.  Багатовимірна регресія: Приклад  10.4.2 Rencher"
   ]
  },
  {
   "cell_type": "code",
   "execution_count": 16,
   "id": "afa8e045",
   "metadata": {},
   "outputs": [
    {
     "name": "stdout",
     "output_type": "stream",
     "text": [
      "     Y1    Y2    Y3     X1    X2   X3\n",
      "0  41.5  45.9  11.2  162.0  23.0  3.0\n",
      "1  33.8  53.3  11.2  162.0  23.0  8.0\n",
      "2  27.7  57.5  12.7  162.0  30.0  5.0\n",
      "3  21.7  58.8  16.0  162.0  30.0  8.0\n",
      "4  19.9  60.6  16.2  172.0  25.0  5.0\n"
     ]
    }
   ],
   "source": [
    "df1 = np.loadtxt('T10_1_CHEM.DAT', dtype=float)\n",
    "data2 = pd.DataFrame(df1[:,1:], columns=['Y1','Y2','Y3','X1', 'X2', 'X3'])\n",
    "print(data2.head())"
   ]
  },
  {
   "cell_type": "code",
   "execution_count": 17,
   "id": "8e78056f",
   "metadata": {},
   "outputs": [],
   "source": [
    "X = df1[:, 4:]  \n",
    "Y = df1[:,1:4]"
   ]
  },
  {
   "cell_type": "code",
   "execution_count": 18,
   "id": "7f629ae8",
   "metadata": {},
   "outputs": [
    {
     "name": "stdout",
     "output_type": "stream",
     "text": [
      "[[-1.54596082 -1.42455873 -2.23736565]\n",
      " [ 0.40455059  0.29298999  1.03380047]\n",
      " [ 0.91392477  0.89947254  1.15348549]]\n",
      "[ 332.11098334  -26.03526431 -164.0789411 ]\n"
     ]
    }
   ],
   "source": [
    "model_ols =  linear_model.LinearRegression(normalize=False)\n",
    "results2 = model_ols.fit(X,Y)\n",
    "print(model_ols.coef_)   # Отримаємо матрицю В  \n",
    "print(model_ols.intercept_)"
   ]
  },
  {
   "cell_type": "code",
   "execution_count": 19,
   "id": "7e22c76d",
   "metadata": {},
   "outputs": [
    {
     "name": "stdout",
     "output_type": "stream",
     "text": [
      "                  Multivariate linear model\n",
      "==============================================================\n",
      "                                                              \n",
      "--------------------------------------------------------------\n",
      "       Intercept         Value  Num DF  Den DF F Value  Pr > F\n",
      "--------------------------------------------------------------\n",
      "          Wilks' lambda  0.0220 3.0000 13.0000 192.3656 0.0000\n",
      "         Pillai's trace  0.9780 3.0000 13.0000 192.3656 0.0000\n",
      " Hotelling-Lawley trace 44.3921 3.0000 13.0000 192.3656 0.0000\n",
      "    Roy's greatest root 44.3921 3.0000 13.0000 192.3656 0.0000\n",
      "--------------------------------------------------------------\n",
      "                                                              \n",
      "--------------------------------------------------------------\n",
      "           X             Value  Num DF  Den DF F Value  Pr > F\n",
      "--------------------------------------------------------------\n",
      "          Wilks' lambda  0.0332 9.0000 31.7892  10.7870 0.0000\n",
      "         Pillai's trace  1.0579 9.0000 45.0000   2.7235 0.0126\n",
      " Hotelling-Lawley trace 26.4220 9.0000 17.5000  36.4605 0.0000\n",
      "    Roy's greatest root 26.3183 3.0000 15.0000 131.5917 0.0000\n",
      "==============================================================\n",
      "\n"
     ]
    }
   ],
   "source": [
    "fit1 = MANOVA.from_formula('Y ~ X', data= data2)\n",
    "print(fit1.mv_test())"
   ]
  }
 ],
 "metadata": {
  "kernelspec": {
   "display_name": "Python 3 (ipykernel)",
   "language": "python",
   "name": "python3"
  },
  "language_info": {
   "codemirror_mode": {
    "name": "ipython",
    "version": 3
   },
   "file_extension": ".py",
   "mimetype": "text/x-python",
   "name": "python",
   "nbconvert_exporter": "python",
   "pygments_lexer": "ipython3",
   "version": "3.9.12"
  }
 },
 "nbformat": 4,
 "nbformat_minor": 5
}
