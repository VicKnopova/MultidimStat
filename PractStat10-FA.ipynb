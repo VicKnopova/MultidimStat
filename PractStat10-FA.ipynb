{
 "cells": [
  {
   "cell_type": "markdown",
   "id": "e24d2f2b",
   "metadata": {},
   "source": [
    "## Факторний аналіз \n",
    "\n",
    "Більше можна почитати [тут](https://www.earthinversion.com/geophysics/exploratory-factor-analysis/).   Але в коді є проблема, див. [тут](https://stackoverflow.com/questions/60411978/attributeerror-factoranalyzer-object-has-no-attribute-analyze). Якщо не встановлено пакет  factor_analyzer, то встановлюємо. \n",
    "\n",
    "https://factor-analyzer.readthedocs.io/en/latest/factor_analyzer.html"
   ]
  },
  {
   "cell_type": "code",
   "execution_count": 5,
   "id": "6499a178",
   "metadata": {},
   "outputs": [],
   "source": [
    "# ! pip install factor_analyzer"
   ]
  },
  {
   "cell_type": "code",
   "execution_count": 25,
   "id": "0c5a7e4d",
   "metadata": {},
   "outputs": [],
   "source": [
    "import pandas as pd\n",
    "import numpy as np\n",
    "from sklearn.datasets import load_iris\n",
    "from factor_analyzer import FactorAnalyzer\n",
    "import matplotlib.pyplot as plt\n",
    "from matplotlib import style\n",
    "import matplotlib\n",
    "import seaborn as sns"
   ]
  },
  {
   "cell_type": "code",
   "execution_count": 4,
   "id": "72053299",
   "metadata": {},
   "outputs": [],
   "source": [
    "from factor_analyzer.factor_analyzer import calculate_bartlett_sphericity\n",
    "from factor_analyzer.factor_analyzer import calculate_kmo"
   ]
  },
  {
   "cell_type": "markdown",
   "id": "50f3a51a",
   "metadata": {},
   "source": [
    "### Приклад 1. \n",
    "В наступній табліиці наведено дані тестування типу особистості. Є 5 типів (колонки названі відповідно до першої літери:  Agreeableness, Conscientiousness, Extraversion, Neuroticism, and Openness),по 5 підтипів в кожній. Кожна змінна -це оцінка в шкалі від 1 до 6:  1 Very Inaccurate; 2 Moderately Inaccurate; 3 Slightly Inaccurate; 4 Slightly Accurate; 5 Moderately Accurate; 6 Very Accurate."
   ]
  },
  {
   "cell_type": "code",
   "execution_count": 6,
   "id": "d6d96555",
   "metadata": {},
   "outputs": [
    {
     "data": {
      "text/html": [
       "<div>\n",
       "<style scoped>\n",
       "    .dataframe tbody tr th:only-of-type {\n",
       "        vertical-align: middle;\n",
       "    }\n",
       "\n",
       "    .dataframe tbody tr th {\n",
       "        vertical-align: top;\n",
       "    }\n",
       "\n",
       "    .dataframe thead th {\n",
       "        text-align: right;\n",
       "    }\n",
       "</style>\n",
       "<table border=\"1\" class=\"dataframe\">\n",
       "  <thead>\n",
       "    <tr style=\"text-align: right;\">\n",
       "      <th></th>\n",
       "      <th>A1</th>\n",
       "      <th>A2</th>\n",
       "      <th>A3</th>\n",
       "      <th>A4</th>\n",
       "      <th>A5</th>\n",
       "      <th>C1</th>\n",
       "      <th>C2</th>\n",
       "      <th>C3</th>\n",
       "      <th>C4</th>\n",
       "      <th>C5</th>\n",
       "      <th>...</th>\n",
       "      <th>N4</th>\n",
       "      <th>N5</th>\n",
       "      <th>O1</th>\n",
       "      <th>O2</th>\n",
       "      <th>O3</th>\n",
       "      <th>O4</th>\n",
       "      <th>O5</th>\n",
       "      <th>gender</th>\n",
       "      <th>education</th>\n",
       "      <th>age</th>\n",
       "    </tr>\n",
       "  </thead>\n",
       "  <tbody>\n",
       "    <tr>\n",
       "      <th>0</th>\n",
       "      <td>2.0</td>\n",
       "      <td>4.0</td>\n",
       "      <td>3.0</td>\n",
       "      <td>4.0</td>\n",
       "      <td>4.0</td>\n",
       "      <td>2.0</td>\n",
       "      <td>3.0</td>\n",
       "      <td>3.0</td>\n",
       "      <td>4.0</td>\n",
       "      <td>4.0</td>\n",
       "      <td>...</td>\n",
       "      <td>2.0</td>\n",
       "      <td>3.0</td>\n",
       "      <td>3.0</td>\n",
       "      <td>6</td>\n",
       "      <td>3.0</td>\n",
       "      <td>4.0</td>\n",
       "      <td>3.0</td>\n",
       "      <td>1</td>\n",
       "      <td>NaN</td>\n",
       "      <td>16</td>\n",
       "    </tr>\n",
       "    <tr>\n",
       "      <th>1</th>\n",
       "      <td>2.0</td>\n",
       "      <td>4.0</td>\n",
       "      <td>5.0</td>\n",
       "      <td>2.0</td>\n",
       "      <td>5.0</td>\n",
       "      <td>5.0</td>\n",
       "      <td>4.0</td>\n",
       "      <td>4.0</td>\n",
       "      <td>3.0</td>\n",
       "      <td>4.0</td>\n",
       "      <td>...</td>\n",
       "      <td>5.0</td>\n",
       "      <td>5.0</td>\n",
       "      <td>4.0</td>\n",
       "      <td>2</td>\n",
       "      <td>4.0</td>\n",
       "      <td>3.0</td>\n",
       "      <td>3.0</td>\n",
       "      <td>2</td>\n",
       "      <td>NaN</td>\n",
       "      <td>18</td>\n",
       "    </tr>\n",
       "    <tr>\n",
       "      <th>2</th>\n",
       "      <td>5.0</td>\n",
       "      <td>4.0</td>\n",
       "      <td>5.0</td>\n",
       "      <td>4.0</td>\n",
       "      <td>4.0</td>\n",
       "      <td>4.0</td>\n",
       "      <td>5.0</td>\n",
       "      <td>4.0</td>\n",
       "      <td>2.0</td>\n",
       "      <td>5.0</td>\n",
       "      <td>...</td>\n",
       "      <td>2.0</td>\n",
       "      <td>3.0</td>\n",
       "      <td>4.0</td>\n",
       "      <td>2</td>\n",
       "      <td>5.0</td>\n",
       "      <td>5.0</td>\n",
       "      <td>2.0</td>\n",
       "      <td>2</td>\n",
       "      <td>NaN</td>\n",
       "      <td>17</td>\n",
       "    </tr>\n",
       "    <tr>\n",
       "      <th>3</th>\n",
       "      <td>4.0</td>\n",
       "      <td>4.0</td>\n",
       "      <td>6.0</td>\n",
       "      <td>5.0</td>\n",
       "      <td>5.0</td>\n",
       "      <td>4.0</td>\n",
       "      <td>4.0</td>\n",
       "      <td>3.0</td>\n",
       "      <td>5.0</td>\n",
       "      <td>5.0</td>\n",
       "      <td>...</td>\n",
       "      <td>4.0</td>\n",
       "      <td>1.0</td>\n",
       "      <td>3.0</td>\n",
       "      <td>3</td>\n",
       "      <td>4.0</td>\n",
       "      <td>3.0</td>\n",
       "      <td>5.0</td>\n",
       "      <td>2</td>\n",
       "      <td>NaN</td>\n",
       "      <td>17</td>\n",
       "    </tr>\n",
       "    <tr>\n",
       "      <th>4</th>\n",
       "      <td>2.0</td>\n",
       "      <td>3.0</td>\n",
       "      <td>3.0</td>\n",
       "      <td>4.0</td>\n",
       "      <td>5.0</td>\n",
       "      <td>4.0</td>\n",
       "      <td>4.0</td>\n",
       "      <td>5.0</td>\n",
       "      <td>3.0</td>\n",
       "      <td>2.0</td>\n",
       "      <td>...</td>\n",
       "      <td>4.0</td>\n",
       "      <td>3.0</td>\n",
       "      <td>3.0</td>\n",
       "      <td>3</td>\n",
       "      <td>4.0</td>\n",
       "      <td>3.0</td>\n",
       "      <td>3.0</td>\n",
       "      <td>1</td>\n",
       "      <td>NaN</td>\n",
       "      <td>17</td>\n",
       "    </tr>\n",
       "  </tbody>\n",
       "</table>\n",
       "<p>5 rows × 28 columns</p>\n",
       "</div>"
      ],
      "text/plain": [
       "    A1   A2   A3   A4   A5   C1   C2   C3   C4   C5  ...   N4   N5   O1  O2  \\\n",
       "0  2.0  4.0  3.0  4.0  4.0  2.0  3.0  3.0  4.0  4.0  ...  2.0  3.0  3.0   6   \n",
       "1  2.0  4.0  5.0  2.0  5.0  5.0  4.0  4.0  3.0  4.0  ...  5.0  5.0  4.0   2   \n",
       "2  5.0  4.0  5.0  4.0  4.0  4.0  5.0  4.0  2.0  5.0  ...  2.0  3.0  4.0   2   \n",
       "3  4.0  4.0  6.0  5.0  5.0  4.0  4.0  3.0  5.0  5.0  ...  4.0  1.0  3.0   3   \n",
       "4  2.0  3.0  3.0  4.0  5.0  4.0  4.0  5.0  3.0  2.0  ...  4.0  3.0  3.0   3   \n",
       "\n",
       "    O3   O4   O5  gender  education  age  \n",
       "0  3.0  4.0  3.0       1        NaN   16  \n",
       "1  4.0  3.0  3.0       2        NaN   18  \n",
       "2  5.0  5.0  2.0       2        NaN   17  \n",
       "3  4.0  3.0  5.0       2        NaN   17  \n",
       "4  4.0  3.0  3.0       1        NaN   17  \n",
       "\n",
       "[5 rows x 28 columns]"
      ]
     },
     "execution_count": 6,
     "metadata": {},
     "output_type": "execute_result"
    }
   ],
   "source": [
    "df1= pd.read_csv(\"bfi.csv\")\n",
    "df1.head()"
   ]
  },
  {
   "cell_type": "markdown",
   "id": "547def5a",
   "metadata": {},
   "source": [
    "Відкинемо останні 3 колонки. "
   ]
  },
  {
   "cell_type": "code",
   "execution_count": 7,
   "id": "524db43f",
   "metadata": {},
   "outputs": [
    {
     "data": {
      "text/html": [
       "<div>\n",
       "<style scoped>\n",
       "    .dataframe tbody tr th:only-of-type {\n",
       "        vertical-align: middle;\n",
       "    }\n",
       "\n",
       "    .dataframe tbody tr th {\n",
       "        vertical-align: top;\n",
       "    }\n",
       "\n",
       "    .dataframe thead th {\n",
       "        text-align: right;\n",
       "    }\n",
       "</style>\n",
       "<table border=\"1\" class=\"dataframe\">\n",
       "  <thead>\n",
       "    <tr style=\"text-align: right;\">\n",
       "      <th></th>\n",
       "      <th>A1</th>\n",
       "      <th>A2</th>\n",
       "      <th>A3</th>\n",
       "      <th>A4</th>\n",
       "      <th>A5</th>\n",
       "      <th>C1</th>\n",
       "      <th>C2</th>\n",
       "      <th>C3</th>\n",
       "      <th>C4</th>\n",
       "      <th>C5</th>\n",
       "      <th>...</th>\n",
       "      <th>N1</th>\n",
       "      <th>N2</th>\n",
       "      <th>N3</th>\n",
       "      <th>N4</th>\n",
       "      <th>N5</th>\n",
       "      <th>O1</th>\n",
       "      <th>O2</th>\n",
       "      <th>O3</th>\n",
       "      <th>O4</th>\n",
       "      <th>O5</th>\n",
       "    </tr>\n",
       "  </thead>\n",
       "  <tbody>\n",
       "    <tr>\n",
       "      <th>0</th>\n",
       "      <td>2.0</td>\n",
       "      <td>4.0</td>\n",
       "      <td>3.0</td>\n",
       "      <td>4.0</td>\n",
       "      <td>4.0</td>\n",
       "      <td>2.0</td>\n",
       "      <td>3.0</td>\n",
       "      <td>3.0</td>\n",
       "      <td>4.0</td>\n",
       "      <td>4.0</td>\n",
       "      <td>...</td>\n",
       "      <td>3.0</td>\n",
       "      <td>4.0</td>\n",
       "      <td>2.0</td>\n",
       "      <td>2.0</td>\n",
       "      <td>3.0</td>\n",
       "      <td>3.0</td>\n",
       "      <td>6</td>\n",
       "      <td>3.0</td>\n",
       "      <td>4.0</td>\n",
       "      <td>3.0</td>\n",
       "    </tr>\n",
       "    <tr>\n",
       "      <th>1</th>\n",
       "      <td>2.0</td>\n",
       "      <td>4.0</td>\n",
       "      <td>5.0</td>\n",
       "      <td>2.0</td>\n",
       "      <td>5.0</td>\n",
       "      <td>5.0</td>\n",
       "      <td>4.0</td>\n",
       "      <td>4.0</td>\n",
       "      <td>3.0</td>\n",
       "      <td>4.0</td>\n",
       "      <td>...</td>\n",
       "      <td>3.0</td>\n",
       "      <td>3.0</td>\n",
       "      <td>3.0</td>\n",
       "      <td>5.0</td>\n",
       "      <td>5.0</td>\n",
       "      <td>4.0</td>\n",
       "      <td>2</td>\n",
       "      <td>4.0</td>\n",
       "      <td>3.0</td>\n",
       "      <td>3.0</td>\n",
       "    </tr>\n",
       "    <tr>\n",
       "      <th>2</th>\n",
       "      <td>5.0</td>\n",
       "      <td>4.0</td>\n",
       "      <td>5.0</td>\n",
       "      <td>4.0</td>\n",
       "      <td>4.0</td>\n",
       "      <td>4.0</td>\n",
       "      <td>5.0</td>\n",
       "      <td>4.0</td>\n",
       "      <td>2.0</td>\n",
       "      <td>5.0</td>\n",
       "      <td>...</td>\n",
       "      <td>4.0</td>\n",
       "      <td>5.0</td>\n",
       "      <td>4.0</td>\n",
       "      <td>2.0</td>\n",
       "      <td>3.0</td>\n",
       "      <td>4.0</td>\n",
       "      <td>2</td>\n",
       "      <td>5.0</td>\n",
       "      <td>5.0</td>\n",
       "      <td>2.0</td>\n",
       "    </tr>\n",
       "    <tr>\n",
       "      <th>3</th>\n",
       "      <td>4.0</td>\n",
       "      <td>4.0</td>\n",
       "      <td>6.0</td>\n",
       "      <td>5.0</td>\n",
       "      <td>5.0</td>\n",
       "      <td>4.0</td>\n",
       "      <td>4.0</td>\n",
       "      <td>3.0</td>\n",
       "      <td>5.0</td>\n",
       "      <td>5.0</td>\n",
       "      <td>...</td>\n",
       "      <td>2.0</td>\n",
       "      <td>5.0</td>\n",
       "      <td>2.0</td>\n",
       "      <td>4.0</td>\n",
       "      <td>1.0</td>\n",
       "      <td>3.0</td>\n",
       "      <td>3</td>\n",
       "      <td>4.0</td>\n",
       "      <td>3.0</td>\n",
       "      <td>5.0</td>\n",
       "    </tr>\n",
       "    <tr>\n",
       "      <th>4</th>\n",
       "      <td>2.0</td>\n",
       "      <td>3.0</td>\n",
       "      <td>3.0</td>\n",
       "      <td>4.0</td>\n",
       "      <td>5.0</td>\n",
       "      <td>4.0</td>\n",
       "      <td>4.0</td>\n",
       "      <td>5.0</td>\n",
       "      <td>3.0</td>\n",
       "      <td>2.0</td>\n",
       "      <td>...</td>\n",
       "      <td>2.0</td>\n",
       "      <td>3.0</td>\n",
       "      <td>4.0</td>\n",
       "      <td>4.0</td>\n",
       "      <td>3.0</td>\n",
       "      <td>3.0</td>\n",
       "      <td>3</td>\n",
       "      <td>4.0</td>\n",
       "      <td>3.0</td>\n",
       "      <td>3.0</td>\n",
       "    </tr>\n",
       "  </tbody>\n",
       "</table>\n",
       "<p>5 rows × 25 columns</p>\n",
       "</div>"
      ],
      "text/plain": [
       "    A1   A2   A3   A4   A5   C1   C2   C3   C4   C5  ...   N1   N2   N3   N4  \\\n",
       "0  2.0  4.0  3.0  4.0  4.0  2.0  3.0  3.0  4.0  4.0  ...  3.0  4.0  2.0  2.0   \n",
       "1  2.0  4.0  5.0  2.0  5.0  5.0  4.0  4.0  3.0  4.0  ...  3.0  3.0  3.0  5.0   \n",
       "2  5.0  4.0  5.0  4.0  4.0  4.0  5.0  4.0  2.0  5.0  ...  4.0  5.0  4.0  2.0   \n",
       "3  4.0  4.0  6.0  5.0  5.0  4.0  4.0  3.0  5.0  5.0  ...  2.0  5.0  2.0  4.0   \n",
       "4  2.0  3.0  3.0  4.0  5.0  4.0  4.0  5.0  3.0  2.0  ...  2.0  3.0  4.0  4.0   \n",
       "\n",
       "    N5   O1  O2   O3   O4   O5  \n",
       "0  3.0  3.0   6  3.0  4.0  3.0  \n",
       "1  5.0  4.0   2  4.0  3.0  3.0  \n",
       "2  3.0  4.0   2  5.0  5.0  2.0  \n",
       "3  1.0  3.0   3  4.0  3.0  5.0  \n",
       "4  3.0  3.0   3  4.0  3.0  3.0  \n",
       "\n",
       "[5 rows x 25 columns]"
      ]
     },
     "execution_count": 7,
     "metadata": {},
     "output_type": "execute_result"
    }
   ],
   "source": [
    "df1.drop(['gender', 'education', 'age'],axis = 1,inplace=True)\n",
    "df1.dropna(inplace=True)\n",
    "df1.head()"
   ]
  },
  {
   "cell_type": "markdown",
   "id": "4f13c422",
   "metadata": {},
   "source": [
    "Почнемо з теста сферичності Бартлетта, за допомогою якого ми перевіряємо, ци є змінні некорельованими. Якщо так (тобто нульова гіпотеза про те, що матриця діагональна, справедлива), то нема потреби проводити факторний аналіз. \n",
    "\n",
    "Тест Бартлетта: нехай $R$- кореляційна матриця, \n",
    "$$\n",
    "b= - (n-1 - \\frac{2p+5}{6})\\ln |R|. \n",
    "$$\n",
    "Припустимо, що гіпотеза $H_0$ має місце. Тоді при великих $n$ статистика наближено має розподіл  $\\chi^2_{\\frac{p(p-1)}{2}}$: \n",
    "\t$$\n",
    "\tb\\sim \\chi^2_{\\frac{p(p-1)}{2}}.\n",
    "\t$$ "
   ]
  },
  {
   "cell_type": "code",
   "execution_count": 8,
   "id": "b9481ea0",
   "metadata": {},
   "outputs": [
    {
     "data": {
      "text/plain": [
       "(18146.06557723504, 0.0)"
      ]
     },
     "execution_count": 8,
     "metadata": {},
     "output_type": "execute_result"
    }
   ],
   "source": [
    "chi_square_value,p_value=calculate_bartlett_sphericity(df1)\n",
    "chi_square_value, p_value"
   ]
  },
  {
   "cell_type": "markdown",
   "id": "a216571e",
   "metadata": {},
   "source": [
    "Альтернативно, можна використати тест Kaiser–Meyer–Olkin (KMO), який дає змогу перевірити, наскільки дані підходять для того, щоб використати факторний аналіз. Відповідна статистика вимірює пропорцію дисперсії  серед змінніх, які можуть мати спільну дисперсію. Чим ближче це значення до 1, тим краще. Більше 0.8 вважається достатньо. Менше, ніж 0.5 - погано. "
   ]
  },
  {
   "cell_type": "markdown",
   "id": "5df3d6c4",
   "metadata": {},
   "source": [
    "Kaiser–Meyer–Olkin criterion: \n",
    "$$\n",
    "KMO:=\\frac{\\sum_{j\\neq k}  r_{jk}^{2}}{\\sum_{j\\neq k} r_{jk}^{2}+\\sum_{j\\neq k} p_{jk}^{2}}\n",
    "$$\n",
    "$r_{jk}$- кореляція між $i$-ю та  $j$-ю змінною, та \n",
    "$p_{jk}$ is the partial correlation: \n",
    "$$\n",
    "p_{ij} = \\frac{r_{ij} - r_{iC} r_{jC}}{\\sqrt{(1-r^2_{iC})}\\sqrt{(1-r^2_{jC})}}\n",
    "$$\n",
    "де $r_{ik}$ -- кореляція $i$-ї змінної та вектору  $C$ (всіх інших змінніх, крім $i$ та $j$)   \n",
    "\n",
    "https://en.wikipedia.org/wiki/Kaiser%E2%80%93Meyer%E2%80%93Olkin_test#cite_note-Factor-4"
   ]
  },
  {
   "cell_type": "code",
   "execution_count": 10,
   "id": "3d3b000f",
   "metadata": {},
   "outputs": [
    {
     "data": {
      "text/plain": [
       "0.8486452309468394"
      ]
     },
     "execution_count": 10,
     "metadata": {},
     "output_type": "execute_result"
    }
   ],
   "source": [
    "kmo_all,kmo_model=calculate_kmo(df1)\n",
    "kmo_model"
   ]
  },
  {
   "cell_type": "markdown",
   "id": "41fa3d70",
   "metadata": {},
   "source": [
    "Отже, нульова гіпотеза про сферичність не виконана, проводимо факторний аналіз.  Задамо модель: \n",
    "$$\n",
    "y - \\mu = \\Lambda f + \\mathcal{E}. \n",
    "$$\n",
    "Нам потрібно підібрати фактори $f$ і матрицю $\\Lambda$."
   ]
  },
  {
   "cell_type": "code",
   "execution_count": 12,
   "id": "05d852ce",
   "metadata": {},
   "outputs": [
    {
     "data": {
      "text/plain": [
       "array([5.13431118, 2.75188667, 2.14270195, 1.85232761, 1.54816285,\n",
       "       1.07358247, 0.83953893, 0.79920618, 0.71898919, 0.68808879,\n",
       "       0.67637336, 0.65179984, 0.62325295, 0.59656284, 0.56309083,\n",
       "       0.54330533, 0.51451752, 0.49450315, 0.48263952, 0.448921  ,\n",
       "       0.42336611, 0.40067145, 0.38780448, 0.38185679, 0.26253902])"
      ]
     },
     "execution_count": 12,
     "metadata": {},
     "output_type": "execute_result"
    }
   ],
   "source": [
    "fa = FactorAnalyzer()\n",
    "fa.fit(df1)\n",
    "eigen_values, vectors = fa.get_eigenvalues()\n",
    "eigen_values"
   ]
  },
  {
   "cell_type": "markdown",
   "id": "4a548de2",
   "metadata": {},
   "source": [
    "Насправді, це власні числа кореляційної матриці, а не коваріаційної: "
   ]
  },
  {
   "cell_type": "code",
   "execution_count": 97,
   "id": "cbe0c49a",
   "metadata": {},
   "outputs": [
    {
     "data": {
      "text/plain": [
       "array([5.13431118, 2.75188667, 2.14270195, 1.85232761, 1.54816285,\n",
       "       1.07358247])"
      ]
     },
     "execution_count": 97,
     "metadata": {},
     "output_type": "execute_result"
    }
   ],
   "source": [
    "R = np.corrcoef(df1.T)\n",
    "np.linalg.eigvals(R)[:6]"
   ]
  },
  {
   "cell_type": "markdown",
   "id": "d34a791e",
   "metadata": {},
   "source": [
    "Перші 6 значень- більше 1.  Щоб обрати достатню кількість власних чисел, що пояснює дисперсію, зродимо scree plot. "
   ]
  },
  {
   "cell_type": "code",
   "execution_count": 88,
   "id": "b54cefd4",
   "metadata": {},
   "outputs": [
    {
     "data": {
      "text/plain": [
       "<matplotlib.lines.Line2D at 0x1e28bafca30>"
      ]
     },
     "execution_count": 88,
     "metadata": {},
     "output_type": "execute_result"
    },
    {
     "data": {
      "image/png": "[encoded data removed]",
      "text/plain": [
       "<Figure size 432x288 with 1 Axes>"
      ]
     },
     "metadata": {
      "needs_background": "light"
     },
     "output_type": "display_data"
    }
   ],
   "source": [
    "plt.scatter(range(1,df1.shape[1]+1),eigen_values)\n",
    "plt.plot(range(1,df1.shape[1]+1),eigen_values)\n",
    "plt.title('Scree Plot')\n",
    "plt.xlabel('Фактори')\n",
    "plt.ylabel('Власні числа')\n",
    "plt.axhline(y=1,c='k')"
   ]
  },
  {
   "cell_type": "markdown",
   "id": "359cdd81",
   "metadata": {},
   "source": [
    "Отже, 6 власних чисел має бути досить. Знайдемо тепер 6 факторів. Причому можна застосувати поворот факторів. Наприклад, за допомогою **varimax**: шукаємо таку  матрицю $T$, яка б максимізувала    таку різницю моментів: \n",
    "$$\n",
    "\\frac1p \\sum_{j=1}^k \\sum_{i=1}^p (\\Lambda T)_{ij}^4 - \\sum_{j=1}^k \\left(\\frac1p \\sum_{i=1}^p (\\Lambda T)_{ij}^2 \\right)^2\\Longrightarrow  \\max.\n",
    "$$\n",
    "(це метод Кайзера) \n",
    "Фактично, ми при цьому змінюємо базис, та знаходимо нову матрицю навантажень $\\Lambda$. Елементи цієї матриці називаються loadings. \n",
    "\n",
    "В результати ми отримали  $\\Lambda^* = \\Lambda T$, де матриця  $T$ є ортогональною та такою, що максимізує дисперсії  навантажень в кожному стовбчику матриці  $\\Lambda^*$.\n",
    "Зауважимо, що при цьому середні дисперсії не змінюються: ортогональне перетворення не змінює власні числа. "
   ]
  },
  {
   "cell_type": "code",
   "execution_count": 105,
   "id": "e5a899eb",
   "metadata": {},
   "outputs": [
    {
     "name": "stdout",
     "output_type": "stream",
     "text": [
      "[[ 9.52197424e-02  4.07831579e-02  4.87338849e-02 -5.30987347e-01\n",
      "  -1.13057329e-01  1.61216354e-01]\n",
      " [ 3.31312757e-02  2.35538039e-01  1.33714395e-01  6.61140974e-01\n",
      "   6.37337876e-02 -6.24353685e-03]\n",
      " [-9.62088395e-03  3.43008171e-01  1.21353367e-01  6.05932697e-01\n",
      "   3.39902659e-02  1.60106427e-01]\n",
      " [-8.15175586e-02  2.19716719e-01  2.35139532e-01  4.04594040e-01\n",
      "  -1.25338019e-01  8.63557032e-02]\n",
      " [-1.49615885e-01  4.14457672e-01  1.06382165e-01  4.69698292e-01\n",
      "   3.09765733e-02  2.36519343e-01]\n",
      " [-4.35840220e-03  7.72477518e-02  5.54582254e-01  7.51069668e-03\n",
      "   1.90123730e-01  9.50350462e-02]\n",
      " [ 6.83300836e-02  3.83703832e-02  6.74545448e-01  5.70549885e-02\n",
      "   8.75925919e-02  1.52775079e-01]\n",
      " [-3.99936733e-02  3.18673000e-02  5.51164439e-01  1.01282241e-01\n",
      "  -1.13380872e-02  8.99628409e-03]\n",
      " [ 2.16283366e-01 -6.62407747e-02 -6.38475488e-01 -1.02616939e-01\n",
      "  -1.43846474e-01  3.18358896e-01]\n",
      " [ 2.84187245e-01 -1.80811697e-01 -5.44837677e-01 -5.99548221e-02\n",
      "   2.58370946e-02  1.32423444e-01]\n",
      " [ 2.22797942e-02 -5.90450891e-01  5.39149057e-02 -1.30850532e-01\n",
      "  -7.12045794e-02  1.56582654e-01]\n",
      " [ 2.33623567e-01 -6.84577633e-01 -8.84970716e-02 -1.16715666e-01\n",
      "  -4.55610413e-02  1.15065400e-01]\n",
      " [-8.95006174e-04  5.56774178e-01  1.03390347e-01  1.79396482e-01\n",
      "   2.41179904e-01  2.67291316e-01]\n",
      " [-1.36788076e-01  6.58394905e-01  1.13798005e-01  2.41142963e-01\n",
      "  -1.07808202e-01  1.58512853e-01]\n",
      " [ 3.44895883e-02  5.07535082e-01  3.09812528e-01  7.88042871e-02\n",
      "   2.00821351e-01  8.74730434e-03]\n",
      " [ 8.05805938e-01  6.80113035e-02 -5.12637874e-02 -1.74849358e-01\n",
      "  -7.49771189e-02 -9.62661704e-02]\n",
      " [ 7.89831685e-01  2.29582942e-02 -3.74768699e-02 -1.41134482e-01\n",
      "   6.72646111e-03 -1.39822612e-01]\n",
      " [ 7.25081218e-01 -6.56869339e-02 -5.90394378e-02 -1.91838174e-02\n",
      "  -1.06635545e-02  6.24953359e-02]\n",
      " [ 5.78318849e-01 -3.45072324e-01 -1.62173862e-01  4.03123986e-04\n",
      "   6.29164831e-02  1.47551240e-01]\n",
      " [ 5.23097072e-01 -1.61675118e-01 -2.53049779e-02  9.01247909e-02\n",
      "  -1.61891978e-01  1.20049477e-01]\n",
      " [-2.00040180e-02  2.25338561e-01  1.33200799e-01  5.17793814e-03\n",
      "   4.79477218e-01  2.18689836e-01]\n",
      " [ 1.56230108e-01 -1.98152034e-03 -8.60468500e-02  4.39891069e-02\n",
      "  -4.96639671e-01  1.34692972e-01]\n",
      " [ 1.18510152e-02  3.25954481e-01  9.38796109e-02  7.66416480e-02\n",
      "   5.66128047e-01  2.10777219e-01]\n",
      " [ 2.07280572e-01 -1.77745714e-01 -5.67146653e-03  1.33655572e-01\n",
      "   3.49227137e-01  1.78068365e-01]\n",
      " [ 6.32343666e-02 -1.42210627e-02 -4.70592290e-02 -5.75607772e-02\n",
      "  -5.76742634e-01  1.35935874e-01]]\n"
     ]
    }
   ],
   "source": [
    "fa.set_params(n_factors=6, rotation='varimax')\n",
    "fa.fit(df1)\n",
    "corr = fa.corr_\n",
    "loadings = fa.loadings_   # eigenvectors \n",
    "print(loadings)"
   ]
  },
  {
   "cell_type": "markdown",
   "id": "64fab2ba",
   "metadata": {},
   "source": [
    "Власні числа: \n",
    "\n",
    "original_eigen_values (numpy.ndarray) – The original eigenvalues\n",
    "\n",
    "common_factor_eigen_values (numpy.ndarray) – The common factor eigenvalues\n"
   ]
  },
  {
   "cell_type": "code",
   "execution_count": 106,
   "id": "67764434",
   "metadata": {},
   "outputs": [
    {
     "data": {
      "text/plain": [
       "(array([5.13431118, 2.75188667, 2.14270195, 1.85232761, 1.54816285,\n",
       "        1.07358247, 0.83953893, 0.79920618, 0.71898919, 0.68808879,\n",
       "        0.67637336, 0.65179984, 0.62325295, 0.59656284, 0.56309083,\n",
       "        0.54330533, 0.51451752, 0.49450315, 0.48263952, 0.448921  ,\n",
       "        0.42336611, 0.40067145, 0.38780448, 0.38185679, 0.26253902]),\n",
       " array([ 4.62151801,  2.28722512,  1.58418949,  1.24487285,  0.99295601,\n",
       "         0.52056474,  0.25772607,  0.20470979,  0.12171439,  0.10335508,\n",
       "         0.07351889,  0.04212905,  0.03273147,  0.0170855 , -0.00983342,\n",
       "        -0.03318659, -0.04583048, -0.04895868, -0.06093545, -0.07926602,\n",
       "        -0.0859421 , -0.09982342, -0.11016681, -0.12563658, -0.15339095]))"
      ]
     },
     "execution_count": 106,
     "metadata": {},
     "output_type": "execute_result"
    }
   ],
   "source": [
    "fa.get_eigenvalues()"
   ]
  },
  {
   "cell_type": "markdown",
   "id": "400ab4e2",
   "metadata": {},
   "source": [
    "Тепер з'ясуємо, які змінні входять в який фактор. Для зручності ми  трохи переформатуємо таблицю. "
   ]
  },
  {
   "cell_type": "code",
   "execution_count": 89,
   "id": "478af8d8",
   "metadata": {},
   "outputs": [],
   "source": [
    "names = df1.loc['A1': 'O5']"
   ]
  },
  {
   "cell_type": "code",
   "execution_count": 90,
   "id": "4ed354db",
   "metadata": {},
   "outputs": [
    {
     "data": {
      "text/html": [
       "<div>\n",
       "<style scoped>\n",
       "    .dataframe tbody tr th:only-of-type {\n",
       "        vertical-align: middle;\n",
       "    }\n",
       "\n",
       "    .dataframe tbody tr th {\n",
       "        vertical-align: top;\n",
       "    }\n",
       "\n",
       "    .dataframe thead th {\n",
       "        text-align: right;\n",
       "    }\n",
       "</style>\n",
       "<table border=\"1\" class=\"dataframe\">\n",
       "  <thead>\n",
       "    <tr style=\"text-align: right;\">\n",
       "      <th></th>\n",
       "      <th>F1</th>\n",
       "      <th>F2</th>\n",
       "      <th>F3</th>\n",
       "      <th>F4</th>\n",
       "      <th>F5</th>\n",
       "      <th>F6</th>\n",
       "    </tr>\n",
       "  </thead>\n",
       "  <tbody>\n",
       "    <tr>\n",
       "      <th>A1</th>\n",
       "      <td>0.095220</td>\n",
       "      <td>0.040783</td>\n",
       "      <td>0.048734</td>\n",
       "      <td>-0.530987</td>\n",
       "      <td>-0.113057</td>\n",
       "      <td>0.161216</td>\n",
       "    </tr>\n",
       "    <tr>\n",
       "      <th>A2</th>\n",
       "      <td>0.033131</td>\n",
       "      <td>0.235538</td>\n",
       "      <td>0.133714</td>\n",
       "      <td>0.661141</td>\n",
       "      <td>0.063734</td>\n",
       "      <td>-0.006244</td>\n",
       "    </tr>\n",
       "    <tr>\n",
       "      <th>A3</th>\n",
       "      <td>-0.009621</td>\n",
       "      <td>0.343008</td>\n",
       "      <td>0.121353</td>\n",
       "      <td>0.605933</td>\n",
       "      <td>0.033990</td>\n",
       "      <td>0.160106</td>\n",
       "    </tr>\n",
       "    <tr>\n",
       "      <th>A4</th>\n",
       "      <td>-0.081518</td>\n",
       "      <td>0.219717</td>\n",
       "      <td>0.235140</td>\n",
       "      <td>0.404594</td>\n",
       "      <td>-0.125338</td>\n",
       "      <td>0.086356</td>\n",
       "    </tr>\n",
       "    <tr>\n",
       "      <th>A5</th>\n",
       "      <td>-0.149616</td>\n",
       "      <td>0.414458</td>\n",
       "      <td>0.106382</td>\n",
       "      <td>0.469698</td>\n",
       "      <td>0.030977</td>\n",
       "      <td>0.236519</td>\n",
       "    </tr>\n",
       "  </tbody>\n",
       "</table>\n",
       "</div>"
      ],
      "text/plain": [
       "          F1        F2        F3        F4        F5        F6\n",
       "A1  0.095220  0.040783  0.048734 -0.530987 -0.113057  0.161216\n",
       "A2  0.033131  0.235538  0.133714  0.661141  0.063734 -0.006244\n",
       "A3 -0.009621  0.343008  0.121353  0.605933  0.033990  0.160106\n",
       "A4 -0.081518  0.219717  0.235140  0.404594 -0.125338  0.086356\n",
       "A5 -0.149616  0.414458  0.106382  0.469698  0.030977  0.236519"
      ]
     },
     "execution_count": 90,
     "metadata": {},
     "output_type": "execute_result"
    }
   ],
   "source": [
    "df2 = pd.DataFrame.from_records(loadings, columns=['F1','F2','F3','F4', 'F5', 'F6'], index =[i  for i in names])\n",
    "df2.head()"
   ]
  },
  {
   "cell_type": "markdown",
   "id": "3c3ab426",
   "metadata": {},
   "source": [
    "Тепер зобразимо графічно, який змінні входять в який фактор.  Див [тут](https://medium.com/swlh/factor-analysis-characterising-companies-based-on-financial-metrics-3d5fcc4e8b6f). "
   ]
  },
  {
   "cell_type": "code",
   "execution_count": 24,
   "id": "51ca8061",
   "metadata": {},
   "outputs": [
    {
     "data": {
      "image/png": "[encoded data removed]",
      "text/plain": [
       "<Figure size 1800x360 with 2 Axes>"
      ]
     },
     "metadata": {
      "needs_background": "light"
     },
     "output_type": "display_data"
    }
   ],
   "source": [
    "plt.figure(figsize=(25,5))\n",
    "\n",
    "# plot the heatmap for correlation matrix\n",
    "ax = sns.heatmap(df2.T, \n",
    "                 vmin=-1, vmax=1, center=0,\n",
    "                 cmap=sns.diverging_palette(220, 20, n=200),\n",
    "                 square=True, annot=True, fmt='.2f')\n",
    "\n",
    "ax.set_yticklabels(ax.get_yticklabels(), rotation=0);"
   ]
  },
  {
   "cell_type": "markdown",
   "id": "e3124ec1",
   "metadata": {},
   "source": [
    "Наприклад, фактор 4 (F4) формується за допомоги змінних А1--А5, причому А1 і А2--А5 мають протилежний вплив. \n",
    "\n",
    "Отримаємо ще наступну інформацію про модель. По-перше, отримаємо дисперсії навантажень (factor variances). "
   ]
  },
  {
   "cell_type": "code",
   "execution_count": 26,
   "id": "b8dcaac5",
   "metadata": {},
   "outputs": [
    {
     "data": {
      "text/plain": [
       "array([[2.73, 2.6 , 2.07, 1.71, 1.5 , 0.63],\n",
       "       [0.11, 0.1 , 0.08, 0.07, 0.06, 0.03],\n",
       "       [0.11, 0.21, 0.3 , 0.36, 0.42, 0.45]])"
      ]
     },
     "execution_count": 26,
     "metadata": {},
     "output_type": "execute_result"
    }
   ],
   "source": [
    "np.round(fa.get_factor_variance(),2)"
   ]
  },
  {
   "cell_type": "markdown",
   "id": "52d44fde",
   "metadata": {},
   "source": [
    "Насправді, значення в цьому масиві мають наступний сенс:"
   ]
  },
  {
   "cell_type": "code",
   "execution_count": 73,
   "id": "4e503d39",
   "metadata": {},
   "outputs": [
    {
     "data": {
      "text/html": [
       "<div>\n",
       "<style scoped>\n",
       "    .dataframe tbody tr th:only-of-type {\n",
       "        vertical-align: middle;\n",
       "    }\n",
       "\n",
       "    .dataframe tbody tr th {\n",
       "        vertical-align: top;\n",
       "    }\n",
       "\n",
       "    .dataframe thead th {\n",
       "        text-align: right;\n",
       "    }\n",
       "</style>\n",
       "<table border=\"1\" class=\"dataframe\">\n",
       "  <thead>\n",
       "    <tr style=\"text-align: right;\">\n",
       "      <th></th>\n",
       "      <th>F1</th>\n",
       "      <th>F2</th>\n",
       "      <th>F3</th>\n",
       "      <th>F4</th>\n",
       "      <th>F5</th>\n",
       "      <th>F6</th>\n",
       "    </tr>\n",
       "  </thead>\n",
       "  <tbody>\n",
       "    <tr>\n",
       "      <th>Cumulative Vars</th>\n",
       "      <td>2.7270</td>\n",
       "      <td>2.6022</td>\n",
       "      <td>2.0735</td>\n",
       "      <td>1.7135</td>\n",
       "      <td>1.5048</td>\n",
       "      <td>0.6303</td>\n",
       "    </tr>\n",
       "    <tr>\n",
       "      <th>SS loadings</th>\n",
       "      <td>0.1091</td>\n",
       "      <td>0.1041</td>\n",
       "      <td>0.0829</td>\n",
       "      <td>0.0685</td>\n",
       "      <td>0.0602</td>\n",
       "      <td>0.0252</td>\n",
       "    </tr>\n",
       "    <tr>\n",
       "      <th>Proportional Vars</th>\n",
       "      <td>0.1091</td>\n",
       "      <td>0.2132</td>\n",
       "      <td>0.2961</td>\n",
       "      <td>0.3646</td>\n",
       "      <td>0.4248</td>\n",
       "      <td>0.4501</td>\n",
       "    </tr>\n",
       "  </tbody>\n",
       "</table>\n",
       "</div>"
      ],
      "text/plain": [
       "                       F1      F2      F3      F4      F5      F6\n",
       "Cumulative Vars    2.7270  2.6022  2.0735  1.7135  1.5048  0.6303\n",
       "SS loadings        0.1091  0.1041  0.0829  0.0685  0.0602  0.0252\n",
       "Proportional Vars  0.1091  0.2132  0.2961  0.3646  0.4248  0.4501"
      ]
     },
     "execution_count": 73,
     "metadata": {},
     "output_type": "execute_result"
    }
   ],
   "source": [
    "variances = np.round(fa.get_factor_variance(),4) \n",
    "\n",
    "df3 = pd.DataFrame.from_records(variances, columns=['F1','F2','F3','F4', 'F5', 'F6'], \\\n",
    "                                index = {'SS loadings', 'Proportional Vars', 'Cumulative Vars'})\n",
    "df3.head()"
   ]
  },
  {
   "cell_type": "markdown",
   "id": "4f761f80",
   "metadata": {},
   "source": [
    "Cumulative Vars-- це сума квадратів величин, що у стовбчиках, що відповідають $Fi$: \n",
    "$$\n",
    "Cumulative Vars = \\sum_{i=1}^{25} \\lambda_{ij}^2. \n",
    "$$"
   ]
  },
  {
   "cell_type": "code",
   "execution_count": 75,
   "id": "4ab5d071",
   "metadata": {},
   "outputs": [
    {
     "name": "stdout",
     "output_type": "stream",
     "text": [
      "[2.7269887  2.602239   2.07347064 1.7134991  1.50483135 0.63029714]\n"
     ]
    }
   ],
   "source": [
    "print(np.sum(loadings**2, axis = 0))"
   ]
  },
  {
   "cell_type": "markdown",
   "id": "3d2ab4a5",
   "metadata": {},
   "source": [
    "(тут це не те саме, що власні числа, тому що власні вектори не нормовані! В лекції використовувалось те, що власні вектори нормовані, в пакеті- це не так)."
   ]
  },
  {
   "cell_type": "markdown",
   "id": "a0384cb1",
   "metadata": {},
   "source": [
    "SS loadings: це пропорція CumulativeVars, що відповідають першим 6ти власним векторам, до кількості координат, тобто до 25. "
   ]
  },
  {
   "cell_type": "code",
   "execution_count": 76,
   "id": "75519396",
   "metadata": {},
   "outputs": [
    {
     "name": "stdout",
     "output_type": "stream",
     "text": [
      "[0.10907955 0.10408956 0.08293883 0.06853996 0.06019325 0.02521189]\n"
     ]
    }
   ],
   "source": [
    "print(np.sum(loadings**2, axis = 0)/25)"
   ]
  },
  {
   "cell_type": "markdown",
   "id": "e4b541d8",
   "metadata": {},
   "source": [
    "Proportional vars: відповідно, кумулятивна сума. Тобто, наприклад, "
   ]
  },
  {
   "cell_type": "code",
   "execution_count": 77,
   "id": "5b65f8a8",
   "metadata": {},
   "outputs": [
    {
     "name": "stdout",
     "output_type": "stream",
     "text": [
      "0.21316910794459665\n"
     ]
    }
   ],
   "source": [
    "SS = np.sum(loadings**2, axis = 0)/25\n",
    "print(SS[0]+ SS[1])"
   ]
  },
  {
   "cell_type": "markdown",
   "id": "a82b6fe0",
   "metadata": {},
   "source": [
    "Як ми бачимо, 6 факторів пояснюють $45\\%$ дисперсії.  Отримаємо тепер частки спільної дисперсії, яка пояснена факторами (communalities)\n",
    "$$\n",
    "\\hat{h}_i^2 = \\sum_{j=1}^6 \\hat{\\lambda}_{ij}^2, \\quad  i = 1, \\dots,25. \n",
    "$$"
   ]
  },
  {
   "cell_type": "code",
   "execution_count": 18,
   "id": "97377a2d",
   "metadata": {},
   "outputs": [
    {
     "data": {
      "text/plain": [
       "array([0.33, 0.52, 0.53, 0.3 , 0.48, 0.36, 0.5 , 0.32, 0.59, 0.43, 0.4 ,\n",
       "       0.56, 0.48, 0.56, 0.4 , 0.7 , 0.67, 0.54, 0.51, 0.35, 0.35, 0.3 ,\n",
       "       0.49, 0.25, 0.36])"
      ]
     },
     "execution_count": 18,
     "metadata": {},
     "output_type": "execute_result"
    }
   ],
   "source": [
    "np.round(fa.get_communalities(),2)"
   ]
  },
  {
   "cell_type": "code",
   "execution_count": 57,
   "id": "9daef992",
   "metadata": {},
   "outputs": [
    {
     "name": "stdout",
     "output_type": "stream",
     "text": [
      "[0.33382529 0.51566375 0.52641765 0.29707441 0.48299467 0.35878279\n",
      " 0.49542081 0.31686484 0.59139171 0.43210146 0.39874554 0.55999664\n",
      " 0.48248334 0.56004368 0.40138104 0.70203777 0.66528024 0.5379306\n",
      " 0.50555798 0.3491531  0.34667054 0.29854403 0.4860021  0.24612269\n",
      " 0.36083927]\n"
     ]
    }
   ],
   "source": [
    "print(np.sum(loadings**2, axis = 1))"
   ]
  },
  {
   "cell_type": "markdown",
   "id": "f5b2e8cd",
   "metadata": {},
   "source": [
    "І у вигляді табдлиці:"
   ]
  },
  {
   "cell_type": "code",
   "execution_count": 19,
   "id": "8d913e23",
   "metadata": {},
   "outputs": [
    {
     "data": {
      "text/html": [
       "<div>\n",
       "<style scoped>\n",
       "    .dataframe tbody tr th:only-of-type {\n",
       "        vertical-align: middle;\n",
       "    }\n",
       "\n",
       "    .dataframe tbody tr th {\n",
       "        vertical-align: top;\n",
       "    }\n",
       "\n",
       "    .dataframe thead th {\n",
       "        text-align: right;\n",
       "    }\n",
       "</style>\n",
       "<table border=\"1\" class=\"dataframe\">\n",
       "  <thead>\n",
       "    <tr style=\"text-align: right;\">\n",
       "      <th></th>\n",
       "      <th>h2</th>\n",
       "    </tr>\n",
       "  </thead>\n",
       "  <tbody>\n",
       "    <tr>\n",
       "      <th>A1</th>\n",
       "      <td>0.33</td>\n",
       "    </tr>\n",
       "    <tr>\n",
       "      <th>A2</th>\n",
       "      <td>0.52</td>\n",
       "    </tr>\n",
       "    <tr>\n",
       "      <th>A3</th>\n",
       "      <td>0.53</td>\n",
       "    </tr>\n",
       "    <tr>\n",
       "      <th>A4</th>\n",
       "      <td>0.30</td>\n",
       "    </tr>\n",
       "    <tr>\n",
       "      <th>A5</th>\n",
       "      <td>0.48</td>\n",
       "    </tr>\n",
       "  </tbody>\n",
       "</table>\n",
       "</div>"
      ],
      "text/plain": [
       "      h2\n",
       "A1  0.33\n",
       "A2  0.52\n",
       "A3  0.53\n",
       "A4  0.30\n",
       "A5  0.48"
      ]
     },
     "execution_count": 19,
     "metadata": {},
     "output_type": "execute_result"
    }
   ],
   "source": [
    "communalities = np.round(fa.get_communalities(),2).reshape(25,1)\n",
    "\n",
    "df4 = pd.DataFrame.from_records(communalities, columns = ['h2'], index = [i for i in names])\n",
    "df4.head()"
   ]
  },
  {
   "cell_type": "markdown",
   "id": "9228bd39",
   "metadata": {},
   "source": [
    "Як ми бачимо, значення суттєво менші за 1, отже,фактори погано пояснюють модель. "
   ]
  }
 ],
 "metadata": {
  "kernelspec": {
   "display_name": "Python 3 (ipykernel)",
   "language": "python",
   "name": "python3"
  },
  "language_info": {
   "codemirror_mode": {
    "name": "ipython",
    "version": 3
   },
   "file_extension": ".py",
   "mimetype": "text/x-python",
   "name": "python",
   "nbconvert_exporter": "python",
   "pygments_lexer": "ipython3",
   "version": "3.9.12"
  }
 },
 "nbformat": 4,
 "nbformat_minor": 5
}
