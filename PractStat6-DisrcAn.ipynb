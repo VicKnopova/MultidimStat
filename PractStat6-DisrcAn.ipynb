{
 "cells": [
  {
   "cell_type": "markdown",
   "id": "106c3ae5",
   "metadata": {},
   "source": [
    "## Дискримінантний аналіз\n",
    "\n",
    "Див. також\n",
    "\n",
    "1) https://www.statology.org/linear-discriminant-analysis-in-python/\n",
    "\n",
    "2) https://sebastianraschka.com/Articles/2014_python_lda.html\n",
    "\n",
    "3) https://www.geeksforgeeks.org/ml-linear-discriminant-analysis/"
   ]
  },
  {
   "cell_type": "code",
   "execution_count": 1,
   "id": "2a5c00d9",
   "metadata": {},
   "outputs": [],
   "source": [
    "import numpy as np\n",
    "import pandas as pd\n",
    "import matplotlib.pyplot as plt\n",
    "from matplotlib import style\n",
    "from sklearn.discriminant_analysis import LinearDiscriminantAnalysis"
   ]
  },
  {
   "cell_type": "markdown",
   "id": "7ce6b0db",
   "metadata": {},
   "source": [
    "### Приклад 1. Example 8.2 Rencher\n",
    "\n",
    "В цій таблиці наведені максимальна міцність $y_1$  і межа текучості $y_1$  для сталі, прокатаної при двох температурах $T_1$ та $T_2$.  Наша задача- вдало розділити дані на 2 групи. "
   ]
  },
  {
   "cell_type": "code",
   "execution_count": 2,
   "id": "e3b9d5cc",
   "metadata": {},
   "outputs": [
    {
     "name": "stdout",
     "output_type": "stream",
     "text": [
      "[[ 1. 33. 60.]\n",
      " [ 1. 36. 61.]\n",
      " [ 1. 35. 64.]\n",
      " [ 1. 38. 63.]\n",
      " [ 1. 40. 65.]\n",
      " [ 2. 35. 57.]\n",
      " [ 2. 36. 59.]\n",
      " [ 2. 38. 59.]\n",
      " [ 2. 39. 61.]\n",
      " [ 2. 41. 63.]\n",
      " [ 2. 43. 65.]\n",
      " [ 2. 41. 59.]]\n"
     ]
    }
   ],
   "source": [
    "Temp = np.loadtxt(\"T8_1_STEEL.DAT\", dtype=float)\n",
    "print(Temp)\n",
    "Temp1 = Temp[:5,1:].T #  T1\n",
    "Temp2 = Temp[5:,1:].T  # Table of temperatures  T2\n",
    "# np.array(Temp1).T\n",
    "# Temp['group'] = Temp[:,0]"
   ]
  },
  {
   "cell_type": "code",
   "execution_count": 3,
   "id": "727f8db7",
   "metadata": {},
   "outputs": [
    {
     "data": {
      "image/png": "[encoded data removed]",
      "text/plain": [
       "<Figure size 504x504 with 1 Axes>"
      ]
     },
     "metadata": {
      "needs_background": "light"
     },
     "output_type": "display_data"
    }
   ],
   "source": [
    "#Plot the data\n",
    "fig = plt.figure(figsize=(7,7))\n",
    "ax0 = fig.add_subplot(111)\n",
    "\n",
    "\n",
    "# scatter малює лише точки \n",
    "# marker='s' малює  квадрати,'o' - коло\n",
    "ax0.scatter(Temp1[0],Temp1[1],marker='s',c='blue',edgecolor='black')\n",
    "\n",
    "# додаємо точки \n",
    "ax0.scatter(Temp2[0],Temp2[1],marker='o',c='red',edgecolor='black')  \n",
    "\n",
    "plt.show()"
   ]
  },
  {
   "cell_type": "markdown",
   "id": "1d3109eb",
   "metadata": {},
   "source": [
    "Видно, що дані можна розділити на 2 групи. Зробимо це через дискримінантну функцію\n",
    "$$\n",
    "z = a'y, \\quad a = S_{pl}^{-1} (\\bar{y}_1 - \\bar{y}_2). \n",
    "$$"
   ]
  },
  {
   "cell_type": "markdown",
   "id": "16e3e3e7",
   "metadata": {},
   "source": [
    "Обчислюємо коваріаційні матриці:"
   ]
  },
  {
   "cell_type": "code",
   "execution_count": 4,
   "id": "460f42bf",
   "metadata": {},
   "outputs": [
    {
     "name": "stdout",
     "output_type": "stream",
     "text": [
      "[[7.3 4.2]\n",
      " [4.2 4.3]]\n",
      "[[8.33333333 6.66666667]\n",
      " [6.66666667 7.61904762]]\n"
     ]
    }
   ],
   "source": [
    "S1 = np.cov(Temp1)\n",
    "S2 = np.cov(Temp2)\n",
    "print(S1)\n",
    "print(S2)"
   ]
  },
  {
   "cell_type": "code",
   "execution_count": 5,
   "id": "c1d83213",
   "metadata": {},
   "outputs": [
    {
     "name": "stdout",
     "output_type": "stream",
     "text": [
      "5 7\n",
      "[36.4 62.6] [39.         60.42857143]\n"
     ]
    }
   ],
   "source": [
    "d1 = len(Temp1.T) # кількість елементів в T1\n",
    "d2 = len(Temp2.T) # кількість елементів в   T2\n",
    "\n",
    "print(d1,d2)\n",
    "\n",
    "y1 = np.mean(Temp1, axis=1)\n",
    "y2 = np.mean(Temp2, axis=1)\n",
    "\n",
    "print(y1,y2)"
   ]
  },
  {
   "cell_type": "code",
   "execution_count": 6,
   "id": "39c2243a",
   "metadata": {},
   "outputs": [
    {
     "name": "stdout",
     "output_type": "stream",
     "text": [
      "[-1.63337671  1.81977879]\n"
     ]
    }
   ],
   "source": [
    "Spl = ((d1-1)*S1+ (d2-1)*S2)/(d1+d2-2)   #  зважена коваріація\n",
    "\n",
    "a = np.linalg.inv(Spl)@(y1-y2)  # a\n",
    "print(a)"
   ]
  },
  {
   "cell_type": "markdown",
   "id": "ece05ce9",
   "metadata": {},
   "source": [
    "Обчислимо тепер $z_1 = a' y_1$ та  $z_2 = a' y_2$. "
   ]
  },
  {
   "cell_type": "code",
   "execution_count": 7,
   "id": "9ee8d3f6",
   "metadata": {},
   "outputs": [
    {
     "name": "stdout",
     "output_type": "stream",
     "text": [
      "[[33. 36. 35. 38. 40.]\n",
      " [60. 61. 64. 63. 65.]]\n",
      "[55.28529603 52.2049447  59.29765777 52.57774886 52.95055303]\n"
     ]
    }
   ],
   "source": [
    "print(Temp1)\n",
    "z1 = Temp1.T @ a\n",
    "print(z1)\n",
    "\n",
    "z2 = Temp2.T @ a"
   ]
  },
  {
   "cell_type": "markdown",
   "id": "e4f62027",
   "metadata": {},
   "source": [
    "Розділимо  z  на 2 групи (z1 та z2) відповідно до того, чи більше ці значення\n",
    "zmean або менші"
   ]
  },
  {
   "cell_type": "code",
   "execution_count": 9,
   "id": "59b806cf",
   "metadata": {},
   "outputs": [],
   "source": [
    "zmean = 0.5*(np.mean(z1)+np.mean(z2)) # середнє значення\n",
    "\n",
    "t = Temp[:,1:]@a"
   ]
  },
  {
   "cell_type": "markdown",
   "id": "75fa714f",
   "metadata": {},
   "source": [
    "Ділимо на 2 групи,  1  та   2"
   ]
  },
  {
   "cell_type": "code",
   "execution_count": 10,
   "id": "9884182f",
   "metadata": {},
   "outputs": [
    {
     "name": "stdout",
     "output_type": "stream",
     "text": [
      "[1. 1. 1. 1. 1. 2. 2. 2. 2. 2. 2. 2.]\n"
     ]
    }
   ],
   "source": [
    "def group(x): \n",
    "    y=[]\n",
    "    for i in range(len(x)):\n",
    "        if (x[i] > zmean): \n",
    "            y = np.append(y,1)\n",
    "        else: y = np.append(y,2)\n",
    "    return y\n",
    "print(group(t))"
   ]
  },
  {
   "cell_type": "markdown",
   "id": "3316d1ed",
   "metadata": {},
   "source": [
    "Можна ще порахувати матрицю невідповідностей (далі буде в розділі 'класифікація'). "
   ]
  },
  {
   "cell_type": "markdown",
   "id": "5b73bbab",
   "metadata": {},
   "source": [
    "### Приклад 2.   8.4.1 з Rencher\n",
    "\n",
    "В таблиці знаходяться вимірювання параметрів шоломів  в залежності від того, до якої групи відноситься людина (гравець шкільної команди, гравець команди коледжа, або людина взагалі не грає в  футбол).  "
   ]
  },
  {
   "cell_type": "code",
   "execution_count": 11,
   "id": "bb268aed",
   "metadata": {},
   "outputs": [
    {
     "name": "stdout",
     "output_type": "stream",
     "text": [
      "[[ 1.   13.5  57.15 19.5  12.5  14.   11.  ]\n",
      " [ 1.   15.5  58.42 21.   12.   16.   12.  ]\n",
      " [ 1.   14.5  55.88 19.   10.   13.   12.  ]\n",
      " [ 1.   15.5  58.42 20.   13.5  15.   12.  ]\n",
      " [ 1.   14.5  58.42 20.   13.   15.5  12.  ]\n",
      " [ 1.   14.   60.96 21.   12.   14.   13.  ]\n",
      " [ 1.   15.   58.42 19.5  13.5  15.5  13.  ]\n",
      " [ 1.   15.   58.42 21.   13.   14.   13.  ]\n",
      " [ 1.   15.5  59.69 20.5  13.5  14.5  12.5 ]\n",
      " [ 1.   15.5  59.69 20.5  13.   15.   13.  ]]\n"
     ]
    }
   ],
   "source": [
    "Foot = np.loadtxt(\"T8_3_FOOTBALL.DAT\", dtype=float)\n",
    "print(Foot[:10,])"
   ]
  },
  {
   "cell_type": "code",
   "execution_count": 12,
   "id": "8a348068",
   "metadata": {},
   "outputs": [],
   "source": [
    "X = Foot[:, 1:]  #  змінні \n",
    "y = Foot[:,0]    #  перша колонка, номери груп\n",
    "# print(X)"
   ]
  },
  {
   "cell_type": "code",
   "execution_count": 13,
   "id": "c72b0b8f",
   "metadata": {},
   "outputs": [
    {
     "data": {
      "text/plain": [
       "array([148.5 , 585.47, 202.  , 126.  , 146.5 , 123.5 ])"
      ]
     },
     "execution_count": 13,
     "metadata": {},
     "output_type": "execute_result"
    }
   ],
   "source": [
    "np.sum(X[:10,], axis = 0)  # сумуємо по стовбчиках в Х"
   ]
  },
  {
   "cell_type": "code",
   "execution_count": 16,
   "id": "b5054b1a",
   "metadata": {},
   "outputs": [],
   "source": [
    "model = LinearDiscriminantAnalysis()   #  задаємо модель \n",
    "model.fit(X,y)                         #  підгонка моделі\n",
    "\n",
    "data_plot = model.fit(X, y).transform(X) # малюємо картинку, отриману після перетворення\n",
    "target_names = y"
   ]
  },
  {
   "cell_type": "code",
   "execution_count": 17,
   "id": "99cf5bd4",
   "metadata": {},
   "outputs": [
    {
     "data": {
      "image/png": "[encoded data removed]",
      "text/plain": [
       "<Figure size 432x288 with 1 Axes>"
      ]
     },
     "metadata": {
      "needs_background": "light"
     },
     "output_type": "display_data"
    }
   ],
   "source": [
    "plt.figure()\n",
    "colors = ['red', 'green', 'blue']   # задаємо список кольорів \n",
    "\n",
    "for color, i, target_name in zip(colors, [1, 2, 3], target_names):\n",
    "    plt.scatter(data_plot[y == i, 0], data_plot[y == i, 1], alpha=.8, color=color,\n",
    "             label = target_name)"
   ]
  },
  {
   "cell_type": "markdown",
   "id": "41e42e67",
   "metadata": {},
   "source": [
    "Що робить data_plot = model.fit(X, y).transform(X): перераховує дані в нових координатах"
   ]
  },
  {
   "cell_type": "code",
   "execution_count": 18,
   "id": "367455ef",
   "metadata": {},
   "outputs": [],
   "source": [
    "X_bar = np.mean(X,0)                   # взяли середнє по стовбчикам\n",
    "X_centr =  X - X_bar                   # центрували \n",
    "b = np.array(model.scalings_ )         # власні вектори E^{-1}H, не нормовані\n",
    "\n",
    "z =  np.dot(X_centr,b)                 # дискримінантна функція (те саме: data_plot) \n",
    "# print(data_plot)"
   ]
  },
  {
   "cell_type": "code",
   "execution_count": 29,
   "id": "d6b38214",
   "metadata": {},
   "outputs": [
    {
     "data": {
      "text/plain": [
       "['__class__',\n",
       " '__delattr__',\n",
       " '__dict__',\n",
       " '__dir__',\n",
       " '__doc__',\n",
       " '__eq__',\n",
       " '__format__',\n",
       " '__ge__',\n",
       " '__getattribute__',\n",
       " '__getstate__',\n",
       " '__gt__',\n",
       " '__hash__',\n",
       " '__init__',\n",
       " '__init_subclass__',\n",
       " '__le__',\n",
       " '__lt__',\n",
       " '__module__',\n",
       " '__ne__',\n",
       " '__new__',\n",
       " '__reduce__',\n",
       " '__reduce_ex__',\n",
       " '__repr__',\n",
       " '__setattr__',\n",
       " '__setstate__',\n",
       " '__sizeof__',\n",
       " '__str__',\n",
       " '__subclasshook__',\n",
       " '__weakref__',\n",
       " '_check_feature_names',\n",
       " '_check_n_features',\n",
       " '_estimator_type',\n",
       " '_get_param_names',\n",
       " '_get_tags',\n",
       " '_max_components',\n",
       " '_more_tags',\n",
       " '_predict_proba_lr',\n",
       " '_repr_html_',\n",
       " '_repr_html_inner',\n",
       " '_repr_mimebundle_',\n",
       " '_solve_eigen',\n",
       " '_solve_lsqr',\n",
       " '_solve_svd',\n",
       " '_validate_data',\n",
       " 'classes_',\n",
       " 'coef_',\n",
       " 'covariance_estimator',\n",
       " 'decision_function',\n",
       " 'explained_variance_ratio_',\n",
       " 'fit',\n",
       " 'fit_transform',\n",
       " 'get_params',\n",
       " 'intercept_',\n",
       " 'means_',\n",
       " 'n_components',\n",
       " 'n_features_in_',\n",
       " 'predict',\n",
       " 'predict_log_proba',\n",
       " 'predict_proba',\n",
       " 'priors',\n",
       " 'priors_',\n",
       " 'scalings_',\n",
       " 'score',\n",
       " 'set_params',\n",
       " 'shrinkage',\n",
       " 'solver',\n",
       " 'store_covariance',\n",
       " 'tol',\n",
       " 'transform',\n",
       " 'xbar_']"
      ]
     },
     "execution_count": 29,
     "metadata": {},
     "output_type": "execute_result"
    }
   ],
   "source": [
    "dir(model)  # атрібути"
   ]
  },
  {
   "cell_type": "markdown",
   "id": "36e7e20e",
   "metadata": {},
   "source": [
    "Будемо округляти все до 2го знаку: "
   ]
  },
  {
   "cell_type": "code",
   "execution_count": 17,
   "id": "1a10da46",
   "metadata": {},
   "outputs": [
    {
     "name": "stdout",
     "output_type": "stream",
     "text": [
      "[0.33 0.33 0.33]\n",
      "[[ 9.48e-01  1.41e+00]\n",
      " [-3.64e-03 -5.13e-04]\n",
      " [-6.44e-03 -2.86e-02]\n",
      " [-6.47e-01  5.40e-01]\n",
      " [-5.04e-01 -3.84e-01]\n",
      " [-8.29e-01 -1.53e+00]]\n",
      "[[15.2  58.94 20.11 13.08 14.73 12.27]\n",
      " [15.42 57.38 19.8  10.08 13.45 11.94]\n",
      " [15.58 57.77 19.81 10.95 13.7  11.8 ]]\n"
     ]
    }
   ],
   "source": [
    "np.set_printoptions(2)\n",
    "print(model.priors_)     # Попередній розподіл: всі групи рівноцінні \n",
    "print(model.scalings_)   # Перші 2 власних вектори E^{-1}H, не нормовані\n",
    "                         # перші 2- тому що у всіх інших власні числа комплексні\n",
    "print(model.means_)      # Середні по колонкам V2 -- V7"
   ]
  },
  {
   "cell_type": "markdown",
   "id": "4c6969fe",
   "metadata": {},
   "source": [
    "Знайдемо відношення $\\frac{\\lambda_1}{\\lambda_1+\\lambda_2}$. Самих власних чисел в аттрібутах немає, є лише це відношення (explained_variance_ratio_). "
   ]
  },
  {
   "cell_type": "code",
   "execution_count": 47,
   "id": "5aa54548",
   "metadata": {},
   "outputs": [
    {
     "name": "stdout",
     "output_type": "stream",
     "text": [
      "[0.94 0.06]\n"
     ]
    }
   ],
   "source": [
    "print(model.explained_variance_ratio_)"
   ]
  },
  {
   "cell_type": "code",
   "execution_count": 45,
   "id": "faa9d489",
   "metadata": {},
   "outputs": [
    {
     "name": "stdout",
     "output_type": "stream",
     "text": [
      "[[-1.9   0.01  0.01  1.2   0.99  1.67]\n",
      " [ 0.57 -0.    0.   -0.96 -0.44 -0.39]\n",
      " [ 1.32 -0.   -0.02 -0.25 -0.54 -1.29]]\n"
     ]
    }
   ],
   "source": [
    "print(model.coef_)"
   ]
  },
  {
   "cell_type": "markdown",
   "id": "666bf3c7",
   "metadata": {},
   "source": [
    "Для того, щоб знайти дискримінантні функції, нам потрібно знайти власні числа та власні вектори матриці $E^{-1}H$. \n",
    "\n",
    "Наведемо приклад обчислення матриць $E$ та $H$. При цьому ми використаємо формули \n",
    "\\begin{equation}\\label{E}\n",
    "E= \\sum_{ij} y_{ij}y_{ij}'- \\sum_{i=1}^k \\frac{1}{n}\\bar{y}_{i\\cdot} \\bar{y}_{i\\cdot}'. \n",
    "\\end{equation}\n",
    "та  \n",
    "\\begin{equation}\\label{H}\n",
    "H= \\sum_{i=1}^k \\frac{1}{n}\\bar{y}_{i\\cdot} \\bar{y}_{i\\cdot}'- \\frac{1}{kn}y_{\\cdot\\cdot}y_{\\cdot\\cdot}'\n",
    "\\end{equation}"
   ]
  },
  {
   "cell_type": "code",
   "execution_count": 18,
   "id": "ba79e3b3",
   "metadata": {},
   "outputs": [],
   "source": [
    "p = 6   # розмірність \n",
    "n = 30  # кількість спостережень в групі\n",
    "k = 3   # кількість груп"
   ]
  },
  {
   "cell_type": "markdown",
   "id": "bab909e2",
   "metadata": {},
   "source": [
    "Порахуємо суму  \n",
    "$$\n",
    "S_1 =\\sum_{i=1}^k \\sum_{j=1}^n y_{ij}y_{ij}',\n",
    "$$\n",
    "$n=30$, $k=3$ $len(y)= n*k = 90$. "
   ]
  },
  {
   "cell_type": "code",
   "execution_count": 19,
   "id": "0d742ad8",
   "metadata": {},
   "outputs": [
    {
     "name": "stdout",
     "output_type": "stream",
     "text": [
      "[[ 21383.84  80471.09  27603.35  15752.77  19354.57  16655.3 ]\n",
      " [ 80471.09 303376.09 104064.45  59512.84  72975.87  62748.25]\n",
      " [ 27603.35 104064.45  35716.09  20393.33  25031.63  21523.97]\n",
      " [ 15752.77  59512.84  20393.33  11885.51  14376.49  12306.24]\n",
      " [ 19354.57  72975.87  25031.63  14376.49  17623.63  15092.98]\n",
      " [ 16655.3   62748.25  21523.97  12306.24  15092.98  13005.66]]\n"
     ]
    }
   ],
   "source": [
    "S1 = np.zeros(shape=(6,6))\n",
    "for i in range(len(y)): \n",
    "    S1+=(np.array(X[i,:]).reshape(6,1))@(np.array(X[i,:]).reshape(1,6))\n",
    "print(S1)"
   ]
  },
  {
   "cell_type": "markdown",
   "id": "aa5c036c",
   "metadata": {},
   "source": [
    "Рахуємо суми всередині групи \n",
    "$$\n",
    "S_2= \\frac{1}{n}\\sum_{i=1}^k y_{i \\cdot} y_{i \\cdot}'\n",
    "$$"
   ]
  },
  {
   "cell_type": "code",
   "execution_count": 48,
   "id": "d49382ad",
   "metadata": {},
   "outputs": [
    {
     "name": "stdout",
     "output_type": "stream",
     "text": [
      "[[ 456.   1768.11  603.25  392.5   442.    368.  ]\n",
      " [ 462.6  1721.39  594.1   302.4   403.6   358.3 ]\n",
      " [ 467.4  1733.1   594.3   328.4   410.9   354.1 ]]\n"
     ]
    }
   ],
   "source": [
    "# 1. Середнє по групам і по стовбчикам, тобто y_{i \\cdot}\n",
    "g = np.zeros(shape =(3,6))\n",
    "for i in range(3):\n",
    "    g[i,:]+= np.sum(X[i*30: (i+1)*30,:], axis = 0)\n",
    "print(g)"
   ]
  },
  {
   "cell_type": "code",
   "execution_count": 21,
   "id": "f15192a9",
   "metadata": {},
   "outputs": [
    {
     "name": "stdout",
     "output_type": "stream",
     "text": [
      "[[ 21346.58  80420.8   27589.62  15745.48  19343.73  16635.46]\n",
      " [ 80420.8  303101.07 103975.72  59456.05  72946.28  62704.31]\n",
      " [ 27589.62 103975.72  35668.6   20386.65  25020.44  21510.12]\n",
      " [ 15745.48  59456.05  20386.65  11778.29  14349.11  12302.55]\n",
      " [ 19343.73  72946.28  25020.44  14349.11  17569.86  15092.19]\n",
      " [ 16635.46  62704.31  21510.12  12302.55  15092.19  12972.99]]\n"
     ]
    }
   ],
   "source": [
    "# 2. рахуємо скалярний добуток і сумуємо\n",
    "B= np.zeros(shape=(6,6))\n",
    "for i in range(3): \n",
    "    B+=  (np.array(g[i,:]).reshape((6,1)))  @ (np.array(g[i,:]).reshape((1,6)))\n",
    "S2 = B/30\n",
    "print(S2)"
   ]
  },
  {
   "cell_type": "markdown",
   "id": "6a079496",
   "metadata": {},
   "source": [
    "Тоді $E= S_1 - S_2$. "
   ]
  },
  {
   "cell_type": "code",
   "execution_count": 22,
   "id": "7f92afd1",
   "metadata": {},
   "outputs": [
    {
     "name": "stdout",
     "output_type": "stream",
     "text": [
      "[[ 37.26  50.28  13.74   7.29  10.84  19.84]\n",
      " [ 50.28 275.02  88.74  56.79  29.59  43.94]\n",
      " [ 13.74  88.74  47.5    6.68  11.19  13.84]\n",
      " [  7.29  56.79   6.68 107.22  27.38   3.69]\n",
      " [ 10.84  29.59  11.19  27.38  53.77   0.79]\n",
      " [ 19.84  43.94  13.84   3.69   0.79  32.67]]\n"
     ]
    }
   ],
   "source": [
    "E = S1-S2\n",
    "print(E)"
   ]
  },
  {
   "cell_type": "markdown",
   "id": "09767e89",
   "metadata": {},
   "source": [
    "Тепер перейдемо до матриці $Н$: "
   ]
  },
  {
   "cell_type": "code",
   "execution_count": 23,
   "id": "0d44d9ad",
   "metadata": {},
   "outputs": [
    {
     "data": {
      "text/plain": [
       "array([1386.  , 5222.6 , 1791.65, 1023.3 , 1256.5 , 1080.4 ])"
      ]
     },
     "execution_count": 23,
     "metadata": {},
     "output_type": "execute_result"
    }
   ],
   "source": [
    "y_2dot= np.sum(g,axis=0)  # рахуємо y_{dot dot}\n",
    "y_2dot"
   ]
  },
  {
   "cell_type": "code",
   "execution_count": 24,
   "id": "69c82070",
   "metadata": {},
   "outputs": [
    {
     "data": {
      "text/plain": [
       "array([[ 21344.4 ,  80428.04,  27591.41,  15758.82,  19350.1 ,  16638.16],\n",
       "       [ 80428.04, 303061.68, 103967.46,  59380.96,  72913.3 ,  62694.41],\n",
       "       [ 27591.41, 103967.46,  35666.77,  20371.06,  25013.42,  21507.76],\n",
       "       [ 15758.82,  59380.96,  20371.06,  11634.92,  14286.41,  12284.15],\n",
       "       [ 19350.1 ,  72913.3 ,  25013.42,  14286.41,  17542.14,  15083.58],\n",
       "       [ 16638.16,  62694.41,  21507.76,  12284.15,  15083.58,  12969.6 ]])"
      ]
     },
     "execution_count": 24,
     "metadata": {},
     "output_type": "execute_result"
    }
   ],
   "source": [
    "# рахуємо скалярний добуток \n",
    "D = (np.array(y_2dot.reshape(6,1)))@(np.array(y_2dot.reshape(1,6)))\n",
    "# і ділимо на k * n = 90\n",
    "D/90   "
   ]
  },
  {
   "cell_type": "code",
   "execution_count": 25,
   "id": "c9f789ef",
   "metadata": {},
   "outputs": [
    {
     "data": {
      "text/plain": [
       "array([[  2.18,  -7.24,  -1.79, -13.34,  -6.37,  -2.7 ],\n",
       "       [ -7.24,  39.4 ,   8.26,  75.09,  32.98,   9.9 ],\n",
       "       [ -1.79,   8.26,   1.82,  15.59,   7.01,   2.36],\n",
       "       [-13.34,  75.09,  15.59, 143.36,  62.7 ,  18.4 ],\n",
       "       [ -6.37,  32.98,   7.01,  62.7 ,  27.72,   8.6 ],\n",
       "       [ -2.7 ,   9.9 ,   2.36,  18.4 ,   8.6 ,   3.39]])"
      ]
     },
     "execution_count": 25,
     "metadata": {},
     "output_type": "execute_result"
    }
   ],
   "source": [
    "#  тепео остаточно знаходимо Н: \n",
    "H= B/30- D/90\n",
    "H"
   ]
  },
  {
   "cell_type": "code",
   "execution_count": 26,
   "id": "9003abaa",
   "metadata": {},
   "outputs": [
    {
     "name": "stdout",
     "output_type": "stream",
     "text": [
      "(array([ 1.92e+00,  1.16e-01, -2.14e-12,  1.80e-13, -6.83e-14,  4.18e-14]), array([[ 6.31e-01, -6.45e-01,  2.42e-01,  5.29e-02, -7.53e-01,  2.47e-01],\n",
      "       [-2.42e-03,  2.35e-04, -4.74e-01, -2.67e-02,  1.34e-02, -7.87e-02],\n",
      "       [-4.28e-03,  1.31e-02,  8.19e-01, -6.64e-01, -1.47e-01, -5.64e-01],\n",
      "       [-4.31e-01, -2.48e-01,  1.89e-01, -2.07e-01,  1.81e-01,  2.06e-01],\n",
      "       [-3.36e-01,  1.76e-01, -4.27e-02,  7.10e-01, -4.24e-01, -3.76e-01],\n",
      "       [-5.51e-01,  7.01e-01,  8.94e-02, -9.46e-02, -4.45e-01,  6.57e-01]]))\n"
     ]
    }
   ],
   "source": [
    "# власні числа та власні вектори E^{-1}H\n",
    "print(np.linalg.eig(np.linalg.inv(E)@ H))  # тут власні вектори вже нормовані!  В model.scalings_  не нормовані"
   ]
  }
 ],
 "metadata": {
  "kernelspec": {
   "display_name": "Python 3 (ipykernel)",
   "language": "python",
   "name": "python3"
  },
  "language_info": {
   "codemirror_mode": {
    "name": "ipython",
    "version": 3
   },
   "file_extension": ".py",
   "mimetype": "text/x-python",
   "name": "python",
   "nbconvert_exporter": "python",
   "pygments_lexer": "ipython3",
   "version": "3.9.12"
  }
 },
 "nbformat": 4,
 "nbformat_minor": 5
}
