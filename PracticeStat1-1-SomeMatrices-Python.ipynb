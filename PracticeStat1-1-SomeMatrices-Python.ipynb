{
 "cells": [
  {
   "cell_type": "markdown",
   "id": "5fc8cbc9",
   "metadata": {},
   "source": [
    "## Практика 1. Базові операції\n",
    "\n",
    "Більш детально можна почитати  [тут](https://towardsdatascience.com/top-10-matrix-operations-in-numpy-with-examples-d761448cb7a8). \n",
    "\n",
    "Пригадаємо базові операції з векторами і матрицями. "
   ]
  },
  {
   "cell_type": "code",
   "execution_count": 13,
   "id": "059c88db",
   "metadata": {},
   "outputs": [
    {
     "name": "stdout",
     "output_type": "stream",
     "text": [
      "\n",
      " скалярний добуток: 32\n",
      "dot: 32\n"
     ]
    }
   ],
   "source": [
    "import numpy as np\n",
    "\n",
    "a = np.array([1, 2, 3])                          # введемо вектори як 1D numpy arrays\n",
    "b = np.array([4, 5, 6])\n",
    "print(\"\\n скалярний добуток:\", np.inner(a, b))   # скалярний добуток, \\n перед словом означає новий рядок\n",
    "print(\"dot:\", np.dot(a, b))"
   ]
  },
  {
   "cell_type": "markdown",
   "id": "865fc42f",
   "metadata": {},
   "source": [
    "Ми можемо задавати матриці як масиви, або як матриці: "
   ]
  },
  {
   "cell_type": "code",
   "execution_count": 4,
   "id": "585e0158",
   "metadata": {},
   "outputs": [
    {
     "name": "stdout",
     "output_type": "stream",
     "text": [
      "<class 'numpy.ndarray'>\n"
     ]
    }
   ],
   "source": [
    "# Матриці як масиви\n",
    "a = np.array([[1, 2], [3, 4]])  \n",
    "b = np.array([[5, 6, 7], [8, 9, 10]])\n",
    "print(type(a))"
   ]
  },
  {
   "cell_type": "code",
   "execution_count": 5,
   "id": "51f71159",
   "metadata": {},
   "outputs": [
    {
     "name": "stdout",
     "output_type": "stream",
     "text": [
      "<class 'numpy.matrix'>\n"
     ]
    }
   ],
   "source": [
    "# Мариці як матриці\n",
    "c = np.matrix([[1, 2], [3, 4]])\n",
    "d = np.matrix([[5, 6, 7], [8, 9, 10]])\n",
    "print(type(c))"
   ]
  },
  {
   "cell_type": "markdown",
   "id": "57beb372",
   "metadata": {},
   "source": [
    "Допуток прир цьому обчислюється однаково: "
   ]
  },
  {
   "cell_type": "code",
   "execution_count": 6,
   "id": "b5c5f997",
   "metadata": {},
   "outputs": [
    {
     "name": "stdout",
     "output_type": "stream",
     "text": [
      "\n",
      "добуток масивів\n",
      "[[21 24 27]\n",
      " [47 54 61]]\n",
      "\n",
      "добуток матриць\n",
      "[[21 24 27]\n",
      " [47 54 61]]\n"
     ]
    }
   ],
   "source": [
    "print(\"\\nдобуток масивів\")\n",
    "print(np.dot(a, b))\n",
    "print(\"\\nдобуток матриць\")\n",
    "print(np.dot(c, d))"
   ]
  },
  {
   "cell_type": "markdown",
   "id": "38867be7",
   "metadata": {},
   "source": [
    "Можна також використовувати $@$ (і для масивів, і для матриць):"
   ]
  },
  {
   "cell_type": "code",
   "execution_count": 7,
   "id": "611af19a",
   "metadata": {},
   "outputs": [
    {
     "name": "stdout",
     "output_type": "stream",
     "text": [
      "[[21 24 27]\n",
      " [47 54 61]]\n"
     ]
    }
   ],
   "source": [
    "print(c@d)"
   ]
  },
  {
   "cell_type": "code",
   "execution_count": 8,
   "id": "884217d0",
   "metadata": {},
   "outputs": [
    {
     "name": "stdout",
     "output_type": "stream",
     "text": [
      "[[21 24 27]\n",
      " [47 54 61]]\n"
     ]
    }
   ],
   "source": [
    "print(a@b)"
   ]
  },
  {
   "cell_type": "markdown",
   "id": "b8f7806e",
   "metadata": {},
   "source": [
    "Транспонування:"
   ]
  },
  {
   "cell_type": "code",
   "execution_count": 9,
   "id": "be400afc",
   "metadata": {},
   "outputs": [
    {
     "name": "stdout",
     "output_type": "stream",
     "text": [
      "[[1 2]\n",
      " [3 4]\n",
      " [5 6]]\n",
      "\n",
      "За допомоги np.transpose(a)\n",
      "[[1 3 5]\n",
      " [2 4 6]]\n",
      "\n",
      "За допомоги ndarray.transpose()\n",
      "[[1 3 5]\n",
      " [2 4 6]]\n",
      "\n",
      "За допомоги ndarray.T\n",
      "[[1 3 5]\n",
      " [2 4 6]]\n"
     ]
    }
   ],
   "source": [
    "a = np.array([[1, 2], [3, 4], [5, 6]])\n",
    "print(a)\n",
    "\n",
    "print(\"\\nЗа допомоги np.transpose(a)\")\n",
    "print(np.transpose(a))\n",
    "\n",
    "print(\"\\nЗа допомоги ndarray.transpose()\")\n",
    "print(a.transpose())\n",
    "\n",
    "print(\"\\nЗа допомоги ndarray.T\")\n",
    "print(a.T)"
   ]
  },
  {
   "cell_type": "markdown",
   "id": "8effadb4",
   "metadata": {},
   "source": [
    "Слід матриці:"
   ]
  },
  {
   "cell_type": "code",
   "execution_count": 4,
   "id": "09b06fb6",
   "metadata": {},
   "outputs": [
    {
     "name": "stdout",
     "output_type": "stream",
     "text": [
      "a = \n",
      "[[2 2 1]\n",
      " [1 3 1]\n",
      " [1 2 2]]\n",
      "\n",
      "Слід: 7\n",
      "Слід: 7\n"
     ]
    }
   ],
   "source": [
    "a = np.array([[2, 2, 1],\n",
    "               [1, 3, 1],\n",
    "               [1, 2, 2]])\n",
    "print(\"a = \")\n",
    "print(a)\n",
    "print(\"\\nСлід:\", a.trace())  \n",
    "print(\"Слід:\", sum(a.diagonal()))  "
   ]
  },
  {
   "cell_type": "markdown",
   "id": "800b0337",
   "metadata": {},
   "source": [
    "Детермінант матриці:"
   ]
  },
  {
   "cell_type": "code",
   "execution_count": 5,
   "id": "335a64c3",
   "metadata": {},
   "outputs": [
    {
     "name": "stdout",
     "output_type": "stream",
     "text": [
      "\n",
      "детермінант: 4.999999999999999\n",
      "\n",
      "округлений детермінант: 5.0\n"
     ]
    }
   ],
   "source": [
    "a = np.array([[2, 2, 1],\n",
    "               [1, 3, 1],\n",
    "               [1, 2, 2]])\n",
    "det = np.linalg.det(a)\n",
    "print(\"\\nдетермінант:\", det)            # значення, я є\n",
    "print(\"\\nокруглений детермінант:\", np.round(det))  # округлити \n"
   ]
  },
  {
   "cell_type": "markdown",
   "id": "c2167b75",
   "metadata": {},
   "source": [
    "Для того, щоб округлити, застосуємо функцію  round(number, digits). Наприклад, "
   ]
  },
  {
   "cell_type": "code",
   "execution_count": 11,
   "id": "737870c6",
   "metadata": {},
   "outputs": [
    {
     "data": {
      "text/plain": [
       "5.46"
      ]
     },
     "execution_count": 11,
     "metadata": {},
     "output_type": "execute_result"
    }
   ],
   "source": [
    "round(5.456789,2)"
   ]
  },
  {
   "cell_type": "markdown",
   "id": "6ac0e9d1",
   "metadata": {},
   "source": [
    "Обернена матриця:"
   ]
  },
  {
   "cell_type": "code",
   "execution_count": 6,
   "id": "26be6ec4",
   "metadata": {},
   "outputs": [
    {
     "name": "stdout",
     "output_type": "stream",
     "text": [
      "\n",
      "обернена матриця a = \n",
      "[[ 0.8 -0.4 -0.2]\n",
      " [-0.2  0.6 -0.2]\n",
      " [-0.2 -0.4  0.8]]\n"
     ]
    }
   ],
   "source": [
    "inv = np.linalg.inv(a)\n",
    "print(\"\\nобернена матриця a = \")\n",
    "print(inv)"
   ]
  },
  {
   "cell_type": "markdown",
   "id": "31a533f8",
   "metadata": {},
   "source": [
    " Псевдо-обернена матриця, якщо детермінант =0. "
   ]
  },
  {
   "cell_type": "code",
   "execution_count": 10,
   "id": "c2d55883",
   "metadata": {},
   "outputs": [
    {
     "name": "stdout",
     "output_type": "stream",
     "text": [
      "\n",
      "детермінант: 0.0\n",
      "\n",
      "псевдо-обернена матриця a = \n",
      "[[0.02352941 0.01176471]\n",
      " [0.09411765 0.04705882]]\n"
     ]
    }
   ],
   "source": [
    "a = np.array([[2, 8],\n",
    "               [1, 4]])\n",
    "det = np.linalg.det(a)\n",
    "print(\"\\nдетермінант:\", np.round(det))\n",
    "pinv = np.linalg.pinv(a)\n",
    "print(\"\\nпсевдо-обернена матриця a = \")\n",
    "print(pinv)"
   ]
  },
  {
   "cell_type": "markdown",
   "id": "50b3a501",
   "metadata": {},
   "source": [
    "Власні вектори і власні числа:"
   ]
  },
  {
   "cell_type": "code",
   "execution_count": 8,
   "id": "fa56d97b",
   "metadata": {},
   "outputs": [
    {
     "name": "stdout",
     "output_type": "stream",
     "text": [
      "\n",
      "власні числа:\n",
      "[5. 1. 1.]\n",
      "\n",
      "власні вектори:\n",
      "[[ 0.57735027  0.90453403  0.36601928]\n",
      " [ 0.57735027 -0.30151134 -0.55609927]\n",
      " [ 0.57735027 -0.30151134  0.74617926]]\n"
     ]
    }
   ],
   "source": [
    "a = np.array([[2, 2, 1],\n",
    "               [1, 3, 1],\n",
    "               [1, 2, 2]])\n",
    "w, v = np.linalg.eig(a)\n",
    "print(\"\\nвласні числа:\")\n",
    "print(w)\n",
    "print(\"\\nвласні вектори:\")\n",
    "print(v)"
   ]
  }
 ],
 "metadata": {
  "kernelspec": {
   "display_name": "Python 3 (ipykernel)",
   "language": "python",
   "name": "python3"
  },
  "language_info": {
   "codemirror_mode": {
    "name": "ipython",
    "version": 3
   },
   "file_extension": ".py",
   "mimetype": "text/x-python",
   "name": "python",
   "nbconvert_exporter": "python",
   "pygments_lexer": "ipython3",
   "version": "3.9.7"
  }
 },
 "nbformat": 4,
 "nbformat_minor": 5
}
