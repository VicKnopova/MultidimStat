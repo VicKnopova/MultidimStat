{
 "cells": [
  {
   "cell_type": "markdown",
   "id": "038b04b2",
   "metadata": {},
   "source": [
    "## Практика 4: тестування гіпотез про коваріаційну матрицю"
   ]
  },
  {
   "cell_type": "code",
   "execution_count": 166,
   "id": "7aed9ab7",
   "metadata": {},
   "outputs": [],
   "source": [
    "import numpy as np\n",
    "import scipy.stats\n",
    "#from scipy.stats import chi2\n",
    "from scipy.stats import mstats\n",
    "#from scipy.stats import f\n",
    "\n",
    "import pandas as pd\n",
    "import pingouin as pg"
   ]
  },
  {
   "cell_type": "markdown",
   "id": "21038cff",
   "metadata": {},
   "source": [
    "### Приклад 1. (Example 7.2.2  (Table 3.5)  Rencher. Тести для ков. матриць) \n",
    "\n",
    "Зробимо тест на діагональність  матриці ков. матриці (тест Маулчі). \n",
    "Нульова гіпотеза $H_0$:  $\\Sigma = \\sigma^2 I$."
   ]
  },
  {
   "cell_type": "code",
   "execution_count": 2,
   "id": "3d56fbd6",
   "metadata": {},
   "outputs": [
    {
     "data": {
      "text/plain": [
       "array([[ 1, 51, 36, 50, 35, 42],\n",
       "       [ 2, 27, 20, 26, 17, 27],\n",
       "       [ 3, 37, 22, 41, 37, 30],\n",
       "       [ 4, 42, 36, 32, 34, 27],\n",
       "       [ 5, 27, 18, 33, 14, 29],\n",
       "       [ 6, 43, 32, 43, 35, 40],\n",
       "       [ 7, 41, 22, 36, 25, 38],\n",
       "       [ 8, 38, 21, 31, 20, 16],\n",
       "       [ 9, 36, 23, 27, 25, 28],\n",
       "       [10, 26, 31, 31, 32, 36],\n",
       "       [11, 29, 20, 25, 26, 25]])"
      ]
     },
     "execution_count": 2,
     "metadata": {},
     "output_type": "execute_result"
    }
   ],
   "source": [
    "Data_3_5 = np.loadtxt(\"T3_5_PROBE.DAT\", dtype=int)\n",
    "Data_3_5"
   ]
  },
  {
   "cell_type": "code",
   "execution_count": 4,
   "id": "8bd6af95",
   "metadata": {},
   "outputs": [],
   "source": [
    "Data_3_5 = Data_3_5[:,1:]  # видаляємо перший стовбчик, оскільки там нумерація"
   ]
  },
  {
   "cell_type": "code",
   "execution_count": 5,
   "id": "9c586ba5",
   "metadata": {},
   "outputs": [
    {
     "data": {
      "text/plain": [
       "11"
      ]
     },
     "execution_count": 5,
     "metadata": {},
     "output_type": "execute_result"
    }
   ],
   "source": [
    "n = len(Data_3_5)  # кількість випробувань\n",
    "n"
   ]
  },
  {
   "cell_type": "code",
   "execution_count": 6,
   "id": "fada1801",
   "metadata": {},
   "outputs": [
    {
     "data": {
      "text/plain": [
       "array([25.55, 34.09, 27.27, 30.73])"
      ]
     },
     "execution_count": 6,
     "metadata": {},
     "output_type": "execute_result"
    }
   ],
   "source": [
    "xbar = np.mean(Data_3_5,axis=0) # порахуємо середнє\n",
    "np_xbar = np.round((xbar), 2)       # округимо до 2го знаку\n",
    "np_xbar"
   ]
  },
  {
   "cell_type": "code",
   "execution_count": 7,
   "id": "d0d14d84",
   "metadata": {},
   "outputs": [
    {
     "data": {
      "text/plain": [
       "array([[46.07272727, 28.94545455, 40.33636364, 28.36363636],\n",
       "       [28.94545455, 60.69090909, 37.37272727, 41.12727273],\n",
       "       [40.33636364, 37.37272727, 62.81818182, 31.68181818],\n",
       "       [28.36363636, 41.12727273, 31.68181818, 58.21818182]])"
      ]
     },
     "execution_count": 7,
     "metadata": {},
     "output_type": "execute_result"
    }
   ],
   "source": [
    "# cov\n",
    "S = np.cov(Data_3_5.T)\n",
    "S"
   ]
  },
  {
   "cell_type": "code",
   "execution_count": 8,
   "id": "c2c7dc73",
   "metadata": {},
   "outputs": [
    {
     "data": {
      "text/plain": [
       "1320172.2530909083"
      ]
     },
     "execution_count": 8,
     "metadata": {},
     "output_type": "execute_result"
    }
   ],
   "source": [
    "det_S= np.linalg.det(S)   # det(cov)\n",
    "det_S"
   ]
  },
  {
   "cell_type": "code",
   "execution_count": 9,
   "id": "1fa8e5cb",
   "metadata": {},
   "outputs": [
    {
     "data": {
      "text/plain": [
       "227.8"
      ]
     },
     "execution_count": 9,
     "metadata": {},
     "output_type": "execute_result"
    }
   ],
   "source": [
    "Tr_S = np.trace(S, offset=0, axis1=0, axis2=1, dtype=None, out=None)   # trace(cov)\n",
    "Tr_S"
   ]
  },
  {
   "cell_type": "code",
   "execution_count": 10,
   "id": "440b3586",
   "metadata": {},
   "outputs": [
    {
     "data": {
      "text/plain": [
       "4"
      ]
     },
     "execution_count": 10,
     "metadata": {},
     "output_type": "execute_result"
    }
   ],
   "source": [
    "p = len(S)    #  dim(cov)\n",
    "p"
   ]
  },
  {
   "cell_type": "markdown",
   "id": "c9597f1f",
   "metadata": {},
   "source": [
    "Обчислимо статистику  Маулчі \n",
    "$$\n",
    "u = \\frac{p^p det(S)}{(TrS)^p}. \n",
    "$$"
   ]
  },
  {
   "cell_type": "code",
   "execution_count": 13,
   "id": "7aa6fb64",
   "metadata": {},
   "outputs": [
    {
     "data": {
      "text/plain": [
       "0.1255034565249533"
      ]
     },
     "execution_count": 13,
     "metadata": {},
     "output_type": "execute_result"
    }
   ],
   "source": [
    "u = (p**p)*det_S/((Tr_S)**p)\n",
    "u"
   ]
  },
  {
   "cell_type": "markdown",
   "id": "5d97ed21",
   "metadata": {},
   "source": [
    "Обчислимо статистику \n",
    "$$\n",
    "u'=  -\\left(n-1-\\frac{2p^2 +p+2}{6p}\\right)\\log u \n",
    "$$"
   ]
  },
  {
   "cell_type": "code",
   "execution_count": 14,
   "id": "d33b624e",
   "metadata": {},
   "outputs": [
    {
     "data": {
      "text/plain": [
       "17.468134987880443"
      ]
     },
     "execution_count": 14,
     "metadata": {},
     "output_type": "execute_result"
    }
   ],
   "source": [
    "til_u = -(n-1-(2*p**2 +p+2)/(6*p)) * np.log(U)  \n",
    "til_u"
   ]
  },
  {
   "cell_type": "markdown",
   "id": "541edae5",
   "metadata": {},
   "source": [
    "Знайдемо квантіль розподілу хі квадрат з $\\frac{p(p+1)}{2} = 15$  ступенями свободи."
   ]
  },
  {
   "cell_type": "code",
   "execution_count": 15,
   "id": "e33d167f",
   "metadata": {},
   "outputs": [
    {
     "data": {
      "text/plain": [
       "23.684791304840576"
      ]
     },
     "execution_count": 15,
     "metadata": {},
     "output_type": "execute_result"
    }
   ],
   "source": [
    "chi2.ppf(0.95, 14, loc=0, scale=1)  "
   ]
  },
  {
   "cell_type": "markdown",
   "id": "b5ca6bc5",
   "metadata": {},
   "source": [
    "Отримали:  23.69 > 17.47, тому приймаємо нульову гіпотезу  $H_0$ про те, що  $\\Sigma = \\sigma^2 I$."
   ]
  },
  {
   "cell_type": "code",
   "execution_count": 16,
   "id": "12eb7b98",
   "metadata": {},
   "outputs": [
    {
     "data": {
      "text/plain": [
       "SpherResults(spher=True, W=0.7765188667848518, chi2=2.2061495165486082, dof=5, pval=0.8209855255221692)"
      ]
     },
     "execution_count": 16,
     "metadata": {},
     "output_type": "execute_result"
    }
   ],
   "source": [
    "# \"Build in\" function \n",
    "# pg.sphericity(data) Mauchly test (sphericity, Sigma = sigma^2 I\n",
    "data = pd.DataFrame(Data_3_5)\n",
    "pg.sphericity(data)"
   ]
  },
  {
   "cell_type": "markdown",
   "id": "fc34b785",
   "metadata": {},
   "source": [
    "Увага! pg.sphericity(data) обчислює не $u$- статистику і значення  квантілю $\\chi^2$!!! \n",
    "Це перевірка іншої сферичності! \n",
    "(https://github.com/raphaelvallat/pingouin/blob/dcfdc82bbc7f1ba5991b80717a5ca156617443e8/pingouin/distribution.py).\n",
    "А також Rencher, розділ   7.2.2"
   ]
  },
  {
   "cell_type": "markdown",
   "id": "0be774a7",
   "metadata": {},
   "source": [
    "## Приклад 2.  Тест на рівність коваріацій у двох вибірках  \n",
    "(Example 7.3.2  (Table 5.1)  Rencher) \n",
    "Див. також (https://pingouin-stats.org/generated/pingouin.box_m.html)."
   ]
  },
  {
   "cell_type": "markdown",
   "id": "de7d76df",
   "metadata": {},
   "source": [
    "Зчитуємо таблицю: "
   ]
  },
  {
   "cell_type": "code",
   "execution_count": 168,
   "id": "24a2f920",
   "metadata": {},
   "outputs": [],
   "source": [
    "Data_5_1 = np.loadtxt(\"T5_1_PSYCH.DAT\", dtype=int)\n",
    "Data_5_1M = Data_5_1[0:32,1:] \n",
    "Data_5_1F = Data_5_1[32:,1:]"
   ]
  },
  {
   "cell_type": "code",
   "execution_count": 22,
   "id": "dc7a1ede",
   "metadata": {},
   "outputs": [
    {
     "data": {
      "text/plain": [
       "(32, 4)"
      ]
     },
     "execution_count": 22,
     "metadata": {},
     "output_type": "execute_result"
    }
   ],
   "source": [
    "np.shape(Data_5_1M)"
   ]
  },
  {
   "cell_type": "markdown",
   "id": "55f35cc7",
   "metadata": {},
   "source": [
    "Для застосування вбудованої функції трохи перетворимо дані. "
   ]
  },
  {
   "cell_type": "code",
   "execution_count": 23,
   "id": "d344fc59",
   "metadata": {},
   "outputs": [
    {
     "data": {
      "text/html": [
       "<div>\n",
       "<style scoped>\n",
       "    .dataframe tbody tr th:only-of-type {\n",
       "        vertical-align: middle;\n",
       "    }\n",
       "\n",
       "    .dataframe tbody tr th {\n",
       "        vertical-align: top;\n",
       "    }\n",
       "\n",
       "    .dataframe thead th {\n",
       "        text-align: right;\n",
       "    }\n",
       "</style>\n",
       "<table border=\"1\" class=\"dataframe\">\n",
       "  <thead>\n",
       "    <tr style=\"text-align: right;\">\n",
       "      <th></th>\n",
       "      <th>A</th>\n",
       "      <th>B</th>\n",
       "      <th>C</th>\n",
       "      <th>D</th>\n",
       "      <th>group</th>\n",
       "    </tr>\n",
       "  </thead>\n",
       "  <tbody>\n",
       "    <tr>\n",
       "      <th>0</th>\n",
       "      <td>15</td>\n",
       "      <td>17</td>\n",
       "      <td>24</td>\n",
       "      <td>14</td>\n",
       "      <td>1</td>\n",
       "    </tr>\n",
       "    <tr>\n",
       "      <th>1</th>\n",
       "      <td>17</td>\n",
       "      <td>15</td>\n",
       "      <td>32</td>\n",
       "      <td>26</td>\n",
       "      <td>1</td>\n",
       "    </tr>\n",
       "    <tr>\n",
       "      <th>2</th>\n",
       "      <td>15</td>\n",
       "      <td>14</td>\n",
       "      <td>29</td>\n",
       "      <td>23</td>\n",
       "      <td>1</td>\n",
       "    </tr>\n",
       "    <tr>\n",
       "      <th>3</th>\n",
       "      <td>13</td>\n",
       "      <td>12</td>\n",
       "      <td>10</td>\n",
       "      <td>16</td>\n",
       "      <td>1</td>\n",
       "    </tr>\n",
       "    <tr>\n",
       "      <th>4</th>\n",
       "      <td>20</td>\n",
       "      <td>17</td>\n",
       "      <td>26</td>\n",
       "      <td>28</td>\n",
       "      <td>1</td>\n",
       "    </tr>\n",
       "  </tbody>\n",
       "</table>\n",
       "</div>"
      ],
      "text/plain": [
       "    A   B   C   D  group\n",
       "0  15  17  24  14      1\n",
       "1  17  15  32  26      1\n",
       "2  15  14  29  23      1\n",
       "3  13  12  10  16      1\n",
       "4  20  17  26  28      1"
      ]
     },
     "execution_count": 23,
     "metadata": {},
     "output_type": "execute_result"
    }
   ],
   "source": [
    "data = pd.DataFrame(Data_5_1[:,1:], columns=['A', 'B', 'C','D'])\n",
    "data['group'] = [1] * 32 + [2] * 32 \n",
    "data.head()"
   ]
  },
  {
   "cell_type": "markdown",
   "id": "45c9d0a0",
   "metadata": {},
   "source": [
    "Тест Бокса: обчислюємо статистику\n",
    "$$\n",
    "M:= \\frac{|S_1|^{\\nu_1/2}|S_2|^{\\nu_2/2}\\dots |S_k|^{\\nu_k/2}}{|S_{pl}|^{\\sum_{i=1}^k \\nu_i/2}}, \n",
    "$$\n",
    "де   $\\nu_i=n_i-1$ та   $\\nu_E=\\sum_{i=1}^k  \\nu_i =\\sum_{i=1}^k  n_i-k$. \n",
    "\n",
    "Нехай \n",
    "$$\n",
    "c_1:= \\left[\\sum_{i=1}^k \\frac{1}{\\nu_i}-\\frac{1}{\\sum_{i=1}^k \\nu_i} \\right] \\left(\\frac{2p^2 +3p-1}{6(p+1)(k-1)}\\right). \n",
    "$$\n",
    "Тоді  за умови виконання $H_0$ \n",
    "$$\n",
    "u:=-2(1-c_1) \\ln M \\sim \\chi^2_{\\frac{1}{2}(k-1)p(p+1)}. \n",
    "$$\n",
    "У випадку, коли \n",
    "$\\nu_1=\\nu_2=\\dots \\nu_k =\\nu$, \n",
    "$$\n",
    "c_1= \\frac{(k+1)(2p^2 +3p-1)}{6k\\nu (p+1)}.\n",
    "$$"
   ]
  },
  {
   "cell_type": "markdown",
   "id": "791aa459",
   "metadata": {},
   "source": [
    "Вбудована функція:"
   ]
  },
  {
   "cell_type": "code",
   "execution_count": 25,
   "id": "aaa44427",
   "metadata": {},
   "outputs": [
    {
     "data": {
      "text/html": [
       "<div>\n",
       "<style scoped>\n",
       "    .dataframe tbody tr th:only-of-type {\n",
       "        vertical-align: middle;\n",
       "    }\n",
       "\n",
       "    .dataframe tbody tr th {\n",
       "        vertical-align: top;\n",
       "    }\n",
       "\n",
       "    .dataframe thead th {\n",
       "        text-align: right;\n",
       "    }\n",
       "</style>\n",
       "<table border=\"1\" class=\"dataframe\">\n",
       "  <thead>\n",
       "    <tr style=\"text-align: right;\">\n",
       "      <th></th>\n",
       "      <th>Chi2</th>\n",
       "      <th>df</th>\n",
       "      <th>pval</th>\n",
       "      <th>equal_cov</th>\n",
       "    </tr>\n",
       "  </thead>\n",
       "  <tbody>\n",
       "    <tr>\n",
       "      <th>box</th>\n",
       "      <td>13.550751</td>\n",
       "      <td>10.0</td>\n",
       "      <td>0.194487</td>\n",
       "      <td>True</td>\n",
       "    </tr>\n",
       "  </tbody>\n",
       "</table>\n",
       "</div>"
      ],
      "text/plain": [
       "          Chi2    df      pval  equal_cov\n",
       "box  13.550751  10.0  0.194487       True"
      ]
     },
     "execution_count": 25,
     "metadata": {},
     "output_type": "execute_result"
    }
   ],
   "source": [
    "pg.box_m(data, dvs=['A', 'B', 'C','D'], group='group')  # 10 = 0.5* (k-1)*p(p+1), k=2, p=4"
   ]
  },
  {
   "cell_type": "markdown",
   "id": "0ad1f489",
   "metadata": {},
   "source": [
    "Отже, приймаємо нульову гіпотезу. "
   ]
  },
  {
   "cell_type": "markdown",
   "id": "4f7cfd7a",
   "metadata": {},
   "source": [
    "Порахуємо тепер вручну. "
   ]
  },
  {
   "cell_type": "code",
   "execution_count": 28,
   "id": "cfa44c2f",
   "metadata": {},
   "outputs": [
    {
     "data": {
      "text/plain": [
       "(32, 4)"
      ]
     },
     "execution_count": 28,
     "metadata": {},
     "output_type": "execute_result"
    }
   ],
   "source": [
    "np.shape(Data_5_1M)"
   ]
  },
  {
   "cell_type": "code",
   "execution_count": 44,
   "id": "115cd851",
   "metadata": {},
   "outputs": [],
   "source": [
    "n1 = np.shape(Data_5_1M)[0]-1\n",
    "n2 = np.shape(Data_5_1F)[0]-1\n",
    "d = np.shape(Data_5_1M)[1]"
   ]
  },
  {
   "cell_type": "code",
   "execution_count": 48,
   "id": "fd4ee2f9",
   "metadata": {},
   "outputs": [
    {
     "data": {
      "text/plain": [
       "array([[ 7.16431452,  6.04737903,  5.69304435,  4.70060484],\n",
       "       [ 6.04737903, 15.89415323,  8.49243952,  5.85584677],\n",
       "       [ 5.69304435,  8.49243952, 29.35635081, 13.98084677],\n",
       "       [ 4.70060484,  5.85584677, 13.98084677, 22.32056452]])"
      ]
     },
     "execution_count": 48,
     "metadata": {},
     "output_type": "execute_result"
    }
   ],
   "source": [
    "Spl = (n1*np.cov(Data_5_1M.T)+ n2*np.cov(Data_5_1F.T))/(n1+n2)\n",
    "Spl"
   ]
  },
  {
   "cell_type": "code",
   "execution_count": 49,
   "id": "7f4f9eb7",
   "metadata": {},
   "outputs": [
    {
     "data": {
      "text/plain": [
       "0.0006889791098952688"
      ]
     },
     "execution_count": 49,
     "metadata": {},
     "output_type": "execute_result"
    }
   ],
   "source": [
    "Det1 = np.linalg.det(np.cov(Data_5_1M.T))\n",
    "Det2 = np.linalg.det(np.cov(Data_5_1F.T))\n",
    "Det = np.linalg.det(Spl)\n",
    "\n",
    "M = ((Det1)**(n1/2))*((Det2)**(n2/2))/((Det)**(n1/2+n2/2)) # (7.21) Rencher\n",
    "M"
   ]
  },
  {
   "cell_type": "markdown",
   "id": "c3a40dbf",
   "metadata": {},
   "source": [
    "ОБчислимо тепер константу $c_1$. Маємо 2 групи спостережень, отже, $k=2$. "
   ]
  },
  {
   "cell_type": "code",
   "execution_count": 51,
   "id": "33b75c61",
   "metadata": {},
   "outputs": [
    {
     "data": {
      "text/plain": [
       "13.550751203746621"
      ]
     },
     "execution_count": 51,
     "metadata": {},
     "output_type": "execute_result"
    }
   ],
   "source": [
    "n = n1\n",
    "k = 2\n",
    "C1=(k+1)*(2*p**2+3*p-1)/(6*k*n * (p+1))\n",
    "C1\n",
    "u= -2*(1-C1)*np.log(M) #(7.23) Rencher\n",
    "u                      # "
   ]
  },
  {
   "cell_type": "markdown",
   "id": "c8130d3e",
   "metadata": {},
   "source": [
    "Отримали таке саме значення, як вище. "
   ]
  },
  {
   "cell_type": "code",
   "execution_count": 233,
   "id": "cfe0d099",
   "metadata": {},
   "outputs": [
    {
     "data": {
      "text/plain": [
       "18.307038053275146"
      ]
     },
     "execution_count": 233,
     "metadata": {},
     "output_type": "execute_result"
    }
   ],
   "source": [
    "# 0.5* (k-1)*p*(p+1)=10\n",
    "chi2.ppf(0.95, 10, loc=0, scale=1)   # 13.55< 18.3  Прийняти  H_0"
   ]
  },
  {
   "cell_type": "markdown",
   "id": "8519aeca",
   "metadata": {},
   "source": [
    "Приймаємо $H_0$. "
   ]
  },
  {
   "cell_type": "markdown",
   "id": "b8458455",
   "metadata": {},
   "source": [
    "## Приклад 3. Гіпотеза про блочну матрицю. \n",
    "\n",
    "Перевіримо у попедерньому прикладі гімотезу про те, що матриця $S$ має блочну форму. \n",
    "\n",
    "Див. також  https://docs.scipy.org/doc/scipy-0.14.0/reference/generated/scipy.stats.mstats.f_value_wilks_lambda.html , але там інше зведення до $F$ статистики. \n",
    "\n",
    "Нехай є 2 групи спостережень обсяну $n$ та  розмірністю $p\\times 1$  та  $q\\times 1$. \n",
    "Обчислимо Лямбду Уілкса та  $F$-статистику наступним чином: \n",
    "$$\n",
    "\\Lambda :=\\frac{|S|}{|S_{xx}| |S_{yy}| }=\\frac{|E|}{|E+ H|} \\sim \\Lambda_{p,\\nu_H, \\nu_E}, \n",
    "$$\n",
    "де \n",
    "$$\n",
    "E:= S_{yy} - S_{yx}S^{-1}_{xx}S_{xy}, \\quad H:= S_{yx}S^{-1}_{xx}S_{xy}.\n",
    "$$\n",
    "Порахуємо $F$-статистику\n",
    "$$\n",
    "F=\\frac{1-\\Lambda^{1/t}}{\\Lambda^{1/t}}  \\frac{df_2}{df_1}, \n",
    "$$\n",
    "$$\n",
    "df_1= p\\nu_H, \\quad df_2= wt-\\frac{1}{2} (p\\nu_H-2), \n",
    "$$\n",
    "$$\n",
    "w=\\nu_E +\\nu_H -\\frac{1}{2} (p+\\nu_H +1) , \\quad t = \\sqrt{\\frac{p^2\\nu_H^2-4}{p^2+\\nu_H^2-5}}. \n",
    "$$\n",
    "У нашому випадку\n",
    "$$\n",
    "\\nu_H = q, \\quad \\nu_E = n-1- q. \n",
    "$$"
   ]
  },
  {
   "cell_type": "code",
   "execution_count": 169,
   "id": "dafc8342",
   "metadata": {},
   "outputs": [],
   "source": [
    "nu_H = np.shape(Data_5_1M)[1]\n",
    "p = nu_H\n",
    "q = p\n",
    "n = np.shape(Data_5_1M)[0] \n",
    "nu_E = n - 1 - nu_H\n",
    "w = nu_E + nu_H - 0.5* (p+nu_H+1)\n",
    "t = np.sqrt(((p*nu_H)**2 -4)/(p**2 +nu_H**2 -5))\n",
    "df1 = p*nu_H\n",
    "df2 = w*t - 0.5 * (df1 -2)"
   ]
  },
  {
   "cell_type": "code",
   "execution_count": 170,
   "id": "0f380b01",
   "metadata": {},
   "outputs": [],
   "source": [
    "S= np.cov(Data_5_1M.T,Data_5_1F.T)"
   ]
  },
  {
   "cell_type": "code",
   "execution_count": 171,
   "id": "75a81f6c",
   "metadata": {},
   "outputs": [],
   "source": [
    "Det1 = np.linalg.det(np.cov(Data_5_1M.T))\n",
    "Det2 = np.linalg.det(np.cov(Data_5_1F.T))\n",
    "Det0  = np.linalg.det(np.cov(Data_5_1M.T,Data_5_1F.T))"
   ]
  },
  {
   "cell_type": "code",
   "execution_count": 172,
   "id": "9c1a66db",
   "metadata": {},
   "outputs": [
    {
     "data": {
      "text/plain": [
       "0.7904914380766591"
      ]
     },
     "execution_count": 172,
     "metadata": {},
     "output_type": "execute_result"
    }
   ],
   "source": [
    "Lambda = Det0/(Det1 * Det2)\n",
    "Lambda"
   ]
  },
  {
   "cell_type": "markdown",
   "id": "3b931543",
   "metadata": {},
   "source": [
    "Лямбда дуже мала, отже навряд гіпотеза про незалежність справедлива. Обчислимо $F$-статистику. "
   ]
  },
  {
   "cell_type": "code",
   "execution_count": 175,
   "id": "82ed3a69",
   "metadata": {},
   "outputs": [
    {
     "data": {
      "text/plain": [
       "0.3698"
      ]
     },
     "execution_count": 175,
     "metadata": {},
     "output_type": "execute_result"
    }
   ],
   "source": [
    "F =round(((1- Lambda**(1/t))/(Lambda**(1/t)) ) * df2/df1,4)\n",
    "F"
   ]
  },
  {
   "cell_type": "code",
   "execution_count": 174,
   "id": "2eea5032",
   "metadata": {},
   "outputs": [
    {
     "data": {
      "text/plain": [
       "1.7821860549514332"
      ]
     },
     "execution_count": 174,
     "metadata": {},
     "output_type": "execute_result"
    }
   ],
   "source": [
    "scipy.stats.f.ppf(q=1-0.05, dfn=df1, dfd=df2)"
   ]
  },
  {
   "cell_type": "markdown",
   "id": "34a6d123",
   "metadata": {},
   "source": [
    "Отже, приймаємо  нульову гіпотезу. "
   ]
  },
  {
   "cell_type": "markdown",
   "id": "0da1e373",
   "metadata": {},
   "source": [
    "Як ще можна обчислити Лямбду: "
   ]
  },
  {
   "cell_type": "code",
   "execution_count": 112,
   "id": "199909a0",
   "metadata": {},
   "outputs": [
    {
     "data": {
      "text/plain": [
       "(32, 8)"
      ]
     },
     "execution_count": 112,
     "metadata": {},
     "output_type": "execute_result"
    }
   ],
   "source": [
    "Date_new = np.hstack((Data_5_1M,Data_5_1F))\n",
    "np.shape(Date_new)"
   ]
  },
  {
   "cell_type": "code",
   "execution_count": 115,
   "id": "db9b5348",
   "metadata": {},
   "outputs": [],
   "source": [
    "Det0  = np.linalg.det(np.cov(Date_new.T))\n",
    "Det1 = np.linalg.det(np.cov(Data_5_1M.T))\n",
    "Det2 = np.linalg.det(np.cov(Data_5_1F.T))"
   ]
  },
  {
   "cell_type": "code",
   "execution_count": 116,
   "id": "916871b9",
   "metadata": {},
   "outputs": [
    {
     "data": {
      "text/plain": [
       "0.7904914380766591"
      ]
     },
     "execution_count": 116,
     "metadata": {},
     "output_type": "execute_result"
    }
   ],
   "source": [
    "Lambda = Det0/(Det1 * Det2)\n",
    "Lambda"
   ]
  }
 ],
 "metadata": {
  "kernelspec": {
   "display_name": "Python 3 (ipykernel)",
   "language": "python",
   "name": "python3"
  },
  "language_info": {
   "codemirror_mode": {
    "name": "ipython",
    "version": 3
   },
   "file_extension": ".py",
   "mimetype": "text/x-python",
   "name": "python",
   "nbconvert_exporter": "python",
   "pygments_lexer": "ipython3",
   "version": "3.9.12"
  }
 },
 "nbformat": 4,
 "nbformat_minor": 5
}
