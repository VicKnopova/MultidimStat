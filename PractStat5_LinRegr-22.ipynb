{
 "cells": [
  {
   "cell_type": "code",
   "execution_count": 1,
   "id": "4d9fb42f",
   "metadata": {
    "colab": {
     "base_uri": "https://localhost:8080/"
    },
    "id": "4d9fb42f",
    "outputId": "047ec4b2-691f-4c6b-cf93-68b242fe575b"
   },
   "outputs": [
    {
     "name": "stdout",
     "output_type": "stream",
     "text": [
      "[[10]\n",
      " [ 8]\n",
      " [13]\n",
      " [ 9]\n",
      " [11]\n",
      " [14]\n",
      " [ 6]\n",
      " [ 4]\n",
      " [12]\n",
      " [ 7]\n",
      " [ 5]]\n"
     ]
    }
   ],
   "source": [
    "# одновимірна модель, лінійна регресія\n",
    "#  дані з 'Квартету Аскомбе', не з Ренчер\n",
    "import numpy as np\n",
    "import math\n",
    "from sklearn.linear_model import LinearRegression\n",
    "y = np.array([8.04,6.95,7.58,8.81,8.33,9.96,7.24,4.26,10.84,4.82,5.68])\n",
    "x1 = [10,8,13,9,11,14,6,4,12,7,5]\n",
    "x = np.array([10,8,13,9,11,14,6,4,12,7,5]).reshape((-1,1))\n",
    "w = [math.sqrt(y[i]) for i in range(len(x))]+ np.random.normal(0,1,len(y))\n",
    "w\n",
    "print(x)"
   ]
  },
  {
   "cell_type": "code",
   "execution_count": 2,
   "id": "c1cd33f0",
   "metadata": {
    "id": "c1cd33f0",
    "outputId": "56adfe09-37a8-48cf-857a-fd97830e0124"
   },
   "outputs": [
    {
     "name": "stdout",
     "output_type": "stream",
     "text": [
      "coefficient of determination: 0.666542459508775\n"
     ]
    }
   ],
   "source": [
    "model = LinearRegression().fit(x, y)\n",
    "r_sq = model.score(x, y)\n",
    "print('coefficient of determination:', r_sq)   # R^2"
   ]
  },
  {
   "cell_type": "code",
   "execution_count": 3,
   "id": "50de2a9a",
   "metadata": {
    "id": "50de2a9a",
    "outputId": "aa1b289a-cb77-4161-872b-0b09c7e60bcf"
   },
   "outputs": [
    {
     "name": "stdout",
     "output_type": "stream",
     "text": [
      "intercept: 3.0000909090909103\n",
      "slope: [0.50009091]\n"
     ]
    }
   ],
   "source": [
    "print('intercept:', model.intercept_)\n",
    "print('slope:', model.coef_)\n"
   ]
  },
  {
   "cell_type": "code",
   "execution_count": 4,
   "id": "4bbf90f1",
   "metadata": {
    "id": "4bbf90f1",
    "outputId": "547a521f-729a-4626-f67b-360be22a8d8e"
   },
   "outputs": [
    {
     "data": {
      "text/plain": [
       "[[10, 2.325416400017732],\n",
       " [8, 4.117228457519722],\n",
       " [13, 1.831771203085352],\n",
       " [9, 3.8459022084768426],\n",
       " [11, 1.741766322897415],\n",
       " [14, 3.0100315006603364],\n",
       " [6, 1.3116508356597731],\n",
       " [4, 2.1807326084176606],\n",
       " [12, 3.693344110351307],\n",
       " [7, 4.221067073107273],\n",
       " [5, 1.3861069692849184]]"
      ]
     },
     "execution_count": 4,
     "metadata": {},
     "output_type": "execute_result"
    }
   ],
   "source": [
    "# добавимо ще одну змінну\n",
    "Z = [[x1[i],w[i]] for i in range(len(x))]\n",
    "Z"
   ]
  },
  {
   "cell_type": "code",
   "execution_count": 5,
   "id": "8d7f8766",
   "metadata": {
    "id": "8d7f8766",
    "outputId": "81e34176-dce4-4f33-b5f9-88dda1b4bae3"
   },
   "outputs": [
    {
     "name": "stdout",
     "output_type": "stream",
     "text": [
      "intercept: 2.832301935061304\n",
      "slope: [0.49566493 0.07698802]\n"
     ]
    }
   ],
   "source": [
    "model2 = LinearRegression().fit(Z, y)\n",
    "print('intercept:', model2.intercept_)\n",
    "print('slope:', model2.coef_)"
   ]
  },
  {
   "cell_type": "code",
   "execution_count": 6,
   "id": "bc59dc3b",
   "metadata": {
    "id": "bc59dc3b",
    "outputId": "f6b8d835-cb97-4e6b-cf83-73e2a2045f5a"
   },
   "outputs": [
    {
     "name": "stdout",
     "output_type": "stream",
     "text": [
      "                            OLS Regression Results                            \n",
      "==============================================================================\n",
      "Dep. Variable:                      y   R-squared:                       0.668\n",
      "Model:                            OLS   Adj. R-squared:                  0.585\n",
      "Method:                 Least Squares   F-statistic:                     8.058\n",
      "Date:                Mon, 13 Mar 2023   Prob (F-statistic):             0.0121\n",
      "Time:                        21:29:40   Log-Likelihood:                -16.812\n",
      "No. Observations:                  11   AIC:                             39.62\n",
      "Df Residuals:                       8   BIC:                             40.82\n",
      "Df Model:                           2                                         \n",
      "Covariance Type:            nonrobust                                         \n",
      "==============================================================================\n",
      "                 coef    std err          t      P>|t|      [0.025      0.975]\n",
      "------------------------------------------------------------------------------\n",
      "const          2.8323      1.445      1.960      0.086      -0.500       6.165\n",
      "x1             0.4957      0.127      3.915      0.004       0.204       0.788\n",
      "x2             0.0770      0.376      0.205      0.843      -0.791       0.945\n",
      "==============================================================================\n",
      "Omnibus:                        0.159   Durbin-Watson:                   3.170\n",
      "Prob(Omnibus):                  0.923   Jarque-Bera (JB):                0.344\n",
      "Skew:                          -0.176   Prob(JB):                        0.842\n",
      "Kurtosis:                       2.209   Cond. No.                         36.9\n",
      "==============================================================================\n",
      "\n",
      "Notes:\n",
      "[1] Standard Errors assume that the covariance matrix of the errors is correctly specified.\n"
     ]
    },
    {
     "name": "stderr",
     "output_type": "stream",
     "text": [
      "C:\\Users\\vica\\anaconda3\\lib\\site-packages\\scipy\\stats\\stats.py:1541: UserWarning: kurtosistest only valid for n>=20 ... continuing anyway, n=11\n",
      "  warnings.warn(\"kurtosistest only valid for n>=20 ... continuing \"\n"
     ]
    }
   ],
   "source": [
    "# Зробимо повний аналіз моделі. Для цього завантажимо наступні бібліотеки\n",
    "import statsmodels.api as sm\n",
    "from statsmodels.api import OLS  # ordinary least squares estimates\n",
    "Z2 =  [[1,x1[i],w[i]] for i in range(len(x))]\n",
    "Z2 = np.asarray(Z2)\n",
    "model2 = LinearRegression().fit(Z2, y)\n",
    "model3 = sm.OLS(y,Z2)\n",
    "results = model3.fit() # не дуже точна модель, оскільки мало випробувань\n",
    "print(results.summary())"
   ]
  },
  {
   "cell_type": "code",
   "execution_count": 7,
   "id": "6d6764e2",
   "metadata": {
    "id": "6d6764e2",
    "outputId": "0ef731aa-f19b-4fc4-b1c0-0b291b05e931"
   },
   "outputs": [
    {
     "name": "stdout",
     "output_type": "stream",
     "text": [
      "[2.83230194 0.49566493 0.07698802]\n"
     ]
    }
   ],
   "source": [
    "# окремі обчислення: \n",
    "print(results.params) # коефіцієнти"
   ]
  },
  {
   "cell_type": "code",
   "execution_count": 8,
   "id": "89c33482",
   "metadata": {
    "id": "89c33482",
    "outputId": "310da426-a998-4b15-b47f-fe69f0934b14",
    "scrolled": true
   },
   "outputs": [
    {
     "name": "stdout",
     "output_type": "stream",
     "text": [
      "0.6682787395343353\n"
     ]
    }
   ],
   "source": [
    "print(results.rsquared) #R2"
   ]
  },
  {
   "cell_type": "code",
   "execution_count": 9,
   "id": "2f0a141f",
   "metadata": {
    "id": "2f0a141f",
    "outputId": "a527ebf1-ed74-4b82-dd5d-f006bdc63f59"
   },
   "outputs": [
    {
     "name": "stdout",
     "output_type": "stream",
     "text": [
      "[1.44503256 0.1265931  0.37623133]\n"
     ]
    }
   ],
   "source": [
    "print(results.bse) # std err"
   ]
  },
  {
   "cell_type": "code",
   "execution_count": 10,
   "id": "e1fe406e",
   "metadata": {
    "id": "e1fe406e",
    "outputId": "7921ed7c-b17e-4fd6-89aa-0d5da423c2d5"
   },
   "outputs": [
    {
     "name": "stdout",
     "output_type": "stream",
     "text": [
      "0.0121085803424668\n"
     ]
    }
   ],
   "source": [
    "print(results.f_pvalue)  # Prob  F-statistic   "
   ]
  },
  {
   "cell_type": "code",
   "execution_count": 11,
   "id": "ca3a21aa",
   "metadata": {
    "id": "ca3a21aa",
    "outputId": "1cc6f1ee-8bd2-4371-ce17-f1d15e5e0415"
   },
   "outputs": [
    {
     "data": {
      "text/plain": [
       "['HC0_se',\n",
       " 'HC1_se',\n",
       " 'HC2_se',\n",
       " 'HC3_se',\n",
       " '_HCCM',\n",
       " '__class__',\n",
       " '__delattr__',\n",
       " '__dict__',\n",
       " '__dir__',\n",
       " '__doc__',\n",
       " '__eq__',\n",
       " '__format__',\n",
       " '__ge__',\n",
       " '__getattribute__',\n",
       " '__gt__',\n",
       " '__hash__',\n",
       " '__init__',\n",
       " '__init_subclass__',\n",
       " '__le__',\n",
       " '__lt__',\n",
       " '__module__',\n",
       " '__ne__',\n",
       " '__new__',\n",
       " '__reduce__',\n",
       " '__reduce_ex__',\n",
       " '__repr__',\n",
       " '__setattr__',\n",
       " '__sizeof__',\n",
       " '__str__',\n",
       " '__subclasshook__',\n",
       " '__weakref__',\n",
       " '_abat_diagonal',\n",
       " '_cache',\n",
       " '_data_attr',\n",
       " '_data_in_cache',\n",
       " '_get_robustcov_results',\n",
       " '_is_nested',\n",
       " '_use_t',\n",
       " '_wexog_singular_values',\n",
       " 'aic',\n",
       " 'bic',\n",
       " 'bse',\n",
       " 'centered_tss',\n",
       " 'compare_f_test',\n",
       " 'compare_lm_test',\n",
       " 'compare_lr_test',\n",
       " 'condition_number',\n",
       " 'conf_int',\n",
       " 'conf_int_el',\n",
       " 'cov_HC0',\n",
       " 'cov_HC1',\n",
       " 'cov_HC2',\n",
       " 'cov_HC3',\n",
       " 'cov_kwds',\n",
       " 'cov_params',\n",
       " 'cov_type',\n",
       " 'df_model',\n",
       " 'df_resid',\n",
       " 'diagn',\n",
       " 'eigenvals',\n",
       " 'el_test',\n",
       " 'ess',\n",
       " 'f_pvalue',\n",
       " 'f_test',\n",
       " 'fittedvalues',\n",
       " 'fvalue',\n",
       " 'get_influence',\n",
       " 'get_prediction',\n",
       " 'get_robustcov_results',\n",
       " 'info_criteria',\n",
       " 'initialize',\n",
       " 'k_constant',\n",
       " 'llf',\n",
       " 'load',\n",
       " 'model',\n",
       " 'mse_model',\n",
       " 'mse_resid',\n",
       " 'mse_total',\n",
       " 'nobs',\n",
       " 'normalized_cov_params',\n",
       " 'outlier_test',\n",
       " 'params',\n",
       " 'predict',\n",
       " 'pvalues',\n",
       " 'remove_data',\n",
       " 'resid',\n",
       " 'resid_pearson',\n",
       " 'rsquared',\n",
       " 'rsquared_adj',\n",
       " 'save',\n",
       " 'scale',\n",
       " 'ssr',\n",
       " 'summary',\n",
       " 'summary2',\n",
       " 't_test',\n",
       " 't_test_pairwise',\n",
       " 'tvalues',\n",
       " 'uncentered_tss',\n",
       " 'use_t',\n",
       " 'wald_test',\n",
       " 'wald_test_terms',\n",
       " 'wresid']"
      ]
     },
     "execution_count": 11,
     "metadata": {},
     "output_type": "execute_result"
    }
   ],
   "source": [
    "dir(results) # інші параметри- треба дивитися атрібути\n",
    "# https://www.statsmodels.org/devel/generated/statsmodels.regression.linear_model.OLSResults.html"
   ]
  },
  {
   "cell_type": "code",
   "execution_count": 12,
   "id": "7df925e6",
   "metadata": {
    "id": "7df925e6"
   },
   "outputs": [],
   "source": [
    "# https://www.accelebrate.com/blog/interpreting-results-from-linear-regression-is-the-data-appropriate \n",
    "# більше пор останній блок резульатів "
   ]
  },
  {
   "cell_type": "code",
   "execution_count": 13,
   "id": "64d834f0",
   "metadata": {
    "id": "64d834f0",
    "outputId": "e70a8bf5-2267-4899-ae30-043b76d4fc89"
   },
   "outputs": [
    {
     "name": "stdout",
     "output_type": "stream",
     "text": [
      "Intercept: \n",
      " 2.8323019350613032\n",
      "Coefficients: \n",
      " [0.         0.49566493 0.07698802]\n"
     ]
    }
   ],
   "source": [
    "# дещо можна було отримати і з model2\n",
    "print('Intercept: \\n', model2.intercept_)  # коефіцієнт при вільному доданку, тобто при 1\n",
    "print('Coefficients: \\n', model2.coef_)    # оцінки коефіцієнтів\n"
   ]
  },
  {
   "cell_type": "code",
   "execution_count": 14,
   "id": "0328ba50",
   "metadata": {
    "id": "0328ba50",
    "outputId": "dd6f2f71-e43e-4790-e18c-1f9f50ffd901"
   },
   "outputs": [
    {
     "data": {
      "text/plain": [
       "array([2.83230194, 0.49566493, 0.07698802])"
      ]
     },
     "execution_count": 14,
     "metadata": {},
     "output_type": "execute_result"
    }
   ],
   "source": [
    "# оцінка матриці B вручну\n",
    "B =  np.linalg.inv(Z2.T @ Z2) @ (Z2.T @ y)\n",
    "B"
   ]
  },
  {
   "cell_type": "code",
   "execution_count": 16,
   "id": "6e8cfcbe",
   "metadata": {
    "colab": {
     "base_uri": "https://localhost:8080/",
     "height": 463
    },
    "id": "6e8cfcbe",
    "outputId": "00b88549-b31a-4141-b805-91469ebfd1a2"
   },
   "outputs": [
    {
     "name": "stdout",
     "output_type": "stream",
     "text": [
      "     Y1    Y2    Y3     X1    X2   X3\n",
      "0  41.5  45.9  11.2  162.0  23.0  3.0\n",
      "1  33.8  53.3  11.2  162.0  23.0  8.0\n",
      "2  27.7  57.5  12.7  162.0  30.0  5.0\n",
      "3  21.7  58.8  16.0  162.0  30.0  8.0\n",
      "4  19.9  60.6  16.2  172.0  25.0  5.0\n"
     ]
    }
   ],
   "source": [
    "# Багатовимірна регресія. Приклад  10.4.2 Rencher\n",
    "import pandas as pd\n",
    "df1 = np.loadtxt('T10_1_CHEM.DAT', dtype=float)\n",
    "data2 = pd.DataFrame(df1[:,1:], columns=['Y1','Y2','Y3','X1', 'X2', 'X3'])\n",
    "print(data2.head())"
   ]
  },
  {
   "cell_type": "code",
   "execution_count": 17,
   "id": "cb6f51e2",
   "metadata": {
    "id": "cb6f51e2"
   },
   "outputs": [],
   "source": [
    "X = df1[:, 4:]  \n",
    "Y = df1[:,1:4]"
   ]
  },
  {
   "cell_type": "code",
   "execution_count": 18,
   "id": "faa1afa4",
   "metadata": {
    "id": "faa1afa4",
    "outputId": "426a47a8-c61f-4209-f2f9-8364b26ddfe1"
   },
   "outputs": [
    {
     "name": "stdout",
     "output_type": "stream",
     "text": [
      "[[-1.54596082 -1.42455873 -2.23736565]\n",
      " [ 0.40455059  0.29298999  1.03380047]\n",
      " [ 0.91392477  0.89947254  1.15348549]]\n",
      "[ 332.11098334  -26.03526431 -164.0789411 ]\n"
     ]
    }
   ],
   "source": [
    "from sklearn import linear_model\n",
    "model_ols =  linear_model.LinearRegression(normalize=True)\n",
    "results2 = model_ols.fit(X,Y)\n",
    "print(model_ols.coef_)   # Отримаємо матрицю В  \n",
    "print(model_ols.intercept_)"
   ]
  },
  {
   "cell_type": "code",
   "execution_count": 19,
   "id": "621659c5",
   "metadata": {
    "id": "621659c5",
    "outputId": "8aa6af42-2dba-4f2e-c6bd-11f13b28a3b4"
   },
   "outputs": [
    {
     "name": "stdout",
     "output_type": "stream",
     "text": [
      "                  Multivariate linear model\n",
      "==============================================================\n",
      "                                                              \n",
      "--------------------------------------------------------------\n",
      "       Intercept         Value  Num DF  Den DF F Value  Pr > F\n",
      "--------------------------------------------------------------\n",
      "          Wilks' lambda  0.0220 3.0000 13.0000 192.3656 0.0000\n",
      "         Pillai's trace  0.9780 3.0000 13.0000 192.3656 0.0000\n",
      " Hotelling-Lawley trace 44.3921 3.0000 13.0000 192.3656 0.0000\n",
      "    Roy's greatest root 44.3921 3.0000 13.0000 192.3656 0.0000\n",
      "--------------------------------------------------------------\n",
      "                                                              \n",
      "--------------------------------------------------------------\n",
      "           X             Value  Num DF  Den DF F Value  Pr > F\n",
      "--------------------------------------------------------------\n",
      "          Wilks' lambda  0.0332 9.0000 31.7892  10.7870 0.0000\n",
      "         Pillai's trace  1.0579 9.0000 45.0000   2.7235 0.0126\n",
      " Hotelling-Lawley trace 26.4220 9.0000 17.5000  36.4605 0.0000\n",
      "    Roy's greatest root 26.3183 3.0000 15.0000 131.5917 0.0000\n",
      "==============================================================\n",
      "\n"
     ]
    }
   ],
   "source": [
    "from statsmodels.multivariate.manova import MANOVA\n",
    "fit1 = MANOVA.from_formula('Y ~ X', data= data2)\n",
    "print(fit1.mv_test())"
   ]
  },
  {
   "cell_type": "code",
   "execution_count": null,
   "id": "f9c3d892",
   "metadata": {},
   "outputs": [],
   "source": [
    "with open('T10_1_CHEM.DAT','r') as f:\n",
    "    data_new = pd.DataFrame(l.rstrip().split() for l in f)\n",
    "print(data_new.head())"
   ]
  },
  {
   "cell_type": "code",
   "execution_count": null,
   "id": "cfbded79",
   "metadata": {},
   "outputs": [],
   "source": [
    "data_new2 = data_new.drop(columns = [0])\n",
    "print(data_new2.head())"
   ]
  },
  {
   "cell_type": "code",
   "execution_count": null,
   "id": "c7559f53",
   "metadata": {},
   "outputs": [],
   "source": [
    "data_new2.columns = ['Y1','Y2','Y3','X1', 'X2', 'X3']\n",
    "print(data_new2.head())"
   ]
  },
  {
   "cell_type": "code",
   "execution_count": null,
   "id": "73b741ea",
   "metadata": {},
   "outputs": [],
   "source": [
    "df = data_new2.to_numpy()\n",
    "print(df)"
   ]
  },
  {
   "cell_type": "code",
   "execution_count": null,
   "id": "6c3e39f9",
   "metadata": {},
   "outputs": [],
   "source": [
    "X = df[:, 3:]  \n",
    "Y = df[:,0:3]"
   ]
  },
  {
   "cell_type": "code",
   "execution_count": null,
   "id": "36f66fc4",
   "metadata": {},
   "outputs": [],
   "source": [
    "model_ols =  linear_model.LinearRegression(normalize=False)# True: see documentation \n",
    "results2 = model_ols.fit(X,Y)\n",
    "print(model_ols.coef_)   # Отримаємо матрицю В  \n",
    "print(model_ols.intercept_)"
   ]
  },
  {
   "cell_type": "code",
   "execution_count": null,
   "id": "59110121",
   "metadata": {},
   "outputs": [],
   "source": [
    "fit1 = MANOVA.from_formula('Y ~ X', data = data_new[:,1:])\n",
    "print(fit1.mv_test())"
   ]
  }
 ],
 "metadata": {
  "colab": {
   "provenance": []
  },
  "kernelspec": {
   "display_name": "Python 3 (ipykernel)",
   "language": "python",
   "name": "python3"
  },
  "language_info": {
   "codemirror_mode": {
    "name": "ipython",
    "version": 3
   },
   "file_extension": ".py",
   "mimetype": "text/x-python",
   "name": "python",
   "nbconvert_exporter": "python",
   "pygments_lexer": "ipython3",
   "version": "3.9.12"
  }
 },
 "nbformat": 4,
 "nbformat_minor": 5
}
