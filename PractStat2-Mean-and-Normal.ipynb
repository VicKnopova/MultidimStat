{
 "cells": [
  {
   "cell_type": "markdown",
   "id": "dece0df0",
   "metadata": {},
   "source": [
    "## Практика 2: Гіпотези про середнє. Тест на нормальність. \n",
    "\n",
    "####   Приклад 1 . Тест про середнє при відомій дисперсії (Example 5.2.2)\n"
   ]
  },
  {
   "cell_type": "code",
   "execution_count": 11,
   "id": "59542575",
   "metadata": {},
   "outputs": [
    {
     "name": "stdout",
     "output_type": "stream",
     "text": [
      "[[  1  69 153]\n",
      " [  2  74 175]\n",
      " [  3  68 155]\n",
      " [  4  70 135]\n",
      " [  5  72 172]\n",
      " [  6  67 150]\n",
      " [  7  66 115]\n",
      " [  8  70 137]\n",
      " [  9  76 200]\n",
      " [ 10  68 130]\n",
      " [ 11  72 140]\n",
      " [ 12  79 265]\n",
      " [ 13  74 185]\n",
      " [ 14  67 112]\n",
      " [ 15  66 140]\n",
      " [ 16  71 150]\n",
      " [ 17  74 165]\n",
      " [ 18  75 185]\n",
      " [ 19  75 210]\n",
      " [ 20  76 220]]\n"
     ]
    }
   ],
   "source": [
    "import numpy as np\n",
    "import pandas as pd\n",
    "from scipy.spatial.distance import cdist   #  функція cdist обчислює відстань між 2ма векторами\n",
    "\n",
    "\n",
    "#Tab_3_1 = open(\"T3_1_HEIGHTWT.DAT\",'r')               # можна прочитати, але  це буде інший формат     \n",
    "#Tab_3_1.read()\n",
    "\n",
    "Tab_3_1 = np.loadtxt(\"T3_1_HEIGHTWT.DAT\", dtype=int)  # конвертуємо в цілі числа,  тип: numpy.ndarray\n",
    "print(Tab_3_1)"
   ]
  },
  {
   "cell_type": "code",
   "execution_count": 13,
   "id": "bb3f33de",
   "metadata": {},
   "outputs": [],
   "source": [
    "Data_3_1 = Tab_3_1[:,1:]"
   ]
  },
  {
   "cell_type": "code",
   "execution_count": 14,
   "id": "cf71366a",
   "metadata": {},
   "outputs": [
    {
     "data": {
      "text/plain": [
       "(20, 2)"
      ]
     },
     "execution_count": 14,
     "metadata": {},
     "output_type": "execute_result"
    }
   ],
   "source": [
    "np.shape(Data_3_1)"
   ]
  },
  {
   "cell_type": "code",
   "execution_count": 15,
   "id": "a36fadf0",
   "metadata": {},
   "outputs": [
    {
     "data": {
      "text/plain": [
       "array([ 71.45, 164.7 ])"
      ]
     },
     "execution_count": 15,
     "metadata": {},
     "output_type": "execute_result"
    }
   ],
   "source": [
    "X1 = Data_3_1[:,0]; X2 = Data_3_1[:,1]\n",
    "len(X1)                         # довжина масиву  (тут m=20)\n",
    "xbar=np.mean(Data_3_1,axis=0)   # вектор середніх\n",
    "xbar.T"
   ]
  },
  {
   "cell_type": "code",
   "execution_count": 16,
   "id": "93b6113e",
   "metadata": {},
   "outputs": [
    {
     "data": {
      "text/plain": [
       "array([[ 0.1  , -0.01 ],\n",
       "       [-0.01 ,  0.002]])"
      ]
     },
     "execution_count": 16,
     "metadata": {},
     "output_type": "execute_result"
    }
   ],
   "source": [
    "E = [[20,100], [100,1000]]  # матриця Е \n",
    "mu0= [70,170]               # вектор mu0\n",
    "IE = np.linalg.inv(E)       # обернена матриця\n",
    "IE"
   ]
  },
  {
   "cell_type": "code",
   "execution_count": 18,
   "id": "11adcfcc",
   "metadata": {},
   "outputs": [
    {
     "data": {
      "text/plain": [
       "array([ 0.198 , -0.0251])"
      ]
     },
     "execution_count": 18,
     "metadata": {},
     "output_type": "execute_result"
    }
   ],
   "source": [
    "IE@(xbar-mu0)  # рахуємо скалярний добуток матриці і вектору"
   ]
  },
  {
   "cell_type": "code",
   "execution_count": 19,
   "id": "b943f6f4",
   "metadata": {},
   "outputs": [
    {
     "data": {
      "text/plain": [
       "0.42013000000000167"
      ]
     },
     "execution_count": 19,
     "metadata": {},
     "output_type": "execute_result"
    }
   ],
   "source": [
    "(xbar-mu0)@( IE@ (xbar-mu0))   #відстань Махаланобіса в квадраті"
   ]
  },
  {
   "cell_type": "code",
   "execution_count": 20,
   "id": "e61c1281",
   "metadata": {},
   "outputs": [
    {
     "data": {
      "text/plain": [
       "8.402600000000035"
      ]
     },
     "execution_count": 20,
     "metadata": {},
     "output_type": "execute_result"
    }
   ],
   "source": [
    "# рахуємо 20* відстань Махаланобіса в квадраті\n",
    "T2_1 = len(X1)*(xbar-mu0)@( IE@ (xbar-mu0)) \n",
    "T2_1"
   ]
  },
  {
   "cell_type": "code",
   "execution_count": 29,
   "id": "0d5eb7ff",
   "metadata": {},
   "outputs": [
    {
     "data": {
      "text/plain": [
       "8.402600000000032"
      ]
     },
     "execution_count": 29,
     "metadata": {},
     "output_type": "execute_result"
    }
   ],
   "source": [
    "from scipy.spatial import distance        # як порахувати за допомогою  вбудованої функції\n",
    "len(X1)*(distance.mahalanobis(mu0, xbar, IE))**2  # вбудована функція, відстань Махаланобіса"
   ]
  },
  {
   "cell_type": "code",
   "execution_count": 30,
   "id": "b8f20b04",
   "metadata": {},
   "outputs": [
    {
     "data": {
      "text/plain": [
       "5.991464547107979"
      ]
     },
     "execution_count": 30,
     "metadata": {},
     "output_type": "execute_result"
    }
   ],
   "source": [
    " # знайдемо квантіль розподілу хі квадрат з 2ма ступенями свободи\n",
    "    \n",
    "from scipy.stats import chi2  #\n",
    "chi2.ppf(0.95, 2, loc=0, scale=1)  # Отримали:  8.4 > 5.99, \n",
    "                                   # тому відхиляємо нульову гіпотезу про те, що істине середнє дорівнює mu0."
   ]
  },
  {
   "cell_type": "code",
   "execution_count": 1,
   "id": "5fbc0db4",
   "metadata": {},
   "outputs": [
    {
     "ename": "ModuleNotFoundError",
     "evalue": "No module named 'pingouin'",
     "output_type": "error",
     "traceback": [
      "\u001b[1;31m---------------------------------------------------------------------------\u001b[0m",
      "\u001b[1;31mModuleNotFoundError\u001b[0m                       Traceback (most recent call last)",
      "\u001b[1;32m~\\AppData\\Local\\Temp/ipykernel_14832/2260243723.py\u001b[0m in \u001b[0;36m<module>\u001b[1;34m\u001b[0m\n\u001b[0;32m      2\u001b[0m \u001b[1;31m#!pip install pingouin\u001b[0m\u001b[1;33m\u001b[0m\u001b[1;33m\u001b[0m\u001b[0m\n\u001b[0;32m      3\u001b[0m \u001b[1;31m# пакет,  в якому вбудована статистика Хотеллінга\u001b[0m\u001b[1;33m\u001b[0m\u001b[1;33m\u001b[0m\u001b[0m\n\u001b[1;32m----> 4\u001b[1;33m \u001b[1;32mimport\u001b[0m \u001b[0mpingouin\u001b[0m \u001b[1;32mas\u001b[0m \u001b[0mpg\u001b[0m\u001b[1;33m\u001b[0m\u001b[1;33m\u001b[0m\u001b[0m\n\u001b[0m",
      "\u001b[1;31mModuleNotFoundError\u001b[0m: No module named 'pingouin'"
     ]
    }
   ],
   "source": [
    "#як порахувати статистику Хотеллінга вбудованою функцією\n",
    "#!pip install pingouin  \n",
    "# пакет,  в якому вбудована статистика Хотеллінга\n",
    "import pingouin as pg"
   ]
  },
  {
   "cell_type": "code",
   "execution_count": 32,
   "id": "79d21f1a",
   "metadata": {},
   "outputs": [],
   "source": [
    "# !pip install hotelling\n",
    "from hotelling.stats import hotelling_t2\n",
    "# hotelling.stats.hotelling_dict(x, y=None, bessel=True)  \n",
    "# bessel: стосується методу, як зобразити щільність розподілу\n",
    "# https://dionresearch.github.io/hotelling/_modules/hotelling/stats.html#hotelling_diсt"
   ]
  },
  {
   "cell_type": "code",
   "execution_count": 26,
   "id": "f75cf073",
   "metadata": {},
   "outputs": [],
   "source": [
    "Mu =[[70,170] for i in range(1,21)]  # утворюємо масив із вектору серезніх [70,170]"
   ]
  },
  {
   "cell_type": "code",
   "execution_count": 27,
   "id": "71963d49",
   "metadata": {},
   "outputs": [
    {
     "data": {
      "text/html": [
       "<div>\n",
       "<style scoped>\n",
       "    .dataframe tbody tr th:only-of-type {\n",
       "        vertical-align: middle;\n",
       "    }\n",
       "\n",
       "    .dataframe tbody tr th {\n",
       "        vertical-align: top;\n",
       "    }\n",
       "\n",
       "    .dataframe thead th {\n",
       "        text-align: right;\n",
       "    }\n",
       "</style>\n",
       "<table border=\"1\" class=\"dataframe\">\n",
       "  <thead>\n",
       "    <tr style=\"text-align: right;\">\n",
       "      <th></th>\n",
       "      <th>T2</th>\n",
       "      <th>F</th>\n",
       "      <th>df1</th>\n",
       "      <th>df2</th>\n",
       "      <th>pval</th>\n",
       "    </tr>\n",
       "  </thead>\n",
       "  <tbody>\n",
       "    <tr>\n",
       "      <th>hotelling</th>\n",
       "      <td>24.646482</td>\n",
       "      <td>11.998945</td>\n",
       "      <td>2</td>\n",
       "      <td>37</td>\n",
       "      <td>0.000096</td>\n",
       "    </tr>\n",
       "  </tbody>\n",
       "</table>\n",
       "</div>"
      ],
      "text/plain": [
       "                  T2          F  df1  df2      pval\n",
       "hotelling  24.646482  11.998945    2   37  0.000096"
      ]
     },
     "execution_count": 27,
     "metadata": {},
     "output_type": "execute_result"
    }
   ],
   "source": [
    "# порахуємо за допомогою вбудованої функції\n",
    "pg.multivariate_ttest(Data_3_1,Mu)    # Але це зовсім не T2_1! "
   ]
  },
  {
   "cell_type": "code",
   "execution_count": 48,
   "id": "634eeff4",
   "metadata": {},
   "outputs": [
    {
     "data": {
      "text/plain": [
       "(24.646482117357806,\n",
       " 11.674649424011593,\n",
       " 0.0005613570724057936,\n",
       " array([[  14.57631579,  128.87894737],\n",
       "        [ 128.87894737, 1441.27368421]]))"
      ]
     },
     "execution_count": 48,
     "metadata": {},
     "output_type": "execute_result"
    }
   ],
   "source": [
    "hotelling_t2(Data_3_1- Mu, bessel=False, S=None)  # тут справжня ков.матр."
   ]
  },
  {
   "cell_type": "code",
   "execution_count": 16,
   "id": "50b1a135",
   "metadata": {},
   "outputs": [
    {
     "data": {
      "text/plain": [
       "8.402600000000021"
      ]
     },
     "execution_count": 16,
     "metadata": {},
     "output_type": "execute_result"
    }
   ],
   "source": [
    "hotelling_t2(Data_3_1- Mu, bessel=False, S=E) # а тут та Е, яка дана"
   ]
  },
  {
   "cell_type": "markdown",
   "id": "6b61f28c",
   "metadata": {},
   "source": [
    "### Приклад 2. Example 5.3.2\n",
    "Rencher, Chapter 3, p.56 (стор. 73 у  файлі)"
   ]
  },
  {
   "cell_type": "code",
   "execution_count": 34,
   "id": "5c0e88a9",
   "metadata": {},
   "outputs": [
    {
     "name": "stdout",
     "output_type": "stream",
     "text": [
      "[[ 1.   35.    3.5   2.8 ]\n",
      " [ 2.   35.    4.9   2.7 ]\n",
      " [ 3.   40.   30.    4.38]\n",
      " [ 4.   10.    2.8   3.21]\n",
      " [ 5.    6.    2.7   2.73]\n",
      " [ 6.   20.    2.8   2.81]\n",
      " [ 7.   35.    4.6   2.88]\n",
      " [ 8.   35.   10.9   2.9 ]\n",
      " [ 9.   35.    8.    3.28]\n",
      " [10.   30.    1.6   3.2 ]]\n"
     ]
    }
   ],
   "source": [
    "Data_3_3 = np.loadtxt(\"T3_3_CALCIUM.DAT\", dtype=float)  # конвертуємо в дійсні числа,  тип: numpy.ndarray\n",
    "print(Data_3_3)"
   ]
  },
  {
   "cell_type": "code",
   "execution_count": 36,
   "id": "53f49e06",
   "metadata": {},
   "outputs": [
    {
     "data": {
      "text/plain": [
       "(10, 3)"
      ]
     },
     "execution_count": 36,
     "metadata": {},
     "output_type": "execute_result"
    }
   ],
   "source": [
    "Data_3_3 = Data_3_3[:,1:]\n",
    "np.shape(Data_3_3)"
   ]
  },
  {
   "cell_type": "code",
   "execution_count": 37,
   "id": "943a7bae",
   "metadata": {},
   "outputs": [
    {
     "data": {
      "text/plain": [
       "array([[140.54444444,  49.68      ,   1.94122222],\n",
       "       [ 49.68      ,  72.24844444,   3.67608889],\n",
       "       [  1.94122222,   3.67608889,   0.25012111]])"
      ]
     },
     "execution_count": 37,
     "metadata": {},
     "output_type": "execute_result"
    }
   ],
   "source": [
    "cov = np.cov(Data_3_3.T)  # cov\n",
    "cov"
   ]
  },
  {
   "cell_type": "code",
   "execution_count": 38,
   "id": "88d6703b",
   "metadata": {},
   "outputs": [
    {
     "data": {
      "text/plain": [
       "array([13.1  ,  1.18 ,  0.239])"
      ]
     },
     "execution_count": 38,
     "metadata": {},
     "output_type": "execute_result"
    }
   ],
   "source": [
    "xbar2 = np.mean(Data_3_3,axis=0)\n",
    "mu2 = [15.0, 6.0, 2.85]\n",
    "X = np.subtract(xbar2,mu2)\n",
    "X"
   ]
  },
  {
   "cell_type": "code",
   "execution_count": 39,
   "id": "c7dbbd7b",
   "metadata": {},
   "outputs": [
    {
     "data": {
      "text/plain": [
       "24.558907556462053"
      ]
     },
     "execution_count": 39,
     "metadata": {},
     "output_type": "execute_result"
    }
   ],
   "source": [
    "T2_new = 10*(X.T @ np.linalg.inv(cov) @ X)  \n",
    "T2_new"
   ]
  },
  {
   "cell_type": "code",
   "execution_count": 40,
   "id": "171563f2",
   "metadata": {},
   "outputs": [
    {
     "data": {
      "text/plain": [
       "array([[15.  ,  6.  ,  2.85],\n",
       "       [15.  ,  6.  ,  2.85],\n",
       "       [15.  ,  6.  ,  2.85],\n",
       "       [15.  ,  6.  ,  2.85],\n",
       "       [15.  ,  6.  ,  2.85],\n",
       "       [15.  ,  6.  ,  2.85],\n",
       "       [15.  ,  6.  ,  2.85],\n",
       "       [15.  ,  6.  ,  2.85],\n",
       "       [15.  ,  6.  ,  2.85],\n",
       "       [15.  ,  6.  ,  2.85]])"
      ]
     },
     "execution_count": 40,
     "metadata": {},
     "output_type": "execute_result"
    }
   ],
   "source": [
    "Y= np.array([[15.0, 6.0, 2.85]  for i in range(1,11)])\n",
    "Y"
   ]
  },
  {
   "cell_type": "code",
   "execution_count": 41,
   "id": "c39cf920",
   "metadata": {
    "scrolled": true
   },
   "outputs": [
    {
     "data": {
      "text/plain": [
       "(24.558907556462017,\n",
       " 6.549042015056538,\n",
       " 0.0038313109277747725,\n",
       " array([[70.27222222, 24.84      ,  0.97061111],\n",
       "        [24.84      , 36.12422222,  1.83804444],\n",
       "        [ 0.97061111,  1.83804444,  0.12506056]]))"
      ]
     },
     "execution_count": 41,
     "metadata": {},
     "output_type": "execute_result"
    }
   ],
   "source": [
    "hotelling_t2(Data_3_3, Y, bessel=False, S=None) \n",
    "# T2 stat,  F -stat, p-value, cov matrix\n",
    "# увага! Тут використовуються масиви, а не вектори! "
   ]
  },
  {
   "cell_type": "code",
   "execution_count": null,
   "id": "fb87bbe2",
   "metadata": {},
   "outputs": [],
   "source": [
    "# ref: https://dionresearch.github.io/hotelling/_modules/hotelling/stats.html#hotelling_diсt\n",
    "\"\"\"Stats.py.\n",
    "\n",
    "Hotelling's T-Squared multivariate test for one sample or two independent samples\n",
    "\n",
    "See:\n",
    " Hotelling, Harold. (1931). The Generalization of Student's Ratio. Ann. Math. Statist. 2,\n",
    "  no. 3, 360--378. doi:10.1214/aoms/1177732979.\n",
    "\n",
    "https://projecteuclid.org/euclid.aoms/1177732979\n",
    "\"\"\"\n",
    "from warnings import warn\n",
    "\n",
    "import numpy as np\n",
    "from scipy.stats import f\n",
    "\n",
    "\n",
    "def bessel_correction(x, y=None):\n",
    "    \"\"\"bessel_correction.\n",
    "\n",
    "    Sampling tends to underestimate variability of a population. This is due to the fact that we are more likely to\n",
    "    sample around the mean than near the extremities. Bessel's correction uses n−1 instead of n which is used to\n",
    "    calculate variance etc, in order to correct for the bias in the estimation of the population variance.\n",
    "\n",
    "    :param x: array-like, samples of observations\n",
    "    :param y: array-like, samples of observations, optional\n",
    "    :return: returns x_n - 1, y_n - 1\n",
    "    \"\"\"\n",
    "    n1 = x.shape[0] - 1\n",
    "    try:\n",
    "        n1 = n1.compute()\n",
    "    except AttributeError:\n",
    "        pass\n",
    "    if y is None:\n",
    "        n2 = 0\n",
    "    else:\n",
    "        n2 = y.shape[0] - 1\n",
    "        try:\n",
    "            n2 = n2.compute()\n",
    "        except AttributeError:\n",
    "            pass\n",
    "    return n1, n2\n",
    "\n",
    "\n",
    "\n",
    "def inverse_covariance_matrix(x, y, bessel=True):\n",
    "    \"\"\"inverse_covariance_matrix.\n",
    "\n",
    "    :param x: array-like, samples of observations\n",
    "    :param y: array-like, samples of observations\n",
    "    :param bessel: bool, apply bessel correction (default)\n",
    "    :return: float, the pooled variance inverse, the pooled variance\n",
    "    \"\"\"\n",
    "    _, *p = x.shape\n",
    "    p = p[0] if p else 1\n",
    "    s = pooled_covariance_matrix(x, y, bessel)\n",
    "    try:\n",
    "        ident_p = np.identity(p).compute\n",
    "    except AttributeError:\n",
    "        ident_p = np.identity(p)\n",
    "    inv = np.linalg.solve(s, ident_p)\n",
    "    return inv, s\n",
    "\n",
    "\n",
    "\n",
    "def pooled_covariance_matrix(x, y, bessel=True):\n",
    "    r\"\"\"pooled_covariance.\n",
    "\n",
    "    Compute the pooled covariance matrix\n",
    "\n",
    "    Equation:\n",
    "\n",
    "    The pooled covariance matrix is defined as:\n",
    "\n",
    "    .. math::\n",
    "        S =  \\\\frac{n_xS_x + n_yS_y}{n_x+n_y}\n",
    "\n",
    "    And with bessel correction as:\n",
    "\n",
    "    .. math::\n",
    "        S =  \\\\frac{(n_x-1)S_x + (n_y-1)S_y}{n_x+n_y-2}\n",
    "\n",
    "    Reference\n",
    "    ---------\n",
    "    see: https://en.wikipedia.org/wiki/Hotelling%27s_T-squared_distribution#Pooled_covariance_matrix\n",
    "\n",
    "    :param x: array-like, samples of observations\n",
    "    :param y: array-like, samples of observations\n",
    "    :param bessel: bool, apply bessel correction (default)\n",
    "    :return: float, the pooled variance\n",
    "    \"\"\"\n",
    "    if bessel:\n",
    "        n1, n2 = bessel_correction(x, y)\n",
    "    else:\n",
    "        try:\n",
    "            n1 = x.shape[0]\n",
    "            n1 = n1.compute()\n",
    "            n2 = y.shape[0]\n",
    "            n2 = n2.compute()\n",
    "        except AttributeError:\n",
    "            n1 = x.shape[0]\n",
    "            n2 = y.shape[0]\n",
    "    try:\n",
    "        s1 = n1 * x.cov().compute()\n",
    "\n",
    "    except AttributeError:\n",
    "        s1 = n1 * np.cov(x, rowvar=False)\n",
    "    try:\n",
    "        s2 = n2 * y.cov().compute()\n",
    "    except AttributeError:\n",
    "        s2 = n2 * np.cov(y, rowvar=False)\n",
    "    s = (s1 + s2) / (n1 + n2)\n",
    "\n",
    "    return s\n",
    "\n",
    "\n",
    "\n",
    "def hotelling_t2(x, y=None, bessel=True, S=None):\n",
    "    r\"\"\"hotelling_t2.\n",
    "\n",
    "    Compute the Hotelling (T2) test statistic.\n",
    "\n",
    "    It is the multivariate extension of the Student's t-test.\n",
    "    Test the null hypothesis that two multivariate samples have the same underlying\n",
    "    probability distribution, when specifying samples for x and y. The number of samples do not have\n",
    "    to be the same, but the number of features does have to be equal.\n",
    "\n",
    "    Equation:\n",
    "\n",
    "    Hotelling's t-squared statistic is defined as:\n",
    "\n",
    "    .. math::\n",
    "        T^2 = n (\\\\bar{x} - {\\mu})^{T} S^{-1} (\\\\bar{x} - {\\mu})\n",
    "\n",
    "    Where S is the pooled covariance matrix and ᵀ represents the transpose.\n",
    "\n",
    "    The two sample t-squared statistic is defined as:\n",
    "\n",
    "    .. math::\n",
    "        T^2 = (\\\\bar{x} - \\\\bar{y})^{T} [S(\\\\frac1 n_x +\\\\frac 1 n_y)]^{-1} (\\\\bar{x}̄ - \\\\bar{y})\n",
    "\n",
    "    References:\n",
    "        - Hotelling, Harold. (1931). The Generalization of Student's Ratio. Ann. Math. Statist. 2, no. 3, 360--378.\n",
    "          doi:10.1214/aoms/1177732979. https://projecteuclid.org/euclid.aoms/1177732979\n",
    "\n",
    "        - Hotelling, Harold. (1955) Les Rapports entre les Methodes Statistiques recentes portant sur des Variables Multiples\n",
    "          et l'Analyse Factorielle. 107-119.\n",
    "          In: L'Analyse Factorielle et ses Applications. Centre National de la Recherche Scientifique, Paris.\n",
    "\n",
    "        - Anderson T.W. (1992) Introduction to Hotelling (1931) The Generalization of Student’s Ratio.\n",
    "          In: Kotz S., Johnson N.L. (eds) Breakthroughs in Statistics.\n",
    "          Springer Series in Statistics (Perspectives in Statistics). Springer, New York, NY\n",
    "\n",
    "    :param x: array-like, samples of observations for one or two sample test (required)\n",
    "    :param y: for two sample test, array-like, samples of observations (optional), for one sample, list of means to test\n",
    "    :param bessel: bool, apply bessel correction (default)\n",
    "    :return:\n",
    "        statistic: float,\n",
    "            the t2 statistic\n",
    "        f_value: float,\n",
    "            the f value\n",
    "        p_value: float,\n",
    "            the p value\n",
    "        s: 2d array,\n",
    "            the pooled variance\n",
    "    \"\"\"  # noqa: W605\n",
    "    try:\n",
    "        nx, p = x.shape\n",
    "    except AttributeError as ex:\n",
    "        if \"list\" in str(ex):\n",
    "            x = np.asarray(x)\n",
    "            nx, *p = x.shape\n",
    "            p = p[0] if p else 1\n",
    "            y = np.asarray(y)\n",
    "        else:\n",
    "            warn(\"Error: The two samples must be in arrays or dataframes format.\")\n",
    "            raise ValueError\n",
    "\n",
    "    # samples observed means\n",
    "    try:\n",
    "        nx = nx.compute()\n",
    "        x_bar = x.mean(0).compute()\n",
    "    except AttributeError:  # series has no attribute compute\n",
    "        x_bar = x.mean(0)\n",
    "\n",
    "    one_sample = False\n",
    "    if y is None:\n",
    "        # One sample T-squared\n",
    "        one_sample = True\n",
    "        y = np.zeros(p)\n",
    "        ny = None\n",
    "        py = p\n",
    "        diff_bar = x_bar - y\n",
    "\n",
    "    else:\n",
    "        ny, *py = y.shape\n",
    "        if len(py) == 0:\n",
    "            one_sample = True\n",
    "            py = p\n",
    "            diff_bar = x_bar - y\n",
    "        else:\n",
    "            # Two sample T-squared\n",
    "            py = py[0] if py else 1\n",
    "            try:\n",
    "                ny = ny.compute()\n",
    "                y_bar = y.mean(0).compute()\n",
    "            except AttributeError:  # series has no attribute compute\n",
    "                y_bar = y.mean(0)\n",
    "            # difference of means\n",
    "            diff_bar = x_bar - y_bar\n",
    "    if p != py:\n",
    "        warn(\n",
    "            f\"Error: the two samples must have the same number of features ({p} != {py}).\"\n",
    "        )\n",
    "        raise ValueError\n",
    "\n",
    "    # bessel correction ( -1 )\n",
    "    if bessel:\n",
    "        n1, n2 = bessel_correction(x, y)\n",
    "    else:\n",
    "        n1 = nx\n",
    "        n2 = ny\n",
    "    if one_sample:\n",
    "        n = nx\n",
    "    else:\n",
    "        n = n1 + n2\n",
    "\n",
    "    # calculate the T2 statistics\n",
    "    # Technically, we use diff_bar.T for the transpose, but with Pandas, a 1 dimensional dataframe\n",
    "    # is automatically aligned for @ and is not required\n",
    "    if one_sample:\n",
    "        if S is not None:\n",
    "            cov = S\n",
    "        else:\n",
    "            try:\n",
    "                cov = x.cov().compute()\n",
    "            except AttributeError:\n",
    "                try:\n",
    "                    cov = x.cov()\n",
    "                except AttributeError:\n",
    "                    cov = np.cov(x, rowvar=False)\n",
    "        inv_cov = np.linalg.pinv(cov)\n",
    "        # for f test\n",
    "        # term = (n - p) / (p * (n - 1))  # getting different results\n",
    "        t2_stat = n * (diff_bar.T @ inv_cov @ diff_bar)\n",
    "        if S is not None:\n",
    "            return t2_stat\n",
    "        # f statistic\n",
    "        # TODO: use chi square instead of f statistic for large sample\n",
    "        f_value = (n - p) * t2_stat / ((n - 1) * p)\n",
    "    else:\n",
    "        # pooled covariance\n",
    "        inv_s, s = inverse_covariance_matrix(x, y, bessel)\n",
    "        t2_stat = nx * ny / (nx + ny) * (diff_bar.T @ inv_s @ diff_bar)\n",
    "        # f statistic\n",
    "        # TODO: use chi square instead of f statistic for large sample\n",
    "        f_value = (nx + ny - p - 1) * t2_stat / (n * p)\n",
    "\n",
    "    # p-value\n",
    "    p_value = f.sf(f_value, p, n - p)  # survival function, 1 - cdf\n",
    "\n",
    "    # return the list of results\n",
    "    return t2_stat, f_value, p_value, cov if one_sample else s\n"
   ]
  },
  {
   "cell_type": "markdown",
   "id": "02a13134",
   "metadata": {},
   "source": [
    "## Приклад 3. Тест на рівність коваріацій у двох вибірках. \n",
    "\n",
    "Example 7.3.2  (Table 5.1)  Rencher"
   ]
  },
  {
   "cell_type": "code",
   "execution_count": 42,
   "id": "efbc9231",
   "metadata": {},
   "outputs": [
    {
     "name": "stdout",
     "output_type": "stream",
     "text": [
      "[[ 1 15 17 24 14]\n",
      " [ 1 17 15 32 26]\n",
      " [ 1 15 14 29 23]\n",
      " [ 1 13 12 10 16]\n",
      " [ 1 20 17 26 28]\n",
      " [ 1 15 21 26 21]\n",
      " [ 1 15 13 26 22]\n",
      " [ 1 13  5 22 22]\n",
      " [ 1 14  7 30 17]\n",
      " [ 1 17 15 30 27]\n",
      " [ 1 17 17 26 20]\n",
      " [ 1 17 20 28 24]\n",
      " [ 1 15 15 29 24]\n",
      " [ 1 18 19 32 28]\n",
      " [ 1 18 18 31 27]\n",
      " [ 1 15 14 26 21]\n",
      " [ 1 18 17 33 26]\n",
      " [ 1 10 14 19 17]\n",
      " [ 1 18 21 30 29]\n",
      " [ 1 18 21 34 26]\n",
      " [ 1 13 17 30 24]\n",
      " [ 1 16 16 16 16]\n",
      " [ 1 11 15 25 23]\n",
      " [ 1 16 13 26 16]\n",
      " [ 1 16 13 23 21]\n",
      " [ 1 18 18 34 24]\n",
      " [ 1 16 15 28 27]\n",
      " [ 1 15 16 29 24]\n",
      " [ 1 18 19 32 23]\n",
      " [ 1 18 16 33 23]\n",
      " [ 1 17 20 21 21]\n",
      " [ 1 19 19 30 28]\n",
      " [ 2 13 14 12 21]\n",
      " [ 2 14 12 14 26]\n",
      " [ 2 12 19 21 21]\n",
      " [ 2 12 13 10 16]\n",
      " [ 2 11 20 16 16]\n",
      " [ 2 12  9 14 18]\n",
      " [ 2 10 13 18 24]\n",
      " [ 2 10  8 13 23]\n",
      " [ 2 12 20 19 23]\n",
      " [ 2 11 10 11 27]\n",
      " [ 2 12 18 25 25]\n",
      " [ 2 14 18 13 26]\n",
      " [ 2 14 10 25 28]\n",
      " [ 2 13 16  8 14]\n",
      " [ 2 14  8 13 25]\n",
      " [ 2 13 16 23 28]\n",
      " [ 2 16 21 26 26]\n",
      " [ 2 14 17 14 14]\n",
      " [ 2 16 16 15 23]\n",
      " [ 2 13 16 23 24]\n",
      " [ 2  2  6 16 21]\n",
      " [ 2 14 16 22 26]\n",
      " [ 2 17 17 22 28]\n",
      " [ 2 16 13 16 14]\n",
      " [ 2 15 14 20 26]\n",
      " [ 2 12 10 12  9]\n",
      " [ 2 14 17 24 23]\n",
      " [ 2 13 15 18 20]\n",
      " [ 2 11 16 18 28]\n",
      " [ 2  7  7 19 18]\n",
      " [ 2 12 15  7 28]\n",
      " [ 2  6  5  6 13]]\n"
     ]
    }
   ],
   "source": [
    "Data_5_1 = np.loadtxt(\"T5_1_PSYCH.DAT\", dtype=int)\n",
    "print(Data_5_1)"
   ]
  },
  {
   "cell_type": "code",
   "execution_count": 48,
   "id": "8355b622",
   "metadata": {},
   "outputs": [],
   "source": [
    "# 1: М, 2: F. Розбиваємо на 2 таблиці, по 32 \n",
    "len(Data_5_1)\n",
    "Data_5_1M=Data_5_1[0:32,1:]  #останній не входить, тут рядки з 0 по 31"
   ]
  },
  {
   "cell_type": "code",
   "execution_count": 49,
   "id": "7d8a71f8",
   "metadata": {},
   "outputs": [
    {
     "data": {
      "text/plain": [
       "32"
      ]
     },
     "execution_count": 49,
     "metadata": {},
     "output_type": "execute_result"
    }
   ],
   "source": [
    "n_M=len(Data_5_1M)\n",
    "n_M"
   ]
  },
  {
   "cell_type": "code",
   "execution_count": 50,
   "id": "50cafe47",
   "metadata": {},
   "outputs": [
    {
     "data": {
      "text/plain": [
       "32"
      ]
     },
     "execution_count": 50,
     "metadata": {},
     "output_type": "execute_result"
    }
   ],
   "source": [
    "Data_5_1F=Data_5_1[32:,1:]\n",
    "n_F=len(Data_5_1F)\n",
    "n_F"
   ]
  },
  {
   "cell_type": "code",
   "execution_count": 51,
   "id": "ed46e022",
   "metadata": {},
   "outputs": [
    {
     "data": {
      "text/plain": [
       "array([[ 7.16431452,  6.04737903,  5.69304435,  4.70060484],\n",
       "       [ 6.04737903, 15.89415323,  8.49243952,  5.85584677],\n",
       "       [ 5.69304435,  8.49243952, 29.35635081, 13.98084677],\n",
       "       [ 4.70060484,  5.85584677, 13.98084677, 22.32056452]])"
      ]
     },
     "execution_count": 51,
     "metadata": {},
     "output_type": "execute_result"
    }
   ],
   "source": [
    "S_F= np.cov(Data_5_1M.T)\n",
    "S_M= np.cov(Data_5_1F.T)\n",
    "S= np.cov(Data_5_1[:,1:].T)\n",
    "Spl= ((n_F-1)*S_F+ (n_M-1)*S_M)/(n_M+n_F-2)\n",
    "Spl"
   ]
  },
  {
   "cell_type": "code",
   "execution_count": 52,
   "id": "e7cc5242",
   "metadata": {},
   "outputs": [],
   "source": [
    "Mean_M= np.mean(Data_5_1M,axis=0)\n",
    "Mean_F= np.mean(Data_5_1F,axis=0)"
   ]
  },
  {
   "cell_type": "code",
   "execution_count": 53,
   "id": "8e385452",
   "metadata": {},
   "outputs": [
    {
     "data": {
      "text/plain": [
       "97.60149652776889"
      ]
     },
     "execution_count": 53,
     "metadata": {},
     "output_type": "execute_result"
    }
   ],
   "source": [
    "T2_2samples=((n_F*n_M)/(n_F+n_M))*((Mean_M.T-Mean_F.T)@ np.linalg.inv(Spl) @ (Mean_M-Mean_F)) \n",
    "T2_2samples"
   ]
  },
  {
   "cell_type": "code",
   "execution_count": 32,
   "id": "fa35ebed",
   "metadata": {},
   "outputs": [
    {
     "data": {
      "text/plain": [
       "23.219710867493404"
      ]
     },
     "execution_count": 32,
     "metadata": {},
     "output_type": "execute_result"
    }
   ],
   "source": [
    "# рахуємо F статистику\n",
    "d=4\n",
    "F=T2_2samples*(n_F+n_M-d-1)/((n_F+n_M-2)*d)\n",
    "F"
   ]
  },
  {
   "cell_type": "code",
   "execution_count": 54,
   "id": "1c4f7004",
   "metadata": {},
   "outputs": [
    {
     "data": {
      "text/plain": [
       "(97.60149652776889,\n",
       " 23.219710867493404,\n",
       " 1.7161166043309273e-11,\n",
       " array([[ 7.16431452,  6.04737903,  5.69304435,  4.70060484],\n",
       "        [ 6.04737903, 15.89415323,  8.49243952,  5.85584677],\n",
       "        [ 5.69304435,  8.49243952, 29.35635081, 13.98084677],\n",
       "        [ 4.70060484,  5.85584677, 13.98084677, 22.32056452]]))"
      ]
     },
     "execution_count": 54,
     "metadata": {},
     "output_type": "execute_result"
    }
   ],
   "source": [
    "# Застосуємо вбудовану функцію (див. довументацію)\n",
    "hotelling_t2(Data_5_1M_new, Data_5_1F_new, bessel=True, S=None)  "
   ]
  },
  {
   "cell_type": "code",
   "execution_count": 39,
   "id": "0a232bb2",
   "metadata": {},
   "outputs": [
    {
     "data": {
      "text/plain": [
       "ShapiroResult(statistic=0.9140006899833679, pvalue=0.014341438189148903)"
      ]
     },
     "execution_count": 39,
     "metadata": {},
     "output_type": "execute_result"
    }
   ],
   "source": [
    "# Ми припускали, що спостереження нормальні. Наведемо декілька тестів нормальності\n",
    "# Тест Шапіро-Уілка. Це одновимірний тест, для тестування векторів потрібно інше! \n",
    "from scipy import stats\n",
    "shapiro_test_M1 = stats.shapiro(Data_5_1M_new[:,1])  # \n",
    "shapiro_test_M1      "
   ]
  },
  {
   "cell_type": "code",
   "execution_count": 41,
   "id": "9f836676",
   "metadata": {},
   "outputs": [
    {
     "name": "stdout",
     "output_type": "stream",
     "text": [
      "[0]\n",
      "0.9349082708358765 Статистика 0.05374595522880554 p-value\n",
      "[1]\n",
      "0.9140006899833679 Статистика 0.014341438189148903 p-value\n",
      "[2]\n",
      "0.8983452320098877 Статистика 0.005622181110084057 p-value\n",
      "[3]\n",
      "0.940362811088562 Статистика 0.07666302472352982 p-value\n"
     ]
    }
   ],
   "source": [
    "# Перевіримо тепер по координатам: \n",
    "for i in range(0,4):\n",
    "    print([i])\n",
    "    a,b=stats.shapiro(Data_5_1M_new[:,i])\n",
    "    print(a,\"Статистика\", b, \"p-value\")   #  не дуже підходить..."
   ]
  },
  {
   "cell_type": "markdown",
   "id": "dbbfeb2e",
   "metadata": {},
   "source": [
    "(https://www.sfu.ca/sasdoc/sashtml/ets/chap14/sect38.htm)"
   ]
  },
  {
   "cell_type": "code",
   "execution_count": 55,
   "id": "c18d51f1",
   "metadata": {},
   "outputs": [
    {
     "data": {
      "text/plain": [
       "HZResults(hz=23.483889208712167, pval=4.6035519677413015e-125, normal=False)"
      ]
     },
     "execution_count": 55,
     "metadata": {},
     "output_type": "execute_result"
    }
   ],
   "source": [
    "# pingouin багатовимірний тест на нормальність  (Henze, Zirkler (1990))\n",
    "pg.multivariate_normality(Data_5_1M_new, alpha=.05)"
   ]
  },
  {
   "cell_type": "code",
   "execution_count": 56,
   "id": "ffbfe5cc",
   "metadata": {},
   "outputs": [
    {
     "data": {
      "text/plain": [
       "NormaltestResult(statistic=array([ 4.00341947, 10.06075195, 13.10544202,  2.02431211]), pvalue=array([0.13510409, 0.00653635, 0.00142623, 0.36343455]))"
      ]
     },
     "execution_count": 56,
     "metadata": {},
     "output_type": "execute_result"
    }
   ],
   "source": [
    "# D’Agostino, Pearson  (1973)\n",
    "from scipy import stats\n",
    "stats.normaltest(Data_5_1M_new)"
   ]
  }
 ],
 "metadata": {
  "kernelspec": {
   "display_name": "Python 3 (ipykernel)",
   "language": "python",
   "name": "python3"
  },
  "language_info": {
   "codemirror_mode": {
    "name": "ipython",
    "version": 3
   },
   "file_extension": ".py",
   "mimetype": "text/x-python",
   "name": "python",
   "nbconvert_exporter": "python",
   "pygments_lexer": "ipython3",
   "version": "3.9.7"
  }
 },
 "nbformat": 4,
 "nbformat_minor": 5
}
