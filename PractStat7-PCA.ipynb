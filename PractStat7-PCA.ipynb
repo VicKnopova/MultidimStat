{
 "cells": [
  {
   "cell_type": "markdown",
   "id": "b0cfd2e1",
   "metadata": {},
   "source": [
    "##   Практика 7: Метод головних компонент  (PCA: Principal Component Analysis) "
   ]
  },
  {
   "cell_type": "code",
   "execution_count": 1,
   "id": "055192b7",
   "metadata": {},
   "outputs": [],
   "source": [
    "import numpy as np\n",
    "import pandas as pd\n",
    "import matplotlib.pyplot as plt \n",
    "from sklearn.decomposition import PCA             # PCA= Principal Component Analysis\n",
    "from sklearn.preprocessing import StandardScaler  # шкалювання\n",
    "import math\n",
    "from matplotlib.patches import Ellipse"
   ]
  },
  {
   "cell_type": "code",
   "execution_count": 2,
   "id": "d029b2d9",
   "metadata": {},
   "outputs": [],
   "source": [
    "np.set_printoptions(precision=4)  # скрізь округлення до 4го знаку. "
   ]
  },
  {
   "cell_type": "markdown",
   "id": "cf7d4a17",
   "metadata": {},
   "source": [
    "## 1. Приклад 12.2.1 (Rencher)  "
   ]
  },
  {
   "cell_type": "code",
   "execution_count": 3,
   "id": "6c26fa6d",
   "metadata": {},
   "outputs": [
    {
     "name": "stdout",
     "output_type": "stream",
     "text": [
      "[[191. 155. 179. 145.]\n",
      " [195. 149. 201. 152.]\n",
      " [181. 148. 185. 149.]\n",
      " [183. 153. 188. 149.]\n",
      " [176. 144. 171. 142.]\n",
      " [208. 157. 192. 152.]\n",
      " [189. 150. 190. 149.]\n",
      " [197. 159. 189. 152.]\n",
      " [188. 152. 197. 159.]\n",
      " [192. 150. 187. 151.]\n",
      " [179. 158. 186. 148.]\n",
      " [183. 147. 174. 147.]\n",
      " [174. 150. 185. 152.]\n",
      " [190. 159. 195. 157.]\n",
      " [188. 151. 187. 158.]\n",
      " [163. 137. 161. 130.]\n",
      " [195. 155. 183. 158.]\n",
      " [186. 153. 173. 148.]\n",
      " [181. 145. 182. 146.]\n",
      " [175. 140. 165. 137.]\n",
      " [192. 154. 185. 152.]\n",
      " [174. 143. 178. 147.]\n",
      " [176. 139. 176. 143.]\n",
      " [197. 167. 200. 158.]\n",
      " [190. 163. 187. 150.]]\n"
     ]
    }
   ],
   "source": [
    "data = np.loadtxt(\"T3_7_SONS.DAT\", dtype=float)\n",
    "print(data)"
   ]
  },
  {
   "cell_type": "markdown",
   "id": "a30aa213",
   "metadata": {},
   "source": [
    " Можна зчитати і як DataFrame: "
   ]
  },
  {
   "cell_type": "code",
   "execution_count": 6,
   "id": "a52e6327",
   "metadata": {},
   "outputs": [
    {
     "name": "stdout",
     "output_type": "stream",
     "text": [
      "[[95.2933 52.8683]\n",
      " [52.8683 54.36  ]]\n",
      "[[95.2933 52.8683]\n",
      " [52.8683 54.36  ]]\n"
     ]
    }
   ],
   "source": [
    "Son1 = data[:,:2]\n",
    "Son2 = data[:, 2:]\n",
    "Son1_mean = np.mean(Son1, axis=0)\n",
    "Son2_mean = np.mean(Son2, axis=0)\n",
    "Son1_cov = np.cov(Son1.T)\n",
    "Son2_cov = np.cov(Son2.T)\n",
    "print(Son1_cov)\n",
    "\n",
    "# Як ще обчислити коваріаційну матрицю: \n",
    "cov_mat = np.cov(Son1, rowvar = False) # щоб не транспонувати, можна взяти  rowvar = False\n",
    "print(cov_mat)"
   ]
  },
  {
   "cell_type": "markdown",
   "id": "e85bc96c",
   "metadata": {},
   "source": [
    "Знаходимо власні вектори та власні числа: "
   ]
  },
  {
   "cell_type": "code",
   "execution_count": 9,
   "id": "5f485835",
   "metadata": {},
   "outputs": [],
   "source": [
    "eigen_values , eigen_vectors = np.linalg.eigh(Son1_cov)\n",
    "a = eigen_vectors   \n",
    "lam = eigen_values                          "
   ]
  },
  {
   "cell_type": "markdown",
   "id": "5f5a7eff",
   "metadata": {},
   "source": [
    "Зауважимо, що за замовчуванням власні числа у зростаючому порядку! "
   ]
  },
  {
   "cell_type": "code",
   "execution_count": 10,
   "id": "71d9a11e",
   "metadata": {},
   "outputs": [
    {
     "data": {
      "text/plain": [
       "(array([ 18.135 , 131.5183]),\n",
       " array([[ 0.5652, -0.8249],\n",
       "        [-0.8249, -0.5652]]))"
      ]
     },
     "execution_count": 10,
     "metadata": {},
     "output_type": "execute_result"
    }
   ],
   "source": [
    "np.linalg.eigh(Son1_cov)"
   ]
  },
  {
   "cell_type": "markdown",
   "id": "8dec938b",
   "metadata": {},
   "source": [
    "Симетризуємо та записуємо дискримінантні функції. Ми міняємо порядок, оскільки власне число з номером 2 -більше."
   ]
  },
  {
   "cell_type": "code",
   "execution_count": 12,
   "id": "d43daece",
   "metadata": {},
   "outputs": [],
   "source": [
    "Son1_sym = Son1 - Son1_mean\n",
    "Son2_sym = Son2 - Son2_mean\n",
    "z1 = Son1_sym @ a[:,1]                        \n",
    "z2 = Son2_sym @ a[:,0]"
   ]
  },
  {
   "cell_type": "markdown",
   "id": "c1dc542b",
   "metadata": {},
   "source": [
    "Намалюємо обидві картинки: зображення в старих координатах і в нових. Сині точки- це дані в старих координатах, червоні - в нових. Ми бачимо, що в нових координатах картинка ''повернута'' на в напрямку ХОУ. "
   ]
  },
  {
   "cell_type": "code",
   "execution_count": 29,
   "id": "66a2164c",
   "metadata": {},
   "outputs": [
    {
     "data": {
      "image/png": "[encoded data removed]",
      "text/plain": [
       "<Figure size 504x504 with 1 Axes>"
      ]
     },
     "metadata": {
      "needs_background": "light"
     },
     "output_type": "display_data"
    }
   ],
   "source": [
    "fig = plt.figure(figsize=(7,7))\n",
    "ax0 = fig.add_subplot(111)\n",
    "\n",
    "# додаємо точки \n",
    "ax0.scatter(Son1_sym[:,0],Son1_sym[:,1],c='blue')  \n",
    "ax0.scatter(z1,z2,c='red')  \n",
    "\n",
    "plt.show()"
   ]
  },
  {
   "cell_type": "markdown",
   "id": "b4f1f3d7",
   "metadata": {},
   "source": [
    "Знайдемо головні оці еліпса $\\frac{x^2}{a^2} + \\frac{y^2}{b^2} = R^2$, та побудуємо довірчий еліпс з цими головними осями: $a = \\sqrt{\\lambda_1}$, $b =\\sqrt{\\lambda_2}$. "
   ]
  },
  {
   "cell_type": "code",
   "execution_count": 17,
   "id": "8172220d",
   "metadata": {},
   "outputs": [],
   "source": [
    "sqr_lam = np.sqrt(lam)"
   ]
  },
  {
   "cell_type": "code",
   "execution_count": 36,
   "id": "961fd60f",
   "metadata": {},
   "outputs": [
    {
     "data": {
      "image/png": "[encoded data removed]",
      "text/plain": [
       "<Figure size 432x288 with 1 Axes>"
      ]
     },
     "metadata": {
      "needs_background": "light"
     },
     "output_type": "display_data"
    }
   ],
   "source": [
    "ax0 = fig.add_subplot(111)\n",
    "\n",
    "ellipse = Ellipse(xy=(0,0), width= 3*2* sqr_lam[1],  height= 3*2* sqr_lam[0], \n",
    "                        edgecolor='r', fc='None', lw=2)\n",
    "fig, ax = plt.subplots()\n",
    "\n",
    "ax.add_patch(ellipse)  \n",
    "ax.scatter(z1,z2,c='red')  \n",
    "\n",
    "ax.autoscale()\n",
    "plt.show()"
   ]
  },
  {
   "cell_type": "markdown",
   "id": "85f85cfe",
   "metadata": {},
   "source": [
    "## 2. Приклад 12.7 (Rencher)   \n",
    "\n",
    "\n",
    "В наступній таблиці наведено результати  6 тестів   20 інженерів-студентів та 20 пілотів, див. також https://rpubs.com/aaronsc32/principal-component-analysis}. Ми наведемо перші 6 значень таблиці; тут 1 означає, що мова йде про студента, а 2-про пілота. Тому ми зробимо групування данних за принципом, чи є людина, що бере участь в експерименті, студентом чи пілотом."
   ]
  },
  {
   "cell_type": "code",
   "execution_count": 16,
   "id": "fc958007",
   "metadata": {},
   "outputs": [
    {
     "name": "stdout",
     "output_type": "stream",
     "text": [
      "    GROUP     V1    V2     V3     V4    V5     V6\n",
      "0     1.0  121.0  22.0   74.0  223.0  54.0  254.0\n",
      "1     1.0  108.0  30.0   80.0  175.0  40.0  300.0\n",
      "2     1.0  122.0  49.0   87.0  266.0  41.0  223.0\n",
      "3     1.0   77.0  37.0   66.0  178.0  80.0  209.0\n",
      "4     1.0  140.0  35.0   71.0  175.0  38.0  261.0\n",
      "5     1.0  108.0  37.0   57.0  241.0  59.0  245.0\n",
      "6     1.0  124.0  39.0   52.0  194.0  72.0  242.0\n",
      "7     1.0  130.0  34.0   89.0  200.0  85.0  242.0\n",
      "8     1.0  149.0  55.0   91.0  198.0  50.0  277.0\n",
      "9     1.0  129.0  38.0   72.0  162.0  47.0  268.0\n",
      "10    1.0  154.0  37.0   87.0  170.0  60.0  244.0\n",
      "11    1.0  145.0  33.0   88.0  208.0  51.0  228.0\n",
      "12    1.0  112.0  40.0   60.0  232.0  29.0  279.0\n",
      "13    1.0  120.0  39.0   73.0  159.0  39.0  233.0\n",
      "14    1.0  118.0  21.0   83.0  152.0  88.0  233.0\n",
      "15    1.0  141.0  42.0   80.0  195.0  36.0  241.0\n",
      "16    1.0  135.0  49.0   73.0  152.0  42.0  249.0\n",
      "17    1.0  151.0  37.0   76.0  223.0  74.0  268.0\n",
      "18    1.0   97.0  46.0   83.0  164.0  31.0  243.0\n",
      "19    1.0  109.0  42.0   82.0  188.0  57.0  267.0\n",
      "20    2.0  132.0  17.0   77.0  232.0  50.0  249.0\n",
      "21    2.0  123.0  32.0   79.0  192.0  64.0  315.0\n",
      "22    2.0  129.0  31.0   96.0  250.0  55.0  319.0\n",
      "23    2.0  131.0  23.0   67.0  291.0  48.0  310.0\n",
      "24    2.0  110.0  24.0   96.0  239.0  42.0  268.0\n",
      "25    2.0   47.0  22.0   87.0  231.0  40.0  217.0\n",
      "26    2.0  125.0  32.0   87.0  227.0  30.0  324.0\n",
      "27    2.0  129.0  29.0  102.0  234.0  58.0  300.0\n",
      "28    2.0  130.0  26.0  104.0  256.0  58.0  270.0\n",
      "29    2.0  147.0  47.0   82.0  240.0  30.0  322.0\n",
      "30    2.0  159.0  37.0   80.0  227.0  58.0  317.0\n",
      "31    2.0  135.0  41.0   83.0  216.0  39.0  306.0\n",
      "32    2.0  100.0  35.0   83.0  183.0  57.0  242.0\n",
      "33    2.0  149.0  37.0   94.0  227.0  30.0  240.0\n",
      "34    2.0  149.0  38.0   78.0  258.0  42.0  271.0\n",
      "35    2.0  153.0  27.0   89.0  283.0  66.0  291.0\n",
      "36    2.0  136.0  31.0   83.0  257.0  31.0  311.0\n",
      "37    2.0   97.0  36.0  100.0  252.0  30.0  225.0\n",
      "38    2.0  141.0  37.0  105.0  250.0  27.0  243.0\n",
      "39    2.0  164.0  32.0   76.0  187.0  30.0  264.0\n"
     ]
    }
   ],
   "source": [
    "data = np.loadtxt(\"T5_6_PILOT.DAT\", dtype=float)\n",
    "pilot = pd.DataFrame(data[:,:], columns=['GROUP','V1','V2','V3','V4','V5','V6'])\n",
    "print(pilot)"
   ]
  },
  {
   "cell_type": "code",
   "execution_count": 13,
   "id": "02b32603",
   "metadata": {},
   "outputs": [
    {
     "data": {
      "text/plain": [
       "(40, 7)"
      ]
     },
     "execution_count": 13,
     "metadata": {},
     "output_type": "execute_result"
    }
   ],
   "source": [
    "data.shape"
   ]
  },
  {
   "cell_type": "code",
   "execution_count": 14,
   "id": "42f159e8",
   "metadata": {},
   "outputs": [],
   "source": [
    "# pilot_group = pilot.groupby(\"GROUP\", axis=0)      # можна згрупувати"
   ]
  },
  {
   "cell_type": "markdown",
   "id": "811ea4f0",
   "metadata": {},
   "source": [
    "Знайдемо коваріаційну матрицю та її власні числа: "
   ]
  },
  {
   "cell_type": "code",
   "execution_count": 6,
   "id": "8666b9c9",
   "metadata": {},
   "outputs": [
    {
     "name": "stdout",
     "output_type": "stream",
     "text": [
      "[  50.3785  128.9051  261.0769  401.4386  878.3578 1722.0424]\n",
      "[1722.0423839799746, 878.3578310194125, 401.43856237945477, 261.0769331466388, 128.9051485809172, 50.37849986796144]\n",
      "[-0.2117  0.0388 -0.0801 -0.7755  0.0959 -0.5802]\n",
      "[[-0.1068 -0.0476  0.0308 -0.8882 -0.3895 -0.2117]\n",
      " [ 0.9627 -0.1479 -0.1913 -0.0957 -0.0638  0.0388]\n",
      " [ 0.1238  0.9751 -0.1285 -0.0815  0.066  -0.0801]\n",
      " [ 0.063  -0.1089  0.0813 -0.0807  0.608  -0.7755]\n",
      " [ 0.2031  0.1092  0.9681 -0.0149 -0.0105  0.0959]\n",
      " [ 0.0357  0.0364  0.0452  0.4343 -0.6857 -0.5802]]\n"
     ]
    }
   ],
   "source": [
    "S = np.cov(data[:,1:], rowvar = False) \n",
    "eigen_values , eigen_vectors = np.linalg.eigh(S)  # власні числа у зростаючому порядку! \n",
    "a = eigen_vectors                                 # власні вектори \n",
    "lam = eigen_values\n",
    "print(lam)\n",
    "lam2 = sorted(lam, reverse=True)\n",
    "print(lam2)\n",
    "print(a[:,-1]) # власний вектор, який відповідає найбільшому власному числу\n",
    "print(a)"
   ]
  },
  {
   "cell_type": "markdown",
   "id": "f9c1d714",
   "metadata": {},
   "source": [
    "Ці власні вектори нормовані: "
   ]
  },
  {
   "cell_type": "code",
   "execution_count": 7,
   "id": "373c52ea",
   "metadata": {},
   "outputs": [
    {
     "data": {
      "text/plain": [
       "1.0"
      ]
     },
     "execution_count": 7,
     "metadata": {},
     "output_type": "execute_result"
    }
   ],
   "source": [
    "round(np.linalg.norm(a[:,-1]),3)   # нормовані"
   ]
  },
  {
   "cell_type": "markdown",
   "id": "14479e28",
   "metadata": {},
   "source": [
    "Відносна частка власних чисел серед всіх: "
   ]
  },
  {
   "cell_type": "code",
   "execution_count": 8,
   "id": "ca107e1f",
   "metadata": {},
   "outputs": [
    {
     "name": "stdout",
     "output_type": "stream",
     "text": [
      "[0.5, 0.255, 0.117, 0.076, 0.037, 0.015]\n"
     ]
    }
   ],
   "source": [
    "x = []\n",
    "for l in lam: \n",
    "    x = np.append(x,l/sum(lam))\n",
    "x_sorted = sorted(np.round(x,3),reverse=True)\n",
    "print(x_sorted)"
   ]
  },
  {
   "cell_type": "markdown",
   "id": "8c807391",
   "metadata": {},
   "source": [
    "Побудуємо scree-plot: "
   ]
  },
  {
   "cell_type": "code",
   "execution_count": 47,
   "id": "9cb6cb0c",
   "metadata": {},
   "outputs": [
    {
     "data": {
      "text/plain": [
       "[1, 2, 3, 4, 5, 6]"
      ]
     },
     "execution_count": 47,
     "metadata": {},
     "output_type": "execute_result"
    }
   ],
   "source": [
    "c = [i+1 for i  in range(6)]\n",
    "c"
   ]
  },
  {
   "cell_type": "code",
   "execution_count": 52,
   "id": "3fe60d19",
   "metadata": {
    "scrolled": true
   },
   "outputs": [
    {
     "data": {
      "image/png": "[encoded data removed]",
      "text/plain": [
       "<Figure size 432x288 with 1 Axes>"
      ]
     },
     "metadata": {
      "needs_background": "light"
     },
     "output_type": "display_data"
    }
   ],
   "source": [
    "plt.plot(c, lam2)\n",
    "plt.show()"
   ]
  },
  {
   "cell_type": "markdown",
   "id": "66eedd3b",
   "metadata": {},
   "source": [
    "В принципі, перших 2х власних чисел досить, вони несуть 75% інформації (перевіримо далі).  \n",
    "\n",
    "Виконаємо тепер аналіз за допомогою вбудованої функції. "
   ]
  },
  {
   "cell_type": "code",
   "execution_count": 11,
   "id": "7a8d5bc2",
   "metadata": {},
   "outputs": [
    {
     "name": "stdout",
     "output_type": "stream",
     "text": [
      "[[ 0.2117 -0.0388  0.0801  0.7755 -0.0959  0.5802]\n",
      " [-0.3895 -0.0638  0.066   0.608  -0.0105 -0.6857]\n",
      " [-0.8882 -0.0957 -0.0815 -0.0807 -0.0149  0.4343]\n",
      " [ 0.0308 -0.1913 -0.1285  0.0813  0.9681  0.0452]\n",
      " [ 0.0476  0.1479 -0.9751  0.1089 -0.1092 -0.0364]\n",
      " [-0.1068  0.9627  0.1238  0.063   0.2031  0.0357]]\n",
      "[1722.0424  878.3578  401.4386  261.0769  128.9051   50.3785]\n",
      "[0.5003 0.2552 0.1166 0.0758 0.0374 0.0146]\n"
     ]
    }
   ],
   "source": [
    "pca = PCA()\n",
    "pca.fit(data[:,1:])\n",
    "\n",
    "print(pca.components_)\n",
    "print(pca.explained_variance_)\n",
    "print(pca.explained_variance_ratio_)"
   ]
  },
  {
   "cell_type": "code",
   "execution_count": 12,
   "id": "afcbaca7",
   "metadata": {},
   "outputs": [
    {
     "name": "stdout",
     "output_type": "stream",
     "text": [
      "[0.5003 0.7554 0.8721 0.9479 0.9854 1.    ]\n"
     ]
    }
   ],
   "source": [
    "x = np.array([0]*6, dtype = float)\n",
    "y = 0\n",
    "ratio =  pca.explained_variance_ratio_\n",
    "for i in range(0,6):  \n",
    "    y += ratio[i]\n",
    "    x[i]= y\n",
    "print(x)   # 2 перших власних числа складають 75% інформації"
   ]
  },
  {
   "cell_type": "markdown",
   "id": "bc967335",
   "metadata": {},
   "source": [
    "Перетворимо тепер дані, а саме, запишемо дані в нових координатах). "
   ]
  },
  {
   "cell_type": "code",
   "execution_count": 13,
   "id": "7f990df3",
   "metadata": {},
   "outputs": [
    {
     "name": "stdout",
     "output_type": "stream",
     "text": [
      "[ -1.9283 -13.7027  14.8853 -75.9665 -30.281    1.6336 -34.8959 -27.0611\n",
      "  -1.5811 -39.5294 -41.9651 -22.5842  18.2292 -63.259  -72.3117 -25.5215\n",
      " -56.9058  10.203  -57.1504 -24.4924   5.2969   8.8987  59.7344  85.391\n",
      "  19.1112 -30.4688  45.5902  36.5728  36.7169  58.1848  45.2836  27.1989\n",
      " -44.4279   2.3     41.8552  72.7     63.2639   2.4989  21.3537 -12.8698]\n"
     ]
    }
   ],
   "source": [
    "PC_data = pca.fit_transform(data[:,1:])\n",
    "print(PC_data[:,0])    "
   ]
  },
  {
   "cell_type": "markdown",
   "id": "99ca131d",
   "metadata": {},
   "source": [
    "Як це зробити вручну. Спочатку треба центрувати дані, т.б. взяти   $(y - \\bar{y})/ \\sqrt{\\sigma^2}$, і потім вже ці дані записати в нових координатах.  З точністю до знаку, отримаємо PC_data[:,0]. "
   ]
  },
  {
   "cell_type": "code",
   "execution_count": 14,
   "id": "0c8fdbbe",
   "metadata": {},
   "outputs": [
    {
     "name": "stdout",
     "output_type": "stream",
     "text": [
      "[  1.9283  13.7027 -14.8853  75.9665  30.281   -1.6336  34.8959  27.0611\n",
      "   1.5811  39.5294  41.9651  22.5842 -18.2292  63.259   72.3117  25.5215\n",
      "  56.9058 -10.203   57.1504  24.4924  -5.2969  -8.8987 -59.7344 -85.391\n",
      " -19.1112  30.4688 -45.5902 -36.5728 -36.7169 -58.1848 -45.2836 -27.1989\n",
      "  44.4279  -2.3    -41.8552 -72.7    -63.2639  -2.4989 -21.3537  12.8698]\n"
     ]
    }
   ],
   "source": [
    "data_centr = data[:,1:] - np.mean(data[:,1:], axis =0)\n",
    "\n",
    "# тип має бути дійсний, інакше це цілий\n",
    "data_norm = np.array([[0]*len(lam) for _ in range(len(data_centr))], dtype=float)  \n",
    "\n",
    "for j in range(len(lam)):\n",
    "    for i in range(len(data_centr)): \n",
    "        data_norm[i,j] = np.round(data_centr[i,j]/ math.sqrt(lam2[j]), 3)\n",
    "# print(data_norm)\n",
    "Z1 = a[:,-1]\n",
    "Z2 = a[:,-2]\n",
    "PC_1 = data_centr @ Z1\n",
    "PC_2 = data_centr @ Z2\n",
    "print(PC_1)  # це те саме, що рахує pca.fit_transform"
   ]
  },
  {
   "cell_type": "code",
   "execution_count": 15,
   "id": "116923fe",
   "metadata": {},
   "outputs": [
    {
     "name": "stdout",
     "output_type": "stream",
     "text": [
      "                    0\n",
      " 1.928284   15.328181\n",
      " 13.702685 -40.298968\n",
      "-14.885349  61.608587\n",
      " 75.966463  34.205669\n",
      " 30.280972 -26.913875\n"
     ]
    }
   ],
   "source": [
    "PC = pd.DataFrame(PC_2,PC_1)\n",
    "print(PC.head())   # те саме"
   ]
  },
  {
   "cell_type": "markdown",
   "id": "aebf7ca9",
   "metadata": {},
   "source": [
    "Графічне зображення в цих нових координатах. Точки різних груп зобажені різним кольором. "
   ]
  },
  {
   "cell_type": "code",
   "execution_count": 17,
   "id": "08a50f4e",
   "metadata": {},
   "outputs": [
    {
     "data": {
      "image/png": "[encoded data removed]",
      "text/plain": [
       "<Figure size 504x504 with 1 Axes>"
      ]
     },
     "metadata": {
      "needs_background": "light"
     },
     "output_type": "display_data"
    }
   ],
   "source": [
    "fig = plt.figure(figsize=(7,7))\n",
    "ax0 = fig.add_subplot(111)\n",
    "\n",
    "# додаємо точки   \n",
    "ax0.scatter(PC_1[:20],PC_2[:20],c='blue')  \n",
    "ax0.scatter(PC_1[20:40],PC_2[20:40],c='red')  \n",
    "#ax0.scatter(PC_1[20:30],PC_2[20:30],c='green')  \n",
    "#ax0.scatter(PC_1[30:40],PC_2[30:40],c='black')  \n",
    "\n",
    "\n",
    "plt.show() "
   ]
  }
 ],
 "metadata": {
  "kernelspec": {
   "display_name": "Python 3 (ipykernel)",
   "language": "python",
   "name": "python3"
  },
  "language_info": {
   "codemirror_mode": {
    "name": "ipython",
    "version": 3
   },
   "file_extension": ".py",
   "mimetype": "text/x-python",
   "name": "python",
   "nbconvert_exporter": "python",
   "pygments_lexer": "ipython3",
   "version": "3.9.12"
  }
 },
 "nbformat": 4,
 "nbformat_minor": 5
}
