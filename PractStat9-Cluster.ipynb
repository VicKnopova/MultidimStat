{
 "cells": [
  {
   "cell_type": "markdown",
   "id": "d1f2bcc3",
   "metadata": {},
   "source": [
    "## Кластерізація\n",
    "\n",
    "Детальніше можна почитати [тут](https://www.analyticsvidhya.com/blog/2021/06/single-link-hierarchical-clustering-clearly-explained/) та \n",
    "[тут](https://stackabuse.com/hierarchical-clustering-with-python-and-scikit-learn/).   Спочатку завантажимо необхідні бібліотеки. "
   ]
  },
  {
   "cell_type": "code",
   "execution_count": 2,
   "id": "7d4da5c4",
   "metadata": {},
   "outputs": [],
   "source": [
    "import pandas as pd\n",
    "import numpy as np\n",
    "import matplotlib.pyplot as plt\n",
    "#%matplotlib inline\n",
    "import scipy.cluster.hierarchy as shc\n",
    "from scipy.spatial.distance import squareform, pdist,cdist\n",
    "from scipy.cluster.hierarchy import dendrogram, linkage\n",
    "from sklearn.cluster import AgglomerativeClustering"
   ]
  },
  {
   "cell_type": "markdown",
   "id": "2596a916",
   "metadata": {},
   "source": [
    "Розглянемо Приклади 14.3.2(а,b) та 14.3.3  (див. Таблицю 14.1) з Rencher. В таблиці зображені дані по кримінальній ситуації в наступних місцях.  Для простоти ми просто пронумеруємо стовбчики. "
   ]
  },
  {
   "cell_type": "code",
   "execution_count": 3,
   "id": "b92e0a67",
   "metadata": {},
   "outputs": [
    {
     "name": "stdout",
     "output_type": "stream",
     "text": [
      "             0     1     2      3    4     5     6     7      8\n",
      "0      Atlanta   NaN  16.5   24.8  106   147  1112   905  494.0\n",
      "1       Boston   NaN   4.2   13.3  122    90   982   669  954.0\n",
      "2      Chicago   NaN  11.6   24.7  340   242   808   609  645.0\n",
      "3       Dallas   NaN  18.1   34.2  184   293  1668   901  602.0\n",
      "4       Denver   NaN   6.9   41.5  173   191  1534  1368  780.0\n",
      "5      Detroit   NaN  13.0   35.7  477   220  1566  1183  788.0\n",
      "6     Hartford   2.5   8.8   68.0  103  1017   724   468    NaN\n",
      "7     Honolulu   3.6  12.7   42.0   28  1457  1102   637    NaN\n",
      "8      Houston   NaN  16.8   26.6  289   186  1509   787  697.0\n",
      "9           KC   NaN  10.8   43.2  255   226  1494   955  765.0\n",
      "10          LA   NaN   9.7   51.8  286   355  1902  1386  862.0\n",
      "11          NO   NaN  10.3   39.7  266   283  1056  1036  776.0\n",
      "12          NY   NaN   9.4   19.4  522   267  1674  1392  848.0\n",
      "13    Portland   5.0  23.0  157.0  144  1530  1281   488    NaN\n",
      "14      Tucson   NaN   5.1   22.9   85   148  1206   756  482.0\n",
      "15  Washington  12.5  27.6  524.0  217  1496  1003   739    NaN\n"
     ]
    }
   ],
   "source": [
    "path = 'c:/Users/vica/Dropbox/KAU-Stat2/multivariate_analysis/T14_1_CITYCRIME.DAT'\n",
    "#df = pd.DataFrame(path)\n",
    "df = pd.read_table(path, header = None)\n",
    "# data = pd.DataFrame(df1[:,1:], columns=['Y1','Y2','Y3','X1', 'X2', 'X3'])\n",
    "print(df) "
   ]
  },
  {
   "cell_type": "markdown",
   "id": "87ec1de7",
   "metadata": {},
   "source": [
    "Візьмемо перші 6 місць та виконаємо кластерізацію різними методами. "
   ]
  },
  {
   "cell_type": "code",
   "execution_count": 4,
   "id": "641d434c",
   "metadata": {},
   "outputs": [
    {
     "data": {
      "text/html": [
       "<div>\n",
       "<style scoped>\n",
       "    .dataframe tbody tr th:only-of-type {\n",
       "        vertical-align: middle;\n",
       "    }\n",
       "\n",
       "    .dataframe tbody tr th {\n",
       "        vertical-align: top;\n",
       "    }\n",
       "\n",
       "    .dataframe thead th {\n",
       "        text-align: right;\n",
       "    }\n",
       "</style>\n",
       "<table border=\"1\" class=\"dataframe\">\n",
       "  <thead>\n",
       "    <tr style=\"text-align: right;\">\n",
       "      <th></th>\n",
       "      <th>city</th>\n",
       "      <th>c1</th>\n",
       "      <th>c2</th>\n",
       "      <th>c3</th>\n",
       "      <th>c4</th>\n",
       "      <th>c5</th>\n",
       "      <th>c6</th>\n",
       "      <th>c7</th>\n",
       "    </tr>\n",
       "  </thead>\n",
       "  <tbody>\n",
       "    <tr>\n",
       "      <th>0</th>\n",
       "      <td>Atlanta</td>\n",
       "      <td>16.5</td>\n",
       "      <td>24.8</td>\n",
       "      <td>106</td>\n",
       "      <td>147</td>\n",
       "      <td>1112</td>\n",
       "      <td>905</td>\n",
       "      <td>494</td>\n",
       "    </tr>\n",
       "    <tr>\n",
       "      <th>1</th>\n",
       "      <td>Boston</td>\n",
       "      <td>4.2</td>\n",
       "      <td>13.3</td>\n",
       "      <td>122</td>\n",
       "      <td>90</td>\n",
       "      <td>982</td>\n",
       "      <td>669</td>\n",
       "      <td>954</td>\n",
       "    </tr>\n",
       "    <tr>\n",
       "      <th>2</th>\n",
       "      <td>Chicago</td>\n",
       "      <td>11.6</td>\n",
       "      <td>24.7</td>\n",
       "      <td>340</td>\n",
       "      <td>242</td>\n",
       "      <td>808</td>\n",
       "      <td>609</td>\n",
       "      <td>645</td>\n",
       "    </tr>\n",
       "    <tr>\n",
       "      <th>3</th>\n",
       "      <td>Dallas</td>\n",
       "      <td>18.1</td>\n",
       "      <td>34.2</td>\n",
       "      <td>184</td>\n",
       "      <td>293</td>\n",
       "      <td>1668</td>\n",
       "      <td>901</td>\n",
       "      <td>602</td>\n",
       "    </tr>\n",
       "    <tr>\n",
       "      <th>4</th>\n",
       "      <td>Denver</td>\n",
       "      <td>6.9</td>\n",
       "      <td>41.5</td>\n",
       "      <td>173</td>\n",
       "      <td>191</td>\n",
       "      <td>1534</td>\n",
       "      <td>1368</td>\n",
       "      <td>780</td>\n",
       "    </tr>\n",
       "    <tr>\n",
       "      <th>5</th>\n",
       "      <td>Detroit</td>\n",
       "      <td>13.0</td>\n",
       "      <td>35.7</td>\n",
       "      <td>477</td>\n",
       "      <td>220</td>\n",
       "      <td>1566</td>\n",
       "      <td>1183</td>\n",
       "      <td>788</td>\n",
       "    </tr>\n",
       "  </tbody>\n",
       "</table>\n",
       "</div>"
      ],
      "text/plain": [
       "      city    c1    c2   c3   c4    c5    c6   c7\n",
       "0  Atlanta  16.5  24.8  106  147  1112   905  494\n",
       "1   Boston   4.2  13.3  122   90   982   669  954\n",
       "2  Chicago  11.6  24.7  340  242   808   609  645\n",
       "3   Dallas  18.1  34.2  184  293  1668   901  602\n",
       "4   Denver   6.9  41.5  173  191  1534  1368  780\n",
       "5  Detroit  13.0  35.7  477  220  1566  1183  788"
      ]
     },
     "execution_count": 4,
     "metadata": {},
     "output_type": "execute_result"
    }
   ],
   "source": [
    "df1 = pd.read_table(path, nrows = 6, usecols=[0, 2,3,4,5,6,7,8],  \\\n",
    "                    names=['city', 'c1', 'c2', 'c3', 'c4', 'c5', 'c6','c7'])\n",
    "df1"
   ]
  },
  {
   "cell_type": "markdown",
   "id": "75408276",
   "metadata": {},
   "source": [
    "Спочатку проіндексуємо множину за містами. "
   ]
  },
  {
   "cell_type": "code",
   "execution_count": 5,
   "id": "f55d229a",
   "metadata": {},
   "outputs": [
    {
     "data": {
      "text/html": [
       "<div>\n",
       "<style scoped>\n",
       "    .dataframe tbody tr th:only-of-type {\n",
       "        vertical-align: middle;\n",
       "    }\n",
       "\n",
       "    .dataframe tbody tr th {\n",
       "        vertical-align: top;\n",
       "    }\n",
       "\n",
       "    .dataframe thead th {\n",
       "        text-align: right;\n",
       "    }\n",
       "</style>\n",
       "<table border=\"1\" class=\"dataframe\">\n",
       "  <thead>\n",
       "    <tr style=\"text-align: right;\">\n",
       "      <th></th>\n",
       "      <th>c1</th>\n",
       "      <th>c2</th>\n",
       "      <th>c3</th>\n",
       "      <th>c4</th>\n",
       "      <th>c5</th>\n",
       "      <th>c6</th>\n",
       "      <th>c7</th>\n",
       "    </tr>\n",
       "    <tr>\n",
       "      <th>city</th>\n",
       "      <th></th>\n",
       "      <th></th>\n",
       "      <th></th>\n",
       "      <th></th>\n",
       "      <th></th>\n",
       "      <th></th>\n",
       "      <th></th>\n",
       "    </tr>\n",
       "  </thead>\n",
       "  <tbody>\n",
       "    <tr>\n",
       "      <th>Atlanta</th>\n",
       "      <td>16.5</td>\n",
       "      <td>24.8</td>\n",
       "      <td>106</td>\n",
       "      <td>147</td>\n",
       "      <td>1112</td>\n",
       "      <td>905</td>\n",
       "      <td>494</td>\n",
       "    </tr>\n",
       "    <tr>\n",
       "      <th>Boston</th>\n",
       "      <td>4.2</td>\n",
       "      <td>13.3</td>\n",
       "      <td>122</td>\n",
       "      <td>90</td>\n",
       "      <td>982</td>\n",
       "      <td>669</td>\n",
       "      <td>954</td>\n",
       "    </tr>\n",
       "    <tr>\n",
       "      <th>Chicago</th>\n",
       "      <td>11.6</td>\n",
       "      <td>24.7</td>\n",
       "      <td>340</td>\n",
       "      <td>242</td>\n",
       "      <td>808</td>\n",
       "      <td>609</td>\n",
       "      <td>645</td>\n",
       "    </tr>\n",
       "    <tr>\n",
       "      <th>Dallas</th>\n",
       "      <td>18.1</td>\n",
       "      <td>34.2</td>\n",
       "      <td>184</td>\n",
       "      <td>293</td>\n",
       "      <td>1668</td>\n",
       "      <td>901</td>\n",
       "      <td>602</td>\n",
       "    </tr>\n",
       "    <tr>\n",
       "      <th>Denver</th>\n",
       "      <td>6.9</td>\n",
       "      <td>41.5</td>\n",
       "      <td>173</td>\n",
       "      <td>191</td>\n",
       "      <td>1534</td>\n",
       "      <td>1368</td>\n",
       "      <td>780</td>\n",
       "    </tr>\n",
       "    <tr>\n",
       "      <th>Detroit</th>\n",
       "      <td>13.0</td>\n",
       "      <td>35.7</td>\n",
       "      <td>477</td>\n",
       "      <td>220</td>\n",
       "      <td>1566</td>\n",
       "      <td>1183</td>\n",
       "      <td>788</td>\n",
       "    </tr>\n",
       "  </tbody>\n",
       "</table>\n",
       "</div>"
      ],
      "text/plain": [
       "           c1    c2   c3   c4    c5    c6   c7\n",
       "city                                          \n",
       "Atlanta  16.5  24.8  106  147  1112   905  494\n",
       "Boston    4.2  13.3  122   90   982   669  954\n",
       "Chicago  11.6  24.7  340  242   808   609  645\n",
       "Dallas   18.1  34.2  184  293  1668   901  602\n",
       "Denver    6.9  41.5  173  191  1534  1368  780\n",
       "Detroit  13.0  35.7  477  220  1566  1183  788"
      ]
     },
     "execution_count": 5,
     "metadata": {},
     "output_type": "execute_result"
    }
   ],
   "source": [
    "df1 = df1.set_index('city') \n",
    "df1"
   ]
  },
  {
   "cell_type": "markdown",
   "id": "a49bbcb8",
   "metadata": {},
   "source": [
    "Тепер обчислими відстань між містами, використовуючи евклідову метрику в просторі розмірності 7. "
   ]
  },
  {
   "cell_type": "code",
   "execution_count": 20,
   "id": "1367946e",
   "metadata": {},
   "outputs": [
    {
     "data": {
      "text/plain": [
       "array([ 536.6419104 ,  516.37004173,  590.17532988,  693.57411284,\n",
       "        716.19624406,  447.40330799,  833.07083732,  914.97843144,\n",
       "        881.0858074 ,  924.00351731, 1073.39476895,  971.52712777,\n",
       "        527.66725311,  464.46771685,  358.66537329])"
      ]
     },
     "execution_count": 20,
     "metadata": {},
     "output_type": "execute_result"
    }
   ],
   "source": [
    "pdist(df1, 'euclidean')"
   ]
  },
  {
   "cell_type": "markdown",
   "id": "4e8e3811",
   "metadata": {},
   "source": [
    "Перетворимо ці дані в квадратну матрицю. "
   ]
  },
  {
   "cell_type": "code",
   "execution_count": 22,
   "id": "19fed664",
   "metadata": {},
   "outputs": [
    {
     "data": {
      "text/html": [
       "<div>\n",
       "<style scoped>\n",
       "    .dataframe tbody tr th:only-of-type {\n",
       "        vertical-align: middle;\n",
       "    }\n",
       "\n",
       "    .dataframe tbody tr th {\n",
       "        vertical-align: top;\n",
       "    }\n",
       "\n",
       "    .dataframe thead th {\n",
       "        text-align: right;\n",
       "    }\n",
       "</style>\n",
       "<table border=\"1\" class=\"dataframe\">\n",
       "  <thead>\n",
       "    <tr style=\"text-align: right;\">\n",
       "      <th></th>\n",
       "      <th>Atlanta</th>\n",
       "      <th>Boston</th>\n",
       "      <th>Chicago</th>\n",
       "      <th>Dallas</th>\n",
       "      <th>Denver</th>\n",
       "      <th>Detroit</th>\n",
       "    </tr>\n",
       "  </thead>\n",
       "  <tbody>\n",
       "    <tr>\n",
       "      <th>Atlanta</th>\n",
       "      <td>0.0</td>\n",
       "      <td>536.6</td>\n",
       "      <td>516.4</td>\n",
       "      <td>590.2</td>\n",
       "      <td>693.6</td>\n",
       "      <td>716.2</td>\n",
       "    </tr>\n",
       "    <tr>\n",
       "      <th>Boston</th>\n",
       "      <td>536.6</td>\n",
       "      <td>0.0</td>\n",
       "      <td>447.4</td>\n",
       "      <td>833.1</td>\n",
       "      <td>915.0</td>\n",
       "      <td>881.1</td>\n",
       "    </tr>\n",
       "    <tr>\n",
       "      <th>Chicago</th>\n",
       "      <td>516.4</td>\n",
       "      <td>447.4</td>\n",
       "      <td>0.0</td>\n",
       "      <td>924.0</td>\n",
       "      <td>1073.4</td>\n",
       "      <td>971.5</td>\n",
       "    </tr>\n",
       "    <tr>\n",
       "      <th>Dallas</th>\n",
       "      <td>590.2</td>\n",
       "      <td>833.1</td>\n",
       "      <td>924.0</td>\n",
       "      <td>0.0</td>\n",
       "      <td>527.7</td>\n",
       "      <td>464.5</td>\n",
       "    </tr>\n",
       "    <tr>\n",
       "      <th>Denver</th>\n",
       "      <td>693.6</td>\n",
       "      <td>915.0</td>\n",
       "      <td>1073.4</td>\n",
       "      <td>527.7</td>\n",
       "      <td>0.0</td>\n",
       "      <td>358.7</td>\n",
       "    </tr>\n",
       "    <tr>\n",
       "      <th>Detroit</th>\n",
       "      <td>716.2</td>\n",
       "      <td>881.1</td>\n",
       "      <td>971.5</td>\n",
       "      <td>464.5</td>\n",
       "      <td>358.7</td>\n",
       "      <td>0.0</td>\n",
       "    </tr>\n",
       "  </tbody>\n",
       "</table>\n",
       "</div>"
      ],
      "text/plain": [
       "         Atlanta  Boston  Chicago  Dallas  Denver  Detroit\n",
       "Atlanta      0.0   536.6    516.4   590.2   693.6    716.2\n",
       "Boston     536.6     0.0    447.4   833.1   915.0    881.1\n",
       "Chicago    516.4   447.4      0.0   924.0  1073.4    971.5\n",
       "Dallas     590.2   833.1    924.0     0.0   527.7    464.5\n",
       "Denver     693.6   915.0   1073.4   527.7     0.0    358.7\n",
       "Detroit    716.2   881.1    971.5   464.5   358.7      0.0"
      ]
     },
     "execution_count": 22,
     "metadata": {},
     "output_type": "execute_result"
    }
   ],
   "source": [
    "dist1 = pd.DataFrame(squareform(pdist(df1, 'euclidean')), columns=df1.index.values,index=df1.index.values).round(decimals = 1)\n",
    "dist1"
   ]
  },
  {
   "cell_type": "markdown",
   "id": "a7928b37",
   "metadata": {},
   "source": [
    "Зробимо тепер кластеразацію **методом найближчого сусіда**. При цьому ми обчислюємо відстань між кластерами наступним чином: \n",
    "$$ \n",
    "\tD(A,B)= \\max\\{ d(y_i,y_j): \\quad y_i\\in A, \\quad y_j\\in B\\}, \n",
    "$$\n",
    "Два кластери, у яких $D(A,B)$  мінімальне, об'єднуют в один. \n",
    "    \n",
    "Побудуємо дендрограму методом найближчого сусіда."
   ]
  },
  {
   "cell_type": "code",
   "execution_count": 23,
   "id": "0bdd836a",
   "metadata": {},
   "outputs": [
    {
     "data": {
      "image/png": "[encoded data removed]",
      "text/plain": [
       "<Figure size 504x288 with 1 Axes>"
      ]
     },
     "metadata": {
      "needs_background": "light"
     },
     "output_type": "display_data"
    }
   ],
   "source": [
    "linked = linkage(df1, 'single')\n",
    "plt.figure(figsize=(7, 4))\n",
    "dendrogram(linked,\n",
    "            orientation='top',\n",
    "            labels=df1.index.values,\n",
    "            distance_sort='descending',\n",
    "            show_leaf_counts=True)\n",
    "plt.show()"
   ]
  },
  {
   "cell_type": "markdown",
   "id": "6d54b134",
   "metadata": {},
   "source": [
    "Перерахуємо кластери в порядку групування: \n",
    "    \n",
    "1. $C_1 = \\{$ Detroit, Denver$\\}$,\n",
    "\n",
    "2. $C_2 = \\{$ Chicago, Boston$\\}$,\n",
    "\n",
    "3. $C_3 = \\{$ $C_1$, Dallas$\\}$,\n",
    "\n",
    "4. $C_4 = \\{$ $C_2$, Athlanta$\\}$, \n",
    "\n",
    "5. $C_3 = \\{$ $C_3$, $C_3 \\}$. \n",
    "\n",
    "Порівняємо результати з кластерізацієй методами найшвидшого сусіда, усереднення,   ['complete', 'average', 'centroid', 'ward'] Див. [тут](https://github.com/scipy/scipy/blob/v1.8.0/scipy/cluster/hierarchy.py#L837-L1081)\n",
    "\n",
    "\n",
    "\t\n",
    "**Метод найшвидшого сусіда (fastest neighbour method).** \n",
    "\t\n",
    "$$ \n",
    "D(A,B)= \\max\\{ d(y_i,y_j): \\quad y_i\\in A, \\quad y_j\\in B\\}, \n",
    "$$\n",
    "Два кластери, у яких $D(A,B)$  мінімальне, об'єднуют в один. \n",
    "\t\n",
    "**Метод середньої відстані (average linkage  method).**  \n",
    "\t\n",
    "$$ \n",
    "D(A,B)= \\frac{1}{n_A n_B} \\sum_{i=1}^{n_A} \\sum_{j=1}^{n_B}  d(y_i,y_j). \n",
    "$$\n",
    "Так само: два кластери, у яких  відстань  $D(A,B)$  мінімальна, об'єднуют в один. \n",
    "\t\n",
    "\t\n",
    "**Метод центроїда (centroid   method).**  \n",
    "\t\n",
    "$$ \n",
    "D(A,B)= d(\\bar{y}_A, \\bar{y}_B), \\quad \\bar{y}_A :=\n",
    "\t\\frac{1}{n_A} \\sum_{i=1}^{n_A} y_{i}.\n",
    "$$\n",
    "Об'єднуємо в один  два кластери, у яких  відстань  $D(A,B)$  мінімальна, та обираємо новий центр за формулою \n",
    "$$\n",
    "\\bar{y}_{AB} =\\frac{n_A \\bar{y}_A + n_B \\bar{y}_B}{n_A+n_B}. \n",
    "$$"
   ]
  },
  {
   "cell_type": "code",
   "execution_count": 27,
   "id": "498878e4",
   "metadata": {},
   "outputs": [
    {
     "data": {
      "image/png": "[encoded data removed]",
      "text/plain": [
       "<Figure size 504x288 with 1 Axes>"
      ]
     },
     "metadata": {
      "needs_background": "light"
     },
     "output_type": "display_data"
    }
   ],
   "source": [
    "linked = linkage(df1, 'complete')\n",
    "plt.figure(figsize=(7, 4))\n",
    "dendrogram(linked,\n",
    "            orientation='top',\n",
    "            labels=df1.index.values,\n",
    "            distance_sort='descending',\n",
    "            show_leaf_counts=True)\n",
    "plt.show()"
   ]
  },
  {
   "cell_type": "markdown",
   "id": "1818d7e0",
   "metadata": {},
   "source": [
    "При цьому  розбиття на кластери таке саме, як і при кластерізації методом найближчого сусіда. "
   ]
  },
  {
   "cell_type": "code",
   "execution_count": 72,
   "id": "d14ed69c",
   "metadata": {},
   "outputs": [
    {
     "data": {
      "image/png": "[encoded data removed]",
      "text/plain": [
       "<Figure size 504x288 with 1 Axes>"
      ]
     },
     "metadata": {
      "needs_background": "light"
     },
     "output_type": "display_data"
    }
   ],
   "source": [
    "linked = linkage(df1, 'ward')\n",
    "plt.figure(figsize=(7, 4))\n",
    "dendrogram(linked,\n",
    "            orientation='top',\n",
    "            labels=df1.index.values,\n",
    "            distance_sort='descending',\n",
    "            show_leaf_counts=True)\n",
    "plt.show()"
   ]
  },
  {
   "cell_type": "markdown",
   "id": "edd56ff0",
   "metadata": {},
   "source": [
    "Зобразимо на одній картинці дендрограми, побудовані різними способами. "
   ]
  },
  {
   "cell_type": "code",
   "execution_count": 94,
   "id": "b33f07fd",
   "metadata": {},
   "outputs": [
    {
     "data": {
      "image/png": "[encoded data removed]",
      "text/plain": [
       "<Figure size 576x576 with 7 Axes>"
      ]
     },
     "metadata": {
      "needs_background": "light"
     },
     "output_type": "display_data"
    }
   ],
   "source": [
    "methods = ['single', 'complete', 'average', 'weighted', 'centroid', 'median', 'ward']\n",
    "\n",
    "fig, axs = plt.subplots(len(methods),figsize=(8,8))\n",
    "\n",
    "for i in range(len(methods)):\n",
    "    dendrogram(linkage(df1, method=methods[i]), ax = axs[i])"
   ]
  },
  {
   "cell_type": "code",
   "execution_count": 118,
   "id": "b6ae35e9",
   "metadata": {},
   "outputs": [
    {
     "data": {
      "text/html": [
       "<div>\n",
       "<style scoped>\n",
       "    .dataframe tbody tr th:only-of-type {\n",
       "        vertical-align: middle;\n",
       "    }\n",
       "\n",
       "    .dataframe tbody tr th {\n",
       "        vertical-align: top;\n",
       "    }\n",
       "\n",
       "    .dataframe thead th {\n",
       "        text-align: right;\n",
       "    }\n",
       "</style>\n",
       "<table border=\"1\" class=\"dataframe\">\n",
       "  <thead>\n",
       "    <tr style=\"text-align: right;\">\n",
       "      <th></th>\n",
       "      <th>c1</th>\n",
       "      <th>c2</th>\n",
       "      <th>c3</th>\n",
       "      <th>c4</th>\n",
       "      <th>c5</th>\n",
       "      <th>c6</th>\n",
       "      <th>c7</th>\n",
       "    </tr>\n",
       "    <tr>\n",
       "      <th>city</th>\n",
       "      <th></th>\n",
       "      <th></th>\n",
       "      <th></th>\n",
       "      <th></th>\n",
       "      <th></th>\n",
       "      <th></th>\n",
       "      <th></th>\n",
       "    </tr>\n",
       "  </thead>\n",
       "  <tbody>\n",
       "    <tr>\n",
       "      <th>Atlanta</th>\n",
       "      <td>16.5</td>\n",
       "      <td>24.8</td>\n",
       "      <td>106</td>\n",
       "      <td>147</td>\n",
       "      <td>1112</td>\n",
       "      <td>905</td>\n",
       "      <td>494</td>\n",
       "    </tr>\n",
       "    <tr>\n",
       "      <th>Boston</th>\n",
       "      <td>4.2</td>\n",
       "      <td>13.3</td>\n",
       "      <td>122</td>\n",
       "      <td>90</td>\n",
       "      <td>982</td>\n",
       "      <td>669</td>\n",
       "      <td>954</td>\n",
       "    </tr>\n",
       "    <tr>\n",
       "      <th>Chicago</th>\n",
       "      <td>11.6</td>\n",
       "      <td>24.7</td>\n",
       "      <td>340</td>\n",
       "      <td>242</td>\n",
       "      <td>808</td>\n",
       "      <td>609</td>\n",
       "      <td>645</td>\n",
       "    </tr>\n",
       "    <tr>\n",
       "      <th>Dallas</th>\n",
       "      <td>18.1</td>\n",
       "      <td>34.2</td>\n",
       "      <td>184</td>\n",
       "      <td>293</td>\n",
       "      <td>1668</td>\n",
       "      <td>901</td>\n",
       "      <td>602</td>\n",
       "    </tr>\n",
       "  </tbody>\n",
       "</table>\n",
       "</div>"
      ],
      "text/plain": [
       "           c1    c2   c3   c4    c5   c6   c7\n",
       "city                                         \n",
       "Atlanta  16.5  24.8  106  147  1112  905  494\n",
       "Boston    4.2  13.3  122   90   982  669  954\n",
       "Chicago  11.6  24.7  340  242   808  609  645\n",
       "Dallas   18.1  34.2  184  293  1668  901  602"
      ]
     },
     "execution_count": 118,
     "metadata": {},
     "output_type": "execute_result"
    }
   ],
   "source": [
    "df2= df1.loc[:'Dallas',:]\n",
    "df2"
   ]
  },
  {
   "cell_type": "code",
   "execution_count": 119,
   "id": "d1f3547c",
   "metadata": {},
   "outputs": [
    {
     "data": {
      "text/html": [
       "<div>\n",
       "<style scoped>\n",
       "    .dataframe tbody tr th:only-of-type {\n",
       "        vertical-align: middle;\n",
       "    }\n",
       "\n",
       "    .dataframe tbody tr th {\n",
       "        vertical-align: top;\n",
       "    }\n",
       "\n",
       "    .dataframe thead th {\n",
       "        text-align: right;\n",
       "    }\n",
       "</style>\n",
       "<table border=\"1\" class=\"dataframe\">\n",
       "  <thead>\n",
       "    <tr style=\"text-align: right;\">\n",
       "      <th></th>\n",
       "      <th>c1</th>\n",
       "      <th>c2</th>\n",
       "      <th>c3</th>\n",
       "      <th>c4</th>\n",
       "      <th>c5</th>\n",
       "      <th>c6</th>\n",
       "      <th>c7</th>\n",
       "    </tr>\n",
       "    <tr>\n",
       "      <th>city</th>\n",
       "      <th></th>\n",
       "      <th></th>\n",
       "      <th></th>\n",
       "      <th></th>\n",
       "      <th></th>\n",
       "      <th></th>\n",
       "      <th></th>\n",
       "    </tr>\n",
       "  </thead>\n",
       "  <tbody>\n",
       "    <tr>\n",
       "      <th>Denver</th>\n",
       "      <td>6.9</td>\n",
       "      <td>41.5</td>\n",
       "      <td>173</td>\n",
       "      <td>191</td>\n",
       "      <td>1534</td>\n",
       "      <td>1368</td>\n",
       "      <td>780</td>\n",
       "    </tr>\n",
       "    <tr>\n",
       "      <th>Detroit</th>\n",
       "      <td>13.0</td>\n",
       "      <td>35.7</td>\n",
       "      <td>477</td>\n",
       "      <td>220</td>\n",
       "      <td>1566</td>\n",
       "      <td>1183</td>\n",
       "      <td>788</td>\n",
       "    </tr>\n",
       "  </tbody>\n",
       "</table>\n",
       "</div>"
      ],
      "text/plain": [
       "           c1    c2   c3   c4    c5    c6   c7\n",
       "city                                          \n",
       "Denver    6.9  41.5  173  191  1534  1368  780\n",
       "Detroit  13.0  35.7  477  220  1566  1183  788"
      ]
     },
     "execution_count": 119,
     "metadata": {},
     "output_type": "execute_result"
    }
   ],
   "source": [
    "df3= df1.loc['Denver':'Detroit',:]\n",
    "df3"
   ]
  },
  {
   "cell_type": "code",
   "execution_count": 144,
   "id": "dbe7f6e2",
   "metadata": {},
   "outputs": [
    {
     "data": {
      "text/html": [
       "<div>\n",
       "<style scoped>\n",
       "    .dataframe tbody tr th:only-of-type {\n",
       "        vertical-align: middle;\n",
       "    }\n",
       "\n",
       "    .dataframe tbody tr th {\n",
       "        vertical-align: top;\n",
       "    }\n",
       "\n",
       "    .dataframe thead th {\n",
       "        text-align: right;\n",
       "    }\n",
       "</style>\n",
       "<table border=\"1\" class=\"dataframe\">\n",
       "  <thead>\n",
       "    <tr style=\"text-align: right;\">\n",
       "      <th></th>\n",
       "      <th>0</th>\n",
       "      <th>1</th>\n",
       "      <th>2</th>\n",
       "      <th>3</th>\n",
       "    </tr>\n",
       "  </thead>\n",
       "  <tbody>\n",
       "    <tr>\n",
       "      <th>0</th>\n",
       "      <td>693.574113</td>\n",
       "      <td>914.978431</td>\n",
       "      <td>1073.394769</td>\n",
       "      <td>527.667253</td>\n",
       "    </tr>\n",
       "    <tr>\n",
       "      <th>1</th>\n",
       "      <td>716.196244</td>\n",
       "      <td>881.085807</td>\n",
       "      <td>971.527128</td>\n",
       "      <td>464.467717</td>\n",
       "    </tr>\n",
       "  </tbody>\n",
       "</table>\n",
       "</div>"
      ],
      "text/plain": [
       "            0           1            2           3\n",
       "0  693.574113  914.978431  1073.394769  527.667253\n",
       "1  716.196244  881.085807   971.527128  464.467717"
      ]
     },
     "execution_count": 144,
     "metadata": {},
     "output_type": "execute_result"
    }
   ],
   "source": [
    "dist2 = pd.DataFrame(cdist(df3,df2,'euclidean'))\n",
    "dist2"
   ]
  },
  {
   "cell_type": "code",
   "execution_count": 134,
   "id": "f734ad34",
   "metadata": {},
   "outputs": [
    {
     "data": {
      "text/plain": [
       "array([[ 693.57411284,  716.19624406],\n",
       "       [ 914.97843144,  881.0858074 ],\n",
       "       [1073.39476895,  971.52712777],\n",
       "       [ 527.66725311,  464.46771685]])"
      ]
     },
     "execution_count": 134,
     "metadata": {},
     "output_type": "execute_result"
    }
   ],
   "source": [
    "cdist(df2,df3,'euclidean')"
   ]
  },
  {
   "cell_type": "code",
   "execution_count": 95,
   "id": "f451f86b",
   "metadata": {},
   "outputs": [
    {
     "data": {
      "text/plain": [
       "AgglomerativeClustering(compute_distances=True, linkage='single')"
      ]
     },
     "execution_count": 95,
     "metadata": {},
     "output_type": "execute_result"
    }
   ],
   "source": [
    "clustering = AgglomerativeClustering(n_clusters=2, linkage = 'single', compute_distances = True).fit(df1) \n",
    "clustering"
   ]
  }
 ],
 "metadata": {
  "kernelspec": {
   "display_name": "Python 3 (ipykernel)",
   "language": "python",
   "name": "python3"
  },
  "language_info": {
   "codemirror_mode": {
    "name": "ipython",
    "version": 3
   },
   "file_extension": ".py",
   "mimetype": "text/x-python",
   "name": "python",
   "nbconvert_exporter": "python",
   "pygments_lexer": "ipython3",
   "version": "3.9.12"
  }
 },
 "nbformat": 4,
 "nbformat_minor": 5
}
